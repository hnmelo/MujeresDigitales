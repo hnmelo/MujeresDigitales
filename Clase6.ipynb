{
  "nbformat": 4,
  "nbformat_minor": 0,
  "metadata": {
    "colab": {
      "name": "Clase6.ipynb",
      "provenance": [],
      "authorship_tag": "ABX9TyMnw59ggy8hwqaKb/mMD/vZ",
      "include_colab_link": true
    },
    "kernelspec": {
      "name": "python3",
      "display_name": "Python 3"
    },
    "language_info": {
      "name": "python"
    }
  },
  "cells": [
    {
      "cell_type": "markdown",
      "metadata": {
        "id": "view-in-github",
        "colab_type": "text"
      },
      "source": [
        "<a href=\"https://colab.research.google.com/github/hnmelo/MujeresDigitales/blob/main/Clase6.ipynb\" target=\"_parent\"><img src=\"https://colab.research.google.com/assets/colab-badge.svg\" alt=\"Open In Colab\"/></a>"
      ]
    },
    {
      "cell_type": "markdown",
      "metadata": {
        "id": "ACGM2Vixorgr"
      },
      "source": [
        "**CONTINUACIÓN DE LOS EJEMPLOS DEL USO DE LISTA DE COMPRENSIÓN**\n",
        "\n",
        "---\n",
        "COMPRENSIÓN DE CONJUNTOS\n",
        "\n",
        "---\n",
        "La comprensión es muy similar a la que veníamos manejando con Lista. La única diferencia es que se usa los corchetes ({}).\n",
        "\n",
        "Recordemos que los conjuntos también denominados *sets* no permiten duplicados, es decir, cada elemento es único. Si se llega a añadir un elemento repetido, no arrojará error, pero no se mostrará en el print.\n",
        "\n",
        "**Ejemplo**"
      ]
    },
    {
      "cell_type": "code",
      "metadata": {
        "colab": {
          "base_uri": "https://localhost:8080/"
        },
        "id": "zZCJuhNbpm_l",
        "outputId": "38dcaba3-62bd-4790-8771-db0106ab08fb"
      },
      "source": [
        "sa=\"ema ama a mama\"\n",
        "sa2={i for i in sa if i==\"m\"}\n",
        "print(sa2)"
      ],
      "execution_count": 1,
      "outputs": [
        {
          "output_type": "stream",
          "text": [
            "{'m'}\n"
          ],
          "name": "stdout"
        }
      ]
    },
    {
      "cell_type": "markdown",
      "metadata": {
        "id": "wVh4iOg5qcvm"
      },
      "source": [
        "Ahora, veamos a continuación el caso de diccionarios de comprensión. La única diferencia que tiene respecto a las listas o conjuntos de comprensión es la especificación de llaves claves(key).\n"
      ]
    },
    {
      "cell_type": "code",
      "metadata": {
        "colab": {
          "base_uri": "https://localhost:8080/"
        },
        "id": "qQOXCUnwq67h",
        "outputId": "becc862e-b9a9-466a-c756-7b2a370ffae7"
      },
      "source": [
        "lista=['nombre','apellido','ciudad']\n",
        "lista2=['Ana','Rodriguez','Popayan']\n",
        "\n",
        "dict={i:j for i,j in zip(lista,lista2)}\n",
        "print(dict) "
      ],
      "execution_count": 3,
      "outputs": [
        {
          "output_type": "stream",
          "text": [
            "{'nombre': 'Ana', 'apellido': 'Rodriguez', 'ciudad': 'Popayan'}\n"
          ],
          "name": "stdout"
        }
      ]
    },
    {
      "cell_type": "markdown",
      "metadata": {
        "id": "dVvM_Cc3r39V"
      },
      "source": [
        "Pudimos observar que añadiendo: \n",
        "\n",
        "Asignamos un valor a la llave declarada, a su vez, usamos zip() el cual tiene como función iterar dos listas en paralelo. Es decir, con zip podemos convertir dos listas en un diccionario y el for se manejaría iterando dos valores en simultaneo."
      ]
    },
    {
      "cell_type": "markdown",
      "metadata": {
        "id": "oQa7K-Jyscnl"
      },
      "source": [
        "**OTRAS ESTRUCTURAS DE CONTROL**\n",
        "\n",
        "---\n",
        "1. switch\n",
        "2. Break\n",
        "3. Continue\n",
        "4. Complemento de iteración (Enumerate).\n",
        "\n",
        "**1. Switch**\n",
        "\n",
        "El switch es una herramienta permite ejecutar diferentes secciones del código, dependiendo de las condiciones impuestas.\n",
        "\n",
        "Su función es muy similar a usar if anidados o varios por separado al mismo tiempo.\n",
        "\n",
        "\n",
        "Sin embargo, en Python no hay un switch directo. \n",
        "\n",
        "**2. Break**\n",
        "\n",
        "Nos permite alterar el comportamiento de los ciclos de while y for. Directamente su función es la de finalizar los ciclos."
      ]
    },
    {
      "cell_type": "code",
      "metadata": {
        "colab": {
          "base_uri": "https://localhost:8080/"
        },
        "id": "t0dBE80Kty49",
        "outputId": "efd742a6-d50a-477b-bc30-693560470fd8"
      },
      "source": [
        "x=\"Andrea\"\n",
        "for i in x:\n",
        "  if i==\"e\":\n",
        "    print(\"Se obtuvo la letra e\")\n",
        "    break\n",
        "  print(i)"
      ],
      "execution_count": 11,
      "outputs": [
        {
          "output_type": "stream",
          "text": [
            "A\n",
            "n\n",
            "d\n",
            "r\n",
            "Se obtuvo la letra e\n"
          ],
          "name": "stdout"
        }
      ]
    },
    {
      "cell_type": "code",
      "metadata": {
        "id": "T0A4A4zAvCld"
      },
      "source": [
        "x=15\n",
        "while True:\n",
        "  x -=1\n",
        "  print(x)\n",
        "  id x==0:\n",
        "    break"
      ],
      "execution_count": null,
      "outputs": []
    }
  ]
}