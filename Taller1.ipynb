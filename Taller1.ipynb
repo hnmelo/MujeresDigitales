{
  "nbformat": 4,
  "nbformat_minor": 0,
  "metadata": {
    "colab": {
      "name": "Untitled7.ipynb",
      "provenance": [],
      "authorship_tag": "ABX9TyPYFqEW8USVDBStXw43HRmf",
      "include_colab_link": true
    },
    "kernelspec": {
      "name": "python3",
      "display_name": "Python 3"
    },
    "language_info": {
      "name": "python"
    }
  },
  "cells": [
    {
      "cell_type": "markdown",
      "metadata": {
        "id": "view-in-github",
        "colab_type": "text"
      },
      "source": [
        "<a href=\"https://colab.research.google.com/github/hnmelo/MujeresDigitales/blob/main/Taller1.ipynb\" target=\"_parent\"><img src=\"https://colab.research.google.com/assets/colab-badge.svg\" alt=\"Open In Colab\"/></a>"
      ]
    },
    {
      "cell_type": "markdown",
      "metadata": {
        "id": "md0sQHo70fy2"
      },
      "source": [
        "**TALLER 1**\n",
        "---\n",
        "---\n",
        "**1.**\n",
        "---\n",
        "\n",
        "El Bootcamp comenzo el 26 de Julio del 2021, se les explico a las estudiantes que se les evaluaría de la siguiente forma:\n",
        "\n",
        "->Tareas= 10% \n",
        "\n",
        "-->Talleres=25% \n",
        "\n",
        "-->Asistencia=5% \n",
        "\n",
        "-->Participación=15% \n",
        "\n",
        "-->Proyecto=45%\n",
        "\n",
        "teniendo en cuenta las ponderaciones de calificación del bootcamp, las estudiantes deciden desarrollar un programa que les permita saber cuanto tendría que sacar en el proyecto para tener una definitiva de 3.7 minimo en el curso. si las notas que llevan hasta el momento son las siguientes:\n",
        "\n",
        "-->Tareas=4.5 \n",
        "\n",
        "-->Talleres=4 \n",
        "\n",
        "-->Asistencia=5 \n",
        "\n",
        "-->paticipación=4\n",
        "\n",
        "¿Cuanto tendrían que sacar en el proyecto?"
      ]
    },
    {
      "cell_type": "markdown",
      "metadata": {
        "id": "9k9f6DyP1BJG"
      },
      "source": [
        "**SOLUCIÓN**\n",
        "---\n",
        "---\n",
        "Teniendo en cuenta lo siguiente\n",
        "\n",
        "->Tareas= 10% = 4,5\n",
        "\n",
        "-->Talleres=25% = 4\n",
        "\n",
        "-->Asistencia=5% = 5\n",
        "\n",
        "-->Participación=15% = 4\n",
        "\n",
        "-->Proyecto=45% = ?\n",
        "\n",
        "Y necesitamos **MÍNIMO** una nota de **3.7**\n",
        "\n",
        "*entonces...*\n",
        "\n",
        "**Lógica para solucionar el problema**\n"
      ]
    },
    {
      "cell_type": "code",
      "metadata": {
        "colab": {
          "base_uri": "https://localhost:8080/"
        },
        "id": "V1ijE2x85HCs",
        "outputId": "d765041a-502e-46c0-81ab-2cb83ce90bd3"
      },
      "source": [
        "t1=float(4.5*0.1)\n",
        "t2=float(4*2.5)\n",
        "a=float(5*0.5)\n",
        "p1=float(4*1.5)\n",
        "p2=int(0)\n",
        "\n",
        "sum=round((t1+t2+a+p1+p2)/5,1)\n",
        "print(sum)\n"
      ],
      "execution_count": 7,
      "outputs": [
        {
          "output_type": "stream",
          "text": [
            "3.8\n"
          ],
          "name": "stdout"
        }
      ]
    },
    {
      "cell_type": "markdown",
      "metadata": {
        "id": "qnGbVGQj8hWK"
      },
      "source": [
        "Según el resultado de la nota final (*sum*), redondeada, nos arroja una nota de 3.8, lo cual cumple con la nota mínima y nos indica que así saquemos una nota de *0* en el proyecto, la alumna pasará con 3.8\n",
        "\n",
        "---\n",
        "Ahora, para complementar el ejercicio, se realizará el cálculo de cuánto tendría que ser la nota del proyecto para sacar 5.0\n"
      ]
    },
    {
      "cell_type": "code",
      "metadata": {
        "colab": {
          "base_uri": "https://localhost:8080/"
        },
        "id": "rd155S0e90ma",
        "outputId": "e87b7249-b855-44c9-cca2-151569330435"
      },
      "source": [
        "t1=float(4.5*0.1)\n",
        "t2=float(4*2.5)\n",
        "a=float(5*0.5)\n",
        "p1=float(4*1.5)\n",
        "p2=int(0)\n",
        "excelente=int(5)\n",
        "\n",
        "sum=round((t1+t2+a+p1+p2)/5,1)\n",
        "print(sum)\n",
        "excelente=round(excelente-sum,2)\n",
        "p2=round(excelente*4.5,1)\n",
        "print(\"La nota que usted necesitaría para sacar una nota excelente(5), en su promedio general sería: \",p2)\n"
      ],
      "execution_count": 21,
      "outputs": [
        {
          "output_type": "stream",
          "text": [
            "3.8\n",
            "La nota que usted necesitaría para sacar una nota excelente(5), en su promedio general sería:  5.4\n"
          ],
          "name": "stdout"
        }
      ]
    },
    {
      "cell_type": "markdown",
      "metadata": {
        "id": "daHz3XwGTJB0"
      },
      "source": [
        "**2**\n",
        "---\n",
        "\n",
        "La empresa VIVAFLY tiene como eslogan: \"Satisfacción y plenitud en un solo viaje\". Por lo cual, uno de los medios que utiliza VIVAFLY para mantener la satisfacción al cliente, es realizar rifas a lo largo del año para fomentar mayor unión y entendimiento. Para el mes de septiembre, por motivos de celebración de Amor y Amistad, la empresa decide sortear los siguientes viajes a los 5 clientes con más antigüedad:\n",
        "\n",
        "\n",
        "*  **PREMIO 1:** Viaje todo incluído para dos personas a San Andrés(Premio 1). un pasadía a los termales de San Vicente incluyendo almuerzo.\n",
        "*  **PREMIO 2:** Viaje todo incluido para dos personas a Santa Marta. \n",
        "*  **PREMIO 3** Pasadía al desierto de Tatacoa (Sin incluír alimentación).\n",
        "*  **PREMIO 4** La empresa utilizará para el sorteo el método de balotera. A continuación se menciona el color ganador por premio:\n",
        "\n",
        "1. Rosado= Premio 1\n",
        "2. Verde=Premio 2\n",
        "3. Azul=Premio 3\n",
        "4. Gris=Premio 4\n",
        "5. Roja=No hay premio\n",
        "\n",
        "\n",
        "La probabilidad de sacar una balota:\n",
        "*  rosada 15%\n",
        "*  verde 20% \n",
        "*  azul 5% \n",
        "*  gris 20% \n",
        "*  roja 40%.\n",
        "\n",
        "\n",
        "Adicionalmente, para las personas que SI obtengan premio, recibirán un bono en efectivo del porcentaje que represente la probabilidad de ganar con cada balota sobre un valor de 1.000.000 pesos. Sin embargo, se debe tener en cuenta que, Si al aplicar el porcentaje arroja un valor inferior a 120.000, no se les dará el bono en efectivo sino dos boletas de cine 4D para la película en estreno del mes incluyendo un solo combo de palomitas.Por otro lado, para la persona que saque balota roja obtendrá un premio de 120.000 pesos.\n",
        "\n",
        "Nota: El sorteo se realiza con el método de NO reemplazo. Es decir, la probabilidad de sacar cada una de las balotas es la misma para los 5 clientes. Porque a medida que vayan sacando las balotas ganadoras estás se regresan a la balotera y se mantendrá la misma cantidad de balotas.\n",
        "\n",
        "Teniendo en cuenta lo anterior.Se le pide a la analista que genere un código donde se pueda observar las respectivas premiaciones.\n",
        "\n",
        "las entradas deben ser las siguientes:\n",
        "\n",
        "*  Nombre de la concursante\n",
        "*  Color de balota\n",
        "\n",
        "Salida:\n",
        "\n",
        "\n",
        "Premio\n",
        "Enunciado de salida: \"La empresa VIVAFLY se complace en anunciar que La participante _ ganó _ en nuestro sorteo de viajes de AMOR y AMISTAD\"\n",
        "\n",
        "\n",
        "Ejemplo: \"La empresa VIVAFLY se complace en anunciar que La participante ANA ganó un pasadía a los termales de San Vicente en nuestro sorteo de viajes de AMOR y AMISTAD\""
      ]
    },
    {
      "cell_type": "markdown",
      "metadata": {
        "id": "u65fRDwWa5UB"
      },
      "source": [
        "**SOLUCIÓN EJERCICIO 2**\n",
        "---\n",
        "---\n"
      ]
    },
    {
      "cell_type": "code",
      "metadata": {
        "id": "qYqP0qEka-X3"
      },
      "source": [
        ""
      ],
      "execution_count": null,
      "outputs": []
    },
    {
      "cell_type": "code",
      "metadata": {
        "id": "1ExGs52LWAFT"
      },
      "source": [
        ""
      ],
      "execution_count": null,
      "outputs": []
    }
  ]
}