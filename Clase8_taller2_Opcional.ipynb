{
  "nbformat": 4,
  "nbformat_minor": 0,
  "metadata": {
    "colab": {
      "name": "Clase8_taller2 Opcional.ipynb",
      "provenance": [],
      "include_colab_link": true
    },
    "kernelspec": {
      "display_name": "Python 3",
      "language": "python",
      "name": "python3"
    },
    "language_info": {
      "codemirror_mode": {
        "name": "ipython",
        "version": 3
      },
      "file_extension": ".py",
      "mimetype": "text/x-python",
      "name": "python",
      "nbconvert_exporter": "python",
      "pygments_lexer": "ipython3",
      "version": "3.8.8"
    }
  },
  "cells": [
    {
      "cell_type": "markdown",
      "metadata": {
        "id": "view-in-github",
        "colab_type": "text"
      },
      "source": [
        "<a href=\"https://colab.research.google.com/github/hnmelo/MujeresDigitales/blob/main/Clase8_taller2_Opcional.ipynb\" target=\"_parent\"><img src=\"https://colab.research.google.com/assets/colab-badge.svg\" alt=\"Open In Colab\"/></a>"
      ]
    },
    {
      "cell_type": "markdown",
      "metadata": {
        "id": "uS5uoDJWiAvA"
      },
      "source": [
        "## Taller opcional 2"
      ]
    },
    {
      "cell_type": "markdown",
      "metadata": {
        "id": "W4vZHp657u65"
      },
      "source": [
        "**Ejercicio 1**\n",
        "\n",
        "---\n",
        "Se le pide a la analista realizar una estimación poblacional a partir de información descriptiva relevante sobre la población de los países en vía de desarrollo.\n",
        "\n",
        "Para ello de inicio se solicita que se cree una función que reciba como argumento una lista de listas con los siguientes datos:\n",
        "\n",
        "```['Nombre del país', habitantes, área]```\n",
        "\n",
        "\n",
        "La función debe devolver el país con la población mas alta y el país con la densidad poblacional mas alta ( esto es ```habitantes / área```)\n",
        "\n",
        "Por ejemplo:\n",
        "Al llamar la función con los siguientes argumentos:\n",
        "```poblacion([['Colombia', 8, 4], ['Peru', 3, 1]])```\n",
        "\n",
        "Debería devolver:\n",
        "```\n",
        "Población más alta: Colombia\n",
        "Ddensidad poblacional mas alta: Peru\n",
        "```"
      ]
    },
    {
      "cell_type": "code",
      "metadata": {
        "id": "whhBFpdOC45W"
      },
      "source": [
        "import pandas as pd\n",
        "df = pd.DataFrame(columns=['PAÍS','HABITANTES','ÁREA'], index=range(2))"
      ],
      "execution_count": null,
      "outputs": []
    },
    {
      "cell_type": "code",
      "metadata": {
        "id": "rzWAfYdcQMq2"
      },
      "source": [
        "datos=[['Colombia',8,4],['Peru',3,1]]"
      ],
      "execution_count": 62,
      "outputs": []
    },
    {
      "cell_type": "code",
      "metadata": {
        "id": "Wwf3RBbjEwAG",
        "colab": {
          "base_uri": "https://localhost:8080/",
          "height": 317
        },
        "outputId": "0cb6d94d-dd59-4086-f69a-5a57657cfd1f"
      },
      "source": [
        "def funcion(datos):\n",
        "    densidad_poblacion = []\n",
        "    poblacion = 0\n",
        "    imprimir = []\n",
        "    imprimir1 = []\n",
        "    for x in datos:\n",
        "        poblacion = x [1]/ x [2]\n",
        "        densidad_poblacion.append(poblacion)\n",
        "        densidad_poblacion.append(x[0])\n",
        "    if densidad_poblacion[0,0] > densidad_poblacion[0,0]:\n",
        "          imprimir.append(densidad_poblacion[0,1],densidad_poblacion[0,0])\n",
        "    else:\n",
        "            imprimir1 = densidad_poblacion[0,3] + densidad_poblacion[0,2]\n",
        "            print(imprimir)\n",
        "\n",
        "\n",
        "print(funcion(datos))"
      ],
      "execution_count": 73,
      "outputs": [
        {
          "output_type": "error",
          "ename": "TypeError",
          "evalue": "ignored",
          "traceback": [
            "\u001b[0;31m---------------------------------------------------------------------------\u001b[0m",
            "\u001b[0;31mTypeError\u001b[0m                                 Traceback (most recent call last)",
            "\u001b[0;32m<ipython-input-73-f03f499262e4>\u001b[0m in \u001b[0;36m<module>\u001b[0;34m()\u001b[0m\n\u001b[1;32m     15\u001b[0m \u001b[0;34m\u001b[0m\u001b[0m\n\u001b[1;32m     16\u001b[0m \u001b[0;34m\u001b[0m\u001b[0m\n\u001b[0;32m---> 17\u001b[0;31m \u001b[0mprint\u001b[0m\u001b[0;34m(\u001b[0m\u001b[0mfuncion\u001b[0m\u001b[0;34m(\u001b[0m\u001b[0mdatos\u001b[0m\u001b[0;34m)\u001b[0m\u001b[0;34m)\u001b[0m\u001b[0;34m\u001b[0m\u001b[0;34m\u001b[0m\u001b[0m\n\u001b[0m",
            "\u001b[0;32m<ipython-input-73-f03f499262e4>\u001b[0m in \u001b[0;36mfuncion\u001b[0;34m(datos)\u001b[0m\n\u001b[1;32m      8\u001b[0m         \u001b[0mdensidad_poblacion\u001b[0m\u001b[0;34m.\u001b[0m\u001b[0mappend\u001b[0m\u001b[0;34m(\u001b[0m\u001b[0mpoblacion\u001b[0m\u001b[0;34m)\u001b[0m\u001b[0;34m\u001b[0m\u001b[0;34m\u001b[0m\u001b[0m\n\u001b[1;32m      9\u001b[0m         \u001b[0mdensidad_poblacion\u001b[0m\u001b[0;34m.\u001b[0m\u001b[0mappend\u001b[0m\u001b[0;34m(\u001b[0m\u001b[0mx\u001b[0m\u001b[0;34m[\u001b[0m\u001b[0;36m0\u001b[0m\u001b[0;34m]\u001b[0m\u001b[0;34m)\u001b[0m\u001b[0;34m\u001b[0m\u001b[0;34m\u001b[0m\u001b[0m\n\u001b[0;32m---> 10\u001b[0;31m     \u001b[0;32mif\u001b[0m \u001b[0mdensidad_poblacion\u001b[0m\u001b[0;34m[\u001b[0m\u001b[0;36m0\u001b[0m\u001b[0;34m,\u001b[0m\u001b[0;36m0\u001b[0m\u001b[0;34m]\u001b[0m \u001b[0;34m>\u001b[0m \u001b[0mdensidad_poblacion\u001b[0m\u001b[0;34m[\u001b[0m\u001b[0;36m0\u001b[0m\u001b[0;34m,\u001b[0m\u001b[0;36m0\u001b[0m\u001b[0;34m]\u001b[0m\u001b[0;34m:\u001b[0m\u001b[0;34m\u001b[0m\u001b[0;34m\u001b[0m\u001b[0m\n\u001b[0m\u001b[1;32m     11\u001b[0m           \u001b[0mimprimir\u001b[0m\u001b[0;34m.\u001b[0m\u001b[0mappend\u001b[0m\u001b[0;34m(\u001b[0m\u001b[0mdensidad_poblacion\u001b[0m\u001b[0;34m[\u001b[0m\u001b[0;36m0\u001b[0m\u001b[0;34m,\u001b[0m\u001b[0;36m1\u001b[0m\u001b[0;34m]\u001b[0m\u001b[0;34m,\u001b[0m\u001b[0mdensidad_poblacion\u001b[0m\u001b[0;34m[\u001b[0m\u001b[0;36m0\u001b[0m\u001b[0;34m,\u001b[0m\u001b[0;36m0\u001b[0m\u001b[0;34m]\u001b[0m\u001b[0;34m)\u001b[0m\u001b[0;34m\u001b[0m\u001b[0;34m\u001b[0m\u001b[0m\n\u001b[1;32m     12\u001b[0m     \u001b[0;32melse\u001b[0m\u001b[0;34m:\u001b[0m\u001b[0;34m\u001b[0m\u001b[0;34m\u001b[0m\u001b[0m\n",
            "\u001b[0;31mTypeError\u001b[0m: list indices must be integers or slices, not tuple"
          ]
        }
      ]
    },
    {
      "cell_type": "code",
      "metadata": {
        "id": "UGR5NtWSiAvJ",
        "colab": {
          "base_uri": "https://localhost:8080/"
        },
        "outputId": "5852371c-50ec-4cef-e948-10582d84c100"
      },
      "source": [
        "# Definimos la función para hallar la densidad poblacional\n",
        "def densidad(datos):\n",
        "    pob = 0\n",
        "    densidad_poblacional = []\n",
        "    for i in datos:\n",
        "        pob = i[1]/i[2]\n",
        "        densidad_poblacional.append(pob)\n",
        "        \n",
        "    return max(densidad_poblacional)\n",
        "\n",
        "type(datos)              \n",
        "print(densidad(datos))\n",
        "print(type(datos))\n",
        "                \n"
      ],
      "execution_count": null,
      "outputs": [
        {
          "output_type": "stream",
          "text": [
            "2.0\n",
            "<class 'tuple'>\n"
          ],
          "name": "stdout"
        }
      ]
    },
    {
      "cell_type": "markdown",
      "metadata": {
        "id": "em_-ywrKE2I1"
      },
      "source": [
        "**Ejercicio 2**\n",
        "\n",
        "---\n",
        "Se solicita realizar un programa que permita identificar el nivel de cumplimiento del area de ventas de la empresa AVA. Entre los principales requerimientos se encuentran los siguientes:\n",
        "\n",
        "1. Escribir una función que reciba los datos de los vendedores como un diccionario, en donde la llave sea el nombre del vendedor y el valor sea una tupla con la calificación (escala de 1 a 10) y faltas al puesto de trabajo, así: ```{'Juan':(8,1)}```\n",
        "2. El programa debe permitir identificar el vendedor con peor rendimiento y mejor rendimiento.\n",
        "3. Obtener también el promedio general del nivel de rendimiento del área de ventas.\n",
        "4. Los vendedores con un número de faltas por encima del promedio como una lista.\n",
        "\n",
        "Por ejemplo:\n",
        "\n",
        "Al llamar la función con los siguientes argumentos: ```ventas({'Juan':(8,1), 'Pablo':(6,3)})```\n",
        "\n",
        "Debería devolver:\n",
        "```\n",
        "Mejor rendimiento: Juan\n",
        "Peor rendimiento: Pablo\n",
        "Promedio rendimiento: 7\n",
        "Vendedores con mas faltas: ['Pablo']\n",
        "```\n"
      ]
    },
    {
      "cell_type": "code",
      "metadata": {
        "id": "GSfj5UTiiAvN"
      },
      "source": [
        "def ventas(datos):\n",
        "     # Escriba su función aquí"
      ],
      "execution_count": null,
      "outputs": []
    }
  ]
}