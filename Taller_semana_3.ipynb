{
  "nbformat": 4,
  "nbformat_minor": 5,
  "metadata": {
    "kernelspec": {
      "display_name": "Python 3",
      "language": "python",
      "name": "python3"
    },
    "language_info": {
      "codemirror_mode": {
        "name": "ipython",
        "version": 3
      },
      "file_extension": ".py",
      "mimetype": "text/x-python",
      "name": "python",
      "nbconvert_exporter": "python",
      "pygments_lexer": "ipython3",
      "version": "3.8.11"
    },
    "colab": {
      "name": "Taller semana 3.ipynb",
      "provenance": [],
      "include_colab_link": true
    }
  },
  "cells": [
    {
      "cell_type": "markdown",
      "metadata": {
        "id": "view-in-github",
        "colab_type": "text"
      },
      "source": [
        "<a href=\"https://colab.research.google.com/github/hnmelo/MujeresDigitales/blob/main/Taller_semana_3.ipynb\" target=\"_parent\"><img src=\"https://colab.research.google.com/assets/colab-badge.svg\" alt=\"Open In Colab\"/></a>"
      ]
    },
    {
      "cell_type": "markdown",
      "metadata": {
        "id": "08e8fc9c"
      },
      "source": [
        "# Taller semana 3"
      ],
      "id": "08e8fc9c"
    },
    {
      "cell_type": "markdown",
      "metadata": {
        "id": "eaa5a1ca"
      },
      "source": [
        "## Ejercicio 1:\n",
        "\n",
        "Cargue los datos del archivo ```pokemon_data.csv``` a un dataframe, cree una columna que se llame interes asignándole el valor False, luego cambie el valor de esta columna solo para los pokemon que sean legendarios (Legendary = True) y que el Type 1 sea fuego."
      ],
      "id": "eaa5a1ca"
    },
    {
      "cell_type": "code",
      "metadata": {
        "id": "16aff8b8"
      },
      "source": [
        "import pandas as pd"
      ],
      "id": "16aff8b8",
      "execution_count": 51,
      "outputs": []
    },
    {
      "cell_type": "code",
      "metadata": {
        "id": "8032ee74"
      },
      "source": [
        "pk = pd.read_csv('pokemon_data.csv')\n"
      ],
      "id": "8032ee74",
      "execution_count": 52,
      "outputs": []
    },
    {
      "cell_type": "code",
      "metadata": {
        "id": "mNX3gLklEO4H"
      },
      "source": [
        "pk['interes'] = False"
      ],
      "id": "mNX3gLklEO4H",
      "execution_count": 10,
      "outputs": []
    },
    {
      "cell_type": "code",
      "metadata": {
        "id": "v-pvW2MlFn3W"
      },
      "source": [
        "mask1 = pk['Type 1'] == 'Fire' "
      ],
      "id": "v-pvW2MlFn3W",
      "execution_count": 62,
      "outputs": []
    },
    {
      "cell_type": "code",
      "metadata": {
        "id": "PucY4aloG5_3"
      },
      "source": [
        "pk.loc[mask1, 'Legendary'] = True"
      ],
      "id": "PucY4aloG5_3",
      "execution_count": 34,
      "outputs": []
    },
    {
      "cell_type": "code",
      "metadata": {
        "colab": {
          "base_uri": "https://localhost:8080/",
          "height": 470
        },
        "id": "kkXU9LvLEto1",
        "outputId": "35884698-08d6-4a04-9b79-62df1520a88d"
      },
      "source": [
        "pk.loc[pk['Legendary'] == True]"
      ],
      "id": "kkXU9LvLEto1",
      "execution_count": 41,
      "outputs": [
        {
          "output_type": "execute_result",
          "data": {
            "text/html": [
              "<div>\n",
              "<style scoped>\n",
              "    .dataframe tbody tr th:only-of-type {\n",
              "        vertical-align: middle;\n",
              "    }\n",
              "\n",
              "    .dataframe tbody tr th {\n",
              "        vertical-align: top;\n",
              "    }\n",
              "\n",
              "    .dataframe thead th {\n",
              "        text-align: right;\n",
              "    }\n",
              "</style>\n",
              "<table border=\"1\" class=\"dataframe\">\n",
              "  <thead>\n",
              "    <tr style=\"text-align: right;\">\n",
              "      <th></th>\n",
              "      <th>#</th>\n",
              "      <th>Name</th>\n",
              "      <th>Type 1</th>\n",
              "      <th>Type 2</th>\n",
              "      <th>HP</th>\n",
              "      <th>Attack</th>\n",
              "      <th>Defense</th>\n",
              "      <th>Sp. Atk</th>\n",
              "      <th>Sp. Def</th>\n",
              "      <th>Speed</th>\n",
              "      <th>Generation</th>\n",
              "      <th>Legendary</th>\n",
              "      <th>interes</th>\n",
              "    </tr>\n",
              "  </thead>\n",
              "  <tbody>\n",
              "    <tr>\n",
              "      <th>4</th>\n",
              "      <td>4</td>\n",
              "      <td>Charmander</td>\n",
              "      <td>Fire</td>\n",
              "      <td>NaN</td>\n",
              "      <td>39</td>\n",
              "      <td>52</td>\n",
              "      <td>43</td>\n",
              "      <td>60</td>\n",
              "      <td>50</td>\n",
              "      <td>65</td>\n",
              "      <td>1</td>\n",
              "      <td>True</td>\n",
              "      <td>False</td>\n",
              "    </tr>\n",
              "    <tr>\n",
              "      <th>5</th>\n",
              "      <td>5</td>\n",
              "      <td>Charmeleon</td>\n",
              "      <td>Fire</td>\n",
              "      <td>NaN</td>\n",
              "      <td>58</td>\n",
              "      <td>64</td>\n",
              "      <td>58</td>\n",
              "      <td>80</td>\n",
              "      <td>65</td>\n",
              "      <td>80</td>\n",
              "      <td>1</td>\n",
              "      <td>True</td>\n",
              "      <td>False</td>\n",
              "    </tr>\n",
              "    <tr>\n",
              "      <th>6</th>\n",
              "      <td>6</td>\n",
              "      <td>Charizard</td>\n",
              "      <td>Fire</td>\n",
              "      <td>Flying</td>\n",
              "      <td>78</td>\n",
              "      <td>84</td>\n",
              "      <td>78</td>\n",
              "      <td>109</td>\n",
              "      <td>85</td>\n",
              "      <td>100</td>\n",
              "      <td>1</td>\n",
              "      <td>True</td>\n",
              "      <td>False</td>\n",
              "    </tr>\n",
              "    <tr>\n",
              "      <th>7</th>\n",
              "      <td>6</td>\n",
              "      <td>CharizardMega Charizard X</td>\n",
              "      <td>Fire</td>\n",
              "      <td>Dragon</td>\n",
              "      <td>78</td>\n",
              "      <td>130</td>\n",
              "      <td>111</td>\n",
              "      <td>130</td>\n",
              "      <td>85</td>\n",
              "      <td>100</td>\n",
              "      <td>1</td>\n",
              "      <td>True</td>\n",
              "      <td>False</td>\n",
              "    </tr>\n",
              "    <tr>\n",
              "      <th>8</th>\n",
              "      <td>6</td>\n",
              "      <td>CharizardMega Charizard Y</td>\n",
              "      <td>Fire</td>\n",
              "      <td>Flying</td>\n",
              "      <td>78</td>\n",
              "      <td>104</td>\n",
              "      <td>78</td>\n",
              "      <td>159</td>\n",
              "      <td>115</td>\n",
              "      <td>100</td>\n",
              "      <td>1</td>\n",
              "      <td>True</td>\n",
              "      <td>False</td>\n",
              "    </tr>\n",
              "    <tr>\n",
              "      <th>...</th>\n",
              "      <td>...</td>\n",
              "      <td>...</td>\n",
              "      <td>...</td>\n",
              "      <td>...</td>\n",
              "      <td>...</td>\n",
              "      <td>...</td>\n",
              "      <td>...</td>\n",
              "      <td>...</td>\n",
              "      <td>...</td>\n",
              "      <td>...</td>\n",
              "      <td>...</td>\n",
              "      <td>...</td>\n",
              "      <td>...</td>\n",
              "    </tr>\n",
              "    <tr>\n",
              "      <th>797</th>\n",
              "      <td>720</td>\n",
              "      <td>HoopaHoopa Confined</td>\n",
              "      <td>Psychic</td>\n",
              "      <td>Ghost</td>\n",
              "      <td>80</td>\n",
              "      <td>110</td>\n",
              "      <td>60</td>\n",
              "      <td>150</td>\n",
              "      <td>130</td>\n",
              "      <td>70</td>\n",
              "      <td>6</td>\n",
              "      <td>True</td>\n",
              "      <td>False</td>\n",
              "    </tr>\n",
              "    <tr>\n",
              "      <th>798</th>\n",
              "      <td>720</td>\n",
              "      <td>HoopaHoopa Unbound</td>\n",
              "      <td>Psychic</td>\n",
              "      <td>Dark</td>\n",
              "      <td>80</td>\n",
              "      <td>160</td>\n",
              "      <td>60</td>\n",
              "      <td>170</td>\n",
              "      <td>130</td>\n",
              "      <td>80</td>\n",
              "      <td>6</td>\n",
              "      <td>True</td>\n",
              "      <td>False</td>\n",
              "    </tr>\n",
              "    <tr>\n",
              "      <th>799</th>\n",
              "      <td>721</td>\n",
              "      <td>Volcanion</td>\n",
              "      <td>Fire</td>\n",
              "      <td>Water</td>\n",
              "      <td>80</td>\n",
              "      <td>110</td>\n",
              "      <td>120</td>\n",
              "      <td>130</td>\n",
              "      <td>90</td>\n",
              "      <td>70</td>\n",
              "      <td>6</td>\n",
              "      <td>True</td>\n",
              "      <td>False</td>\n",
              "    </tr>\n",
              "    <tr>\n",
              "      <th>Legendary</th>\n",
              "      <td>True</td>\n",
              "      <td>True</td>\n",
              "      <td>True</td>\n",
              "      <td>True</td>\n",
              "      <td>True</td>\n",
              "      <td>True</td>\n",
              "      <td>True</td>\n",
              "      <td>True</td>\n",
              "      <td>True</td>\n",
              "      <td>True</td>\n",
              "      <td>True</td>\n",
              "      <td>True</td>\n",
              "      <td>True</td>\n",
              "    </tr>\n",
              "    <tr>\n",
              "      <th>Type 1</th>\n",
              "      <td>Fire</td>\n",
              "      <td>Fire</td>\n",
              "      <td>Fire</td>\n",
              "      <td>Fire</td>\n",
              "      <td>Fire</td>\n",
              "      <td>Fire</td>\n",
              "      <td>Fire</td>\n",
              "      <td>Fire</td>\n",
              "      <td>Fire</td>\n",
              "      <td>Fire</td>\n",
              "      <td>Fire</td>\n",
              "      <td>True</td>\n",
              "      <td>Fire</td>\n",
              "    </tr>\n",
              "  </tbody>\n",
              "</table>\n",
              "<p>114 rows × 13 columns</p>\n",
              "</div>"
            ],
            "text/plain": [
              "              #                       Name  ... Legendary interes\n",
              "4             4                 Charmander  ...      True   False\n",
              "5             5                 Charmeleon  ...      True   False\n",
              "6             6                  Charizard  ...      True   False\n",
              "7             6  CharizardMega Charizard X  ...      True   False\n",
              "8             6  CharizardMega Charizard Y  ...      True   False\n",
              "...         ...                        ...  ...       ...     ...\n",
              "797         720        HoopaHoopa Confined  ...      True   False\n",
              "798         720         HoopaHoopa Unbound  ...      True   False\n",
              "799         721                  Volcanion  ...      True   False\n",
              "Legendary  True                       True  ...      True    True\n",
              "Type 1     Fire                       Fire  ...      True    Fire\n",
              "\n",
              "[114 rows x 13 columns]"
            ]
          },
          "metadata": {},
          "execution_count": 41
        }
      ]
    },
    {
      "cell_type": "markdown",
      "metadata": {
        "id": "da0f488d"
      },
      "source": [
        "## Ejercicio 2\n",
        "\n",
        "Con los datos de pokemones anteriores, escriba un código para sacar el promedio de la columna Attack agrupado por Type 1."
      ],
      "id": "da0f488d"
    },
    {
      "cell_type": "code",
      "metadata": {
        "id": "aJHfQfGEPNB-"
      },
      "source": [
        "# Se agrupan los tipo 1 = 'fire' y la columna attack\n",
        "T1 = pk.groupby(mask1)['Attack']"
      ],
      "id": "aJHfQfGEPNB-",
      "execution_count": 65,
      "outputs": []
    },
    {
      "cell_type": "code",
      "metadata": {
        "colab": {
          "base_uri": "https://localhost:8080/"
        },
        "id": "f4434c55",
        "outputId": "f41e7e1a-51d5-4f4d-eefd-6ba5f11f2963"
      },
      "source": [
        "#Se saca la media (que es igual al promedio) de la variable\n",
        "#El promedio que necesitamos es el de True, debido que es el que cumple la condición de mask1\n",
        "T1.mean()"
      ],
      "id": "f4434c55",
      "execution_count": 66,
      "outputs": [
        {
          "output_type": "execute_result",
          "data": {
            "text/plain": [
              "Type 1\n",
              "False    78.600267\n",
              "True     84.769231\n",
              "Name: Attack, dtype: float64"
            ]
          },
          "metadata": {},
          "execution_count": 66
        }
      ]
    },
    {
      "cell_type": "markdown",
      "metadata": {
        "id": "4FhtMhYXPmxf"
      },
      "source": [
        ""
      ],
      "id": "4FhtMhYXPmxf"
    },
    {
      "cell_type": "markdown",
      "metadata": {
        "id": "45f0cbc3"
      },
      "source": [
        "## Ejercicio 3\n",
        "\n",
        "Se le entregan los datos de movimientos de acciones en el archivo ```DUK.csv```, y se le pide que entregue el promedio de Open del 2015, es decir entre las fechas 2015-01-01 y 2015-12-31"
      ],
      "id": "45f0cbc3"
    },
    {
      "cell_type": "code",
      "metadata": {
        "id": "704ec036"
      },
      "source": [
        "pk = pd.read_csv('DUK.csv')\n"
      ],
      "id": "704ec036",
      "execution_count": 67,
      "outputs": []
    },
    {
      "cell_type": "code",
      "metadata": {
        "id": "tthEKiiMRu8-",
        "outputId": "99f0662a-bb07-46fc-e97a-0fb77b9aef16",
        "colab": {
          "base_uri": "https://localhost:8080/",
          "height": 514
        }
      },
      "source": [
        "pk.head(15)"
      ],
      "id": "tthEKiiMRu8-",
      "execution_count": 68,
      "outputs": [
        {
          "output_type": "execute_result",
          "data": {
            "text/html": [
              "<div>\n",
              "<style scoped>\n",
              "    .dataframe tbody tr th:only-of-type {\n",
              "        vertical-align: middle;\n",
              "    }\n",
              "\n",
              "    .dataframe tbody tr th {\n",
              "        vertical-align: top;\n",
              "    }\n",
              "\n",
              "    .dataframe thead th {\n",
              "        text-align: right;\n",
              "    }\n",
              "</style>\n",
              "<table border=\"1\" class=\"dataframe\">\n",
              "  <thead>\n",
              "    <tr style=\"text-align: right;\">\n",
              "      <th></th>\n",
              "      <th>Date</th>\n",
              "      <th>Open</th>\n",
              "      <th>High</th>\n",
              "      <th>Low</th>\n",
              "      <th>Close</th>\n",
              "      <th>Adj Close</th>\n",
              "      <th>Volume</th>\n",
              "    </tr>\n",
              "  </thead>\n",
              "  <tbody>\n",
              "    <tr>\n",
              "      <th>0</th>\n",
              "      <td>2014-07-28</td>\n",
              "      <td>73.309998</td>\n",
              "      <td>74.480003</td>\n",
              "      <td>73.230003</td>\n",
              "      <td>74.389999</td>\n",
              "      <td>59.266285</td>\n",
              "      <td>3281100</td>\n",
              "    </tr>\n",
              "    <tr>\n",
              "      <th>1</th>\n",
              "      <td>2014-07-29</td>\n",
              "      <td>74.400002</td>\n",
              "      <td>74.480003</td>\n",
              "      <td>73.760002</td>\n",
              "      <td>73.980003</td>\n",
              "      <td>58.939648</td>\n",
              "      <td>2236300</td>\n",
              "    </tr>\n",
              "    <tr>\n",
              "      <th>2</th>\n",
              "      <td>2014-07-30</td>\n",
              "      <td>74.029999</td>\n",
              "      <td>74.199997</td>\n",
              "      <td>72.580002</td>\n",
              "      <td>73.050003</td>\n",
              "      <td>58.198696</td>\n",
              "      <td>2782200</td>\n",
              "    </tr>\n",
              "    <tr>\n",
              "      <th>3</th>\n",
              "      <td>2014-07-31</td>\n",
              "      <td>72.610001</td>\n",
              "      <td>73.099998</td>\n",
              "      <td>72.059998</td>\n",
              "      <td>72.129997</td>\n",
              "      <td>57.465740</td>\n",
              "      <td>3249000</td>\n",
              "    </tr>\n",
              "    <tr>\n",
              "      <th>4</th>\n",
              "      <td>2014-08-01</td>\n",
              "      <td>72.239998</td>\n",
              "      <td>73.370003</td>\n",
              "      <td>72.150002</td>\n",
              "      <td>72.940002</td>\n",
              "      <td>58.111061</td>\n",
              "      <td>3960200</td>\n",
              "    </tr>\n",
              "    <tr>\n",
              "      <th>5</th>\n",
              "      <td>2014-08-04</td>\n",
              "      <td>72.930000</td>\n",
              "      <td>72.970001</td>\n",
              "      <td>70.860001</td>\n",
              "      <td>72.199997</td>\n",
              "      <td>57.521515</td>\n",
              "      <td>4511200</td>\n",
              "    </tr>\n",
              "    <tr>\n",
              "      <th>6</th>\n",
              "      <td>2014-08-05</td>\n",
              "      <td>71.519997</td>\n",
              "      <td>72.199997</td>\n",
              "      <td>70.669998</td>\n",
              "      <td>70.980003</td>\n",
              "      <td>56.549545</td>\n",
              "      <td>3111600</td>\n",
              "    </tr>\n",
              "    <tr>\n",
              "      <th>7</th>\n",
              "      <td>2014-08-06</td>\n",
              "      <td>70.870003</td>\n",
              "      <td>70.900002</td>\n",
              "      <td>69.480003</td>\n",
              "      <td>69.839996</td>\n",
              "      <td>55.641300</td>\n",
              "      <td>7066800</td>\n",
              "    </tr>\n",
              "    <tr>\n",
              "      <th>8</th>\n",
              "      <td>2014-08-07</td>\n",
              "      <td>70.279999</td>\n",
              "      <td>71.570000</td>\n",
              "      <td>70.050003</td>\n",
              "      <td>70.599998</td>\n",
              "      <td>56.246799</td>\n",
              "      <td>3607400</td>\n",
              "    </tr>\n",
              "    <tr>\n",
              "      <th>9</th>\n",
              "      <td>2014-08-08</td>\n",
              "      <td>70.949997</td>\n",
              "      <td>71.769997</td>\n",
              "      <td>70.930000</td>\n",
              "      <td>71.750000</td>\n",
              "      <td>57.162991</td>\n",
              "      <td>2756900</td>\n",
              "    </tr>\n",
              "    <tr>\n",
              "      <th>10</th>\n",
              "      <td>2014-08-11</td>\n",
              "      <td>72.000000</td>\n",
              "      <td>72.250000</td>\n",
              "      <td>71.500000</td>\n",
              "      <td>71.580002</td>\n",
              "      <td>57.027554</td>\n",
              "      <td>2116800</td>\n",
              "    </tr>\n",
              "    <tr>\n",
              "      <th>11</th>\n",
              "      <td>2014-08-12</td>\n",
              "      <td>71.639999</td>\n",
              "      <td>71.919998</td>\n",
              "      <td>71.260002</td>\n",
              "      <td>71.379997</td>\n",
              "      <td>56.868210</td>\n",
              "      <td>2847600</td>\n",
              "    </tr>\n",
              "    <tr>\n",
              "      <th>12</th>\n",
              "      <td>2014-08-13</td>\n",
              "      <td>70.800003</td>\n",
              "      <td>71.120003</td>\n",
              "      <td>70.419998</td>\n",
              "      <td>70.930000</td>\n",
              "      <td>57.146164</td>\n",
              "      <td>2141900</td>\n",
              "    </tr>\n",
              "    <tr>\n",
              "      <th>13</th>\n",
              "      <td>2014-08-14</td>\n",
              "      <td>70.959999</td>\n",
              "      <td>72.099998</td>\n",
              "      <td>70.959999</td>\n",
              "      <td>72.080002</td>\n",
              "      <td>58.072697</td>\n",
              "      <td>3587200</td>\n",
              "    </tr>\n",
              "    <tr>\n",
              "      <th>14</th>\n",
              "      <td>2014-08-15</td>\n",
              "      <td>71.879997</td>\n",
              "      <td>72.699997</td>\n",
              "      <td>71.849998</td>\n",
              "      <td>72.089996</td>\n",
              "      <td>58.080738</td>\n",
              "      <td>2981800</td>\n",
              "    </tr>\n",
              "  </tbody>\n",
              "</table>\n",
              "</div>"
            ],
            "text/plain": [
              "          Date       Open       High        Low      Close  Adj Close   Volume\n",
              "0   2014-07-28  73.309998  74.480003  73.230003  74.389999  59.266285  3281100\n",
              "1   2014-07-29  74.400002  74.480003  73.760002  73.980003  58.939648  2236300\n",
              "2   2014-07-30  74.029999  74.199997  72.580002  73.050003  58.198696  2782200\n",
              "3   2014-07-31  72.610001  73.099998  72.059998  72.129997  57.465740  3249000\n",
              "4   2014-08-01  72.239998  73.370003  72.150002  72.940002  58.111061  3960200\n",
              "5   2014-08-04  72.930000  72.970001  70.860001  72.199997  57.521515  4511200\n",
              "6   2014-08-05  71.519997  72.199997  70.669998  70.980003  56.549545  3111600\n",
              "7   2014-08-06  70.870003  70.900002  69.480003  69.839996  55.641300  7066800\n",
              "8   2014-08-07  70.279999  71.570000  70.050003  70.599998  56.246799  3607400\n",
              "9   2014-08-08  70.949997  71.769997  70.930000  71.750000  57.162991  2756900\n",
              "10  2014-08-11  72.000000  72.250000  71.500000  71.580002  57.027554  2116800\n",
              "11  2014-08-12  71.639999  71.919998  71.260002  71.379997  56.868210  2847600\n",
              "12  2014-08-13  70.800003  71.120003  70.419998  70.930000  57.146164  2141900\n",
              "13  2014-08-14  70.959999  72.099998  70.959999  72.080002  58.072697  3587200\n",
              "14  2014-08-15  71.879997  72.699997  71.849998  72.089996  58.080738  2981800"
            ]
          },
          "metadata": {},
          "execution_count": 68
        }
      ]
    }
  ]
}