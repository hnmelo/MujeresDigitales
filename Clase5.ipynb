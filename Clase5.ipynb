{
  "nbformat": 4,
  "nbformat_minor": 0,
  "metadata": {
    "colab": {
      "name": "Clase5.ipynb",
      "provenance": [],
      "authorship_tag": "ABX9TyPTdiixTwzPnAlwh2/kYmNU",
      "include_colab_link": true
    },
    "kernelspec": {
      "name": "python3",
      "display_name": "Python 3"
    },
    "language_info": {
      "name": "python"
    }
  },
  "cells": [
    {
      "cell_type": "markdown",
      "metadata": {
        "id": "view-in-github",
        "colab_type": "text"
      },
      "source": [
        "<a href=\"https://colab.research.google.com/github/hnmelo/MujeresDigitales/blob/main/Clase5.ipynb\" target=\"_parent\"><img src=\"https://colab.research.google.com/assets/colab-badge.svg\" alt=\"Open In Colab\"/></a>"
      ]
    },
    {
      "cell_type": "markdown",
      "metadata": {
        "id": "tpz0r_uqYQYq"
      },
      "source": [
        "**Continuación de ciclos**\n",
        "\n",
        "---\n",
        "*Ciclo **FOR** (bucle For)*"
      ]
    },
    {
      "cell_type": "code",
      "metadata": {
        "colab": {
          "base_uri": "https://localhost:8080/"
        },
        "id": "orAtwm1PYxyY",
        "outputId": "c5835afc-201d-4e0f-e18e-7c519674faa0"
      },
      "source": [
        "for i in range(1,3):\n",
        "  print(i)"
      ],
      "execution_count": 4,
      "outputs": [
        {
          "output_type": "stream",
          "text": [
            "1\n",
            "2\n"
          ],
          "name": "stdout"
        }
      ]
    },
    {
      "cell_type": "markdown",
      "metadata": {
        "id": "JL522vgkZGaQ"
      },
      "source": [
        "Para dejar claras las partes que componen el bucle FOR, vamos a definir los siguientes términos:\n",
        "\n",
        "1. **Iterable:** Objetos que pueden ser iterados. Por ejemplo: una lista, un valor tipo cadena, etc\n",
        "\n",
        "2. **Iterador:** Son objetos que hacen referencia a un element (para hacer referencia a cada uno de los elementos, hay un método denominado *\"Next\"* que permite hacer referencia a los elementos del conjunto.\n",
        "\n",
        "**for (variable) in (iterable):\n",
        "   (bloque código)\n",
        "\n",
        "Algunos ejemplos de iterables en python son: las listas, cadenas, diccionarios, tuplas, etc.\n",
        "\n",
        "**¿Cómo saber que es iterable a la hora de programar?**\n",
        "\n",
        "Podemos darnos cuenta que es iterable usando la función isinstance().\n",
        "\n",
        "*Ejemplo:*"
      ]
    },
    {
      "cell_type": "code",
      "metadata": {
        "colab": {
          "base_uri": "https://localhost:8080/"
        },
        "id": "9tlbcyjMxceq",
        "outputId": "1f18f590-e3aa-476f-ffd4-b5f79dd41864"
      },
      "source": [
        "from collections import Iterable #paquete iterablr de collections (Python 3.7)\n",
        "lista=[1,2,3,4,5,6,7,8,9,0]\n",
        "a=\"computador\"\n",
        "b=14\n",
        "print(isinstance(lista,Iterable))\n",
        "print(isinstance(a,Iterable))\n",
        "print(isinstance(b,Iterable))"
      ],
      "execution_count": 7,
      "outputs": [
        {
          "output_type": "stream",
          "text": [
            "True\n",
            "True\n",
            "False\n"
          ],
          "name": "stdout"
        }
      ]
    },
    {
      "cell_type": "code",
      "metadata": {
        "colab": {
          "base_uri": "https://localhost:8080/"
        },
        "id": "SQqnBuh-8zOi",
        "outputId": "a24abd81-9974-4a90-a5ae-1040a84bed28"
      },
      "source": [
        "a=\"computador\"\n",
        "for i in a:\n",
        "  print(i)"
      ],
      "execution_count": 8,
      "outputs": [
        {
          "output_type": "stream",
          "text": [
            "c\n",
            "o\n",
            "m\n",
            "p\n",
            "u\n",
            "t\n",
            "a\n",
            "d\n",
            "o\n",
            "r\n"
          ],
          "name": "stdout"
        }
      ]
    },
    {
      "cell_type": "markdown",
      "metadata": {
        "id": "OznbFOqG84mz"
      },
      "source": [
        "Para entender los iteradores, es importante conocer la función *\"Iter()\"*, esta función puede ser llamada sobre un objeto que sea iterable y nos devolverá un iterador.\n",
        "\n",
        "*Ejemplo:*"
      ]
    },
    {
      "cell_type": "code",
      "metadata": {
        "colab": {
          "base_uri": "https://localhost:8080/"
        },
        "id": "r62lrl4n9SqJ",
        "outputId": "d7e122a6-d9f7-4cba-abcb-44adf6e4c26a"
      },
      "source": [
        "lista=[1,2,3,4,5,6,7,8,9,0]\n",
        "ref=iter(lista)\n",
        "print(ref)\n",
        "print(type(ref))"
      ],
      "execution_count": 11,
      "outputs": [
        {
          "output_type": "stream",
          "text": [
            "<list_iterator object at 0x7fc6b56bb450>\n",
            "<class 'list_iterator'>\n"
          ],
          "name": "stdout"
        }
      ]
    },
    {
      "cell_type": "markdown",
      "metadata": {
        "id": "MqTPGyFO9rAa"
      },
      "source": [
        "Al imprimir Ref, es un iterador de la clase *\"list_iterator\"*. Hace referencia a la lista original y nos permite accerder a sus elementos con la función \"Next()\""
      ]
    },
    {
      "cell_type": "code",
      "metadata": {
        "colab": {
          "base_uri": "https://localhost:8080/"
        },
        "id": "6FIAE1Bt9-W6",
        "outputId": "9bee34e1-c08f-4ac4-ba00-566dfb51a3d7"
      },
      "source": [
        "lista=[1,2,3,4,5,6,7,8,9,0]\n",
        "ref=iter(lista)\n",
        "print(next(ref))\n",
        "print(next(ref))\n",
        "print(next(ref))\n",
        "print(next(ref))\n",
        "print(next(ref))\n",
        "print(next(ref))\n",
        "print(next(ref))\n",
        "print(next(ref))\n",
        "print(next(ref))\n",
        "print(next(ref))"
      ],
      "execution_count": 15,
      "outputs": [
        {
          "output_type": "stream",
          "text": [
            "1\n",
            "2\n",
            "3\n",
            "4\n",
            "5\n",
            "6\n",
            "7\n",
            "8\n",
            "9\n",
            "0\n"
          ],
          "name": "stdout"
        }
      ]
    },
    {
      "cell_type": "markdown",
      "metadata": {
        "id": "bTRmKH1b-SgM"
      },
      "source": [
        "**Nota:** Cada vez que llamemos a Next() sobre Ref, nos devuelve el siguiente elemento de la lista original.\n",
        "\n",
        "Por ejemplo, quiero acceder al elemento 7, tendremos que llamar siete veces a next()\n",
        "\n",
        "---\n",
        "**Tener en cuenta**\n",
        "\n",
        "Existen otros iteradores para las diferentes clases:\n",
        "\n",
        "1. str_iterator (para cadenas)\n",
        "2. list_iterator (para listas)\n",
        "3. set_iterator (para conjuntos)\n",
        "4. dict_keyiterator (para diccionarios)"
      ]
    },
    {
      "cell_type": "markdown",
      "metadata": {
        "id": "dqC2SXQw_A0D"
      },
      "source": [
        "**FOR ANIDADOS**\n",
        "\n",
        "---\n",
        "Es posible anidar los for, es decir, ingresar uno dentro de otro. como lo vemos a continuación:"
      ]
    },
    {
      "cell_type": "code",
      "metadata": {
        "colab": {
          "base_uri": "https://localhost:8080/"
        },
        "id": "DO_DydgS_Owm",
        "outputId": "1f1dbc01-df94-423b-8bdf-ad2e9785bed0"
      },
      "source": [
        "#Ejemplo tipo matrix\n",
        "#Vamos a crear una lista de listas, lo cual conforma una especie de matriz\n",
        "#Recordemos que una matriz se compone de valores que se distribuyen en filas y columnas\n",
        "\n",
        "qa=[[1,2,3],\n",
        "    [4,5,6],\n",
        "    [7,8,9]]\n",
        "\n",
        "for i in qa:\n",
        "  print(i)\n",
        "\n",
        "for i in qa:\n",
        "  for j in i:\n",
        "    print(j)"
      ],
      "execution_count": 18,
      "outputs": [
        {
          "output_type": "stream",
          "text": [
            "[1, 2, 3]\n",
            "[4, 5, 6]\n",
            "[7, 8, 9]\n",
            "1\n",
            "2\n",
            "3\n",
            "4\n",
            "5\n",
            "6\n",
            "7\n",
            "8\n",
            "9\n"
          ],
          "name": "stdout"
        }
      ]
    },
    {
      "cell_type": "markdown",
      "metadata": {
        "id": "qNmOeDqVAEcD"
      },
      "source": [
        "**Nota:**\n",
        "\n",
        "Si queremos acceder a cada elemento individualmente, se procede a realizar un bucle de FOR anidado, es decir, un FOR se encargará de iterar las columnas y otro las filas"
      ]
    },
    {
      "cell_type": "code",
      "metadata": {
        "colab": {
          "base_uri": "https://localhost:8080/"
        },
        "id": "7FPQ5D2qAmHU",
        "outputId": "7d4589a5-db4b-4b49-da54-4e6e134f669c"
      },
      "source": [
        "#Otra forma de utilizar sólo el FOR, es la iteración al revés. Es decir, se puede iterar desde el último hasta el primer elemento\n",
        "lista=[1,2,3,4,5,6,7,8,9,0]\n",
        "for i in lista[::-1]:\n",
        "  print(i)"
      ],
      "execution_count": 20,
      "outputs": [
        {
          "output_type": "stream",
          "text": [
            "0\n",
            "9\n",
            "8\n",
            "7\n",
            "6\n",
            "5\n",
            "4\n",
            "3\n",
            "2\n",
            "1\n"
          ],
          "name": "stdout"
        }
      ]
    },
    {
      "cell_type": "code",
      "metadata": {
        "colab": {
          "base_uri": "https://localhost:8080/"
        },
        "id": "8m1cmDW2BGti",
        "outputId": "a3c34c8a-aed0-4645-df8c-f0faf2e7ac86"
      },
      "source": [
        "lista=[1,2,3,4,5,6,7,8,9,0]\n",
        "for i in lista[::2]:\n",
        "  print(i)\n",
        "print(\"-----------------------------\")\n",
        "a=\"florero\"\n",
        "for i in a[::-1]:\n",
        "  print(i)"
      ],
      "execution_count": 25,
      "outputs": [
        {
          "output_type": "stream",
          "text": [
            "1\n",
            "3\n",
            "5\n",
            "7\n",
            "9\n",
            "-----------------------------\n",
            "o\n",
            "r\n",
            "e\n",
            "r\n",
            "o\n",
            "l\n",
            "f\n"
          ],
          "name": "stdout"
        }
      ]
    },
    {
      "cell_type": "code",
      "metadata": {
        "colab": {
          "base_uri": "https://localhost:8080/"
        },
        "id": "0AmivODIMY3Q",
        "outputId": "ec3e8622-ba83-44cc-b78f-ad5db26694fd"
      },
      "source": [
        "#usando rango\n",
        "for i in range(10):\n",
        "  print(i)\n",
        "print(\"-----------------------\")\n",
        "#El range() genera una secuencia desde 0 por defecto hasta\n",
        "#el número que se pasa como parámetro menos 2.\n",
        "\n",
        "#Estructura: range(inicio,fin,salto)\n",
        "#Observemos un truco con el range\n",
        "\n",
        "print(list(range(2,10,2))) #Conversión de un rango en una lista"
      ],
      "execution_count": 29,
      "outputs": [
        {
          "output_type": "stream",
          "text": [
            "0\n",
            "1\n",
            "2\n",
            "3\n",
            "4\n",
            "5\n",
            "6\n",
            "7\n",
            "8\n",
            "9\n",
            "-----------------------\n",
            "[2, 4, 6, 8]\n"
          ],
          "name": "stdout"
        }
      ]
    },
    {
      "cell_type": "markdown",
      "metadata": {
        "id": "o_C9vrrrNksZ"
      },
      "source": [
        "**Listas de comprensión:**\n",
        "\n",
        "---\n",
        "Estas nos permiten crear listas de elementos en una sola línea de código.\n",
        "\n",
        "*Ejemplo:* Crear una lista de las potencias a la 3 de los números impares de 0 a 9"
      ]
    },
    {
      "cell_type": "code",
      "metadata": {
        "colab": {
          "base_uri": "https://localhost:8080/"
        },
        "id": "5tMbjTkJOBoy",
        "outputId": "9d8d20e0-43b0-463f-971b-c87e8c9b546f"
      },
      "source": [
        "tres=[i**3 for i in range(1,10,2)]\n",
        "#1,3,5,7,9\n",
        "print(tres)\n",
        "print(\"----------------\")\n",
        "\n",
        "tres=[]\n",
        "for i in range(1,10,2):\n",
        "  tres.append(i**3)\n",
        "  print(tres)"
      ],
      "execution_count": 38,
      "outputs": [
        {
          "output_type": "stream",
          "text": [
            "[1, 27, 125, 343, 729]\n",
            "----------------\n",
            "[1]\n",
            "[1, 27]\n",
            "[1, 27, 125]\n",
            "[1, 27, 125, 343]\n",
            "[1, 27, 125, 343, 729]\n"
          ],
          "name": "stdout"
        }
      ]
    }
  ]
}