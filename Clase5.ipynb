{
  "nbformat": 4,
  "nbformat_minor": 0,
  "metadata": {
    "colab": {
      "name": "Clase5.ipynb",
      "provenance": [],
      "authorship_tag": "ABX9TyN6PbEt3hxgDqOznF0BNAXU",
      "include_colab_link": true
    },
    "kernelspec": {
      "name": "python3",
      "display_name": "Python 3"
    },
    "language_info": {
      "name": "python"
    }
  },
  "cells": [
    {
      "cell_type": "markdown",
      "metadata": {
        "id": "view-in-github",
        "colab_type": "text"
      },
      "source": [
        "<a href=\"https://colab.research.google.com/github/hnmelo/MujeresDigitales/blob/main/Clase5.ipynb\" target=\"_parent\"><img src=\"https://colab.research.google.com/assets/colab-badge.svg\" alt=\"Open In Colab\"/></a>"
      ]
    },
    {
      "cell_type": "markdown",
      "metadata": {
        "id": "tpz0r_uqYQYq"
      },
      "source": [
        "**Continuación de ciclos**\n",
        "\n",
        "---\n",
        "*Ciclo **FOR** (bucle For)*"
      ]
    },
    {
      "cell_type": "code",
      "metadata": {
        "colab": {
          "base_uri": "https://localhost:8080/"
        },
        "id": "orAtwm1PYxyY",
        "outputId": "c5835afc-201d-4e0f-e18e-7c519674faa0"
      },
      "source": [
        "for i in range(1,3):\n",
        "  print(i)"
      ],
      "execution_count": 4,
      "outputs": [
        {
          "output_type": "stream",
          "text": [
            "1\n",
            "2\n"
          ],
          "name": "stdout"
        }
      ]
    },
    {
      "cell_type": "markdown",
      "metadata": {
        "id": "JL522vgkZGaQ"
      },
      "source": [
        "Para dejar claras las partes que componen el bucle FOR, vamos a definir los siguientes términos:\n",
        "\n",
        "1. **Iterable:** Objetos que pueden ser iterados. Por ejemplo: una lista, un valor tipo cadena, etc\n",
        "\n",
        "2. **Iterador:** Son objetos que hacen referencia a un element (para hacer referencia a cada uno de los elementos, hay un método denominado *\"Next\"* que permite hacer referencia a los elementos del conjunto.\n",
        "\n",
        "**for <variable> in <iterable>:\n",
        "   <bloque código>\n",
        "\n",
        "Algunos ejemplos de iterables en python son: las listas, cadenas, diccionarios, tuplas, etc.\n",
        "\n",
        "**¿Cómo saber que es iterable a la hora de programar?**\n",
        "\n",
        "Podemos darnos cuenta que es iterable usando la función isinstance().\n",
        "\n",
        "*Ejemplo:*"
      ]
    },
    {
      "cell_type": "code",
      "metadata": {
        "id": "9tlbcyjMxceq"
      },
      "source": [
        ""
      ],
      "execution_count": null,
      "outputs": []
    }
  ]
}