{
  "nbformat": 4,
  "nbformat_minor": 0,
  "metadata": {
    "colab": {
      "name": "TareaClase1.ipynb",
      "provenance": [],
      "collapsed_sections": [],
      "authorship_tag": "ABX9TyMZWFSJlRRRwJOd/fYjmJKg",
      "include_colab_link": true
    },
    "kernelspec": {
      "name": "python3",
      "display_name": "Python 3"
    },
    "language_info": {
      "name": "python"
    }
  },
  "cells": [
    {
      "cell_type": "markdown",
      "metadata": {
        "id": "view-in-github",
        "colab_type": "text"
      },
      "source": [
        "<a href=\"https://colab.research.google.com/github/hnmelo/MujeresDigitales/blob/main/TareaClase1.ipynb\" target=\"_parent\"><img src=\"https://colab.research.google.com/assets/colab-badge.svg\" alt=\"Open In Colab\"/></a>"
      ]
    },
    {
      "cell_type": "markdown",
      "metadata": {
        "id": "V6akOkwQbwT1"
      },
      "source": [
        "Realizar dos ejercicios por cada tipo de variable.\n",
        "\n",
        "---\n",
        "**Tipo entero**\n",
        "\n"
      ]
    },
    {
      "cell_type": "code",
      "metadata": {
        "colab": {
          "base_uri": "https://localhost:8080/"
        },
        "id": "VntHttwtb28H",
        "outputId": "7e4d01d5-44d2-41b1-9a5a-f29c948e6827"
      },
      "source": [
        "a=int(44)\n",
        "b=int(55)\n",
        "p=(a+b)\n",
        "print(p, type (p))"
      ],
      "execution_count": 6,
      "outputs": [
        {
          "output_type": "stream",
          "text": [
            "99 <class 'int'>\n"
          ],
          "name": "stdout"
        }
      ]
    },
    {
      "cell_type": "code",
      "metadata": {
        "colab": {
          "base_uri": "https://localhost:8080/"
        },
        "id": "ACqlOwoZe4RA",
        "outputId": "7b6eb241-259c-4c1c-929e-71b2a98bd49e"
      },
      "source": [
        "h=int(16000)\n",
        "e=int(2800)\n",
        "l=int(1200)\n",
        "e=int(3600)\n",
        "n=int(6500)\n",
        "n=int(1000)\n",
        "\n",
        "print(h+e+l+e+n+n)"
      ],
      "execution_count": 13,
      "outputs": [
        {
          "output_type": "stream",
          "text": [
            "26400\n"
          ],
          "name": "stdout"
        }
      ]
    },
    {
      "cell_type": "markdown",
      "metadata": {
        "id": "xsEFKt2xcmgE"
      },
      "source": [
        "**Tipo FLoat**"
      ]
    },
    {
      "cell_type": "code",
      "metadata": {
        "colab": {
          "base_uri": "https://localhost:8080/"
        },
        "id": "b-AiW3Y-coMN",
        "outputId": "953ca136-7a14-4671-c6ef-06eb794b8cf5"
      },
      "source": [
        "x=float(5.99)\n",
        "z=float(14.2)\n",
        "p=(x*z)\n",
        "print(p, type(p))"
      ],
      "execution_count": 7,
      "outputs": [
        {
          "output_type": "stream",
          "text": [
            "85.05799999999999 <class 'float'>\n"
          ],
          "name": "stdout"
        }
      ]
    },
    {
      "cell_type": "code",
      "metadata": {
        "colab": {
          "base_uri": "https://localhost:8080/"
        },
        "id": "hz875LOiftFd",
        "outputId": "b800026e-94f0-408f-eb15-44834be8f69b"
      },
      "source": [
        "arroz=1.35\n",
        "huevos=2.36\n",
        "cocacola=2.10\n",
        "sum=(arroz + huevos + cocacola)\n",
        "print(\"El almuerzo sencillo le sale por: \",sum,\" dólares\")"
      ],
      "execution_count": 14,
      "outputs": [
        {
          "output_type": "stream",
          "text": [
            "El almuerzo sencillo le sale por:  5.8100000000000005  dólares\n"
          ],
          "name": "stdout"
        }
      ]
    },
    {
      "cell_type": "markdown",
      "metadata": {
        "id": "_byb8-_sc8TV"
      },
      "source": [
        "**Tipo Listas**"
      ]
    },
    {
      "cell_type": "code",
      "metadata": {
        "colab": {
          "base_uri": "https://localhost:8080/"
        },
        "id": "CHag2QnUc9pO",
        "outputId": "9c54a1c3-e1e9-47d1-acc2-4198f88f789b"
      },
      "source": [
        "lista1=['huevo','pan','dos mil de salchichón cervecero','leche','5']\n",
        "lista2=['arroz','carne molida con paprika','limonada de coco','plátano asado']\n",
        "\n",
        "print(lista1, lista2)"
      ],
      "execution_count": 10,
      "outputs": [
        {
          "output_type": "stream",
          "text": [
            "['huevo', 'pan', 'dos mil de salchichón cervecero', 'leche', '5'] ['arroz', 'carne molida con paprika', 'limonada de coco', 'plátano asado']\n"
          ],
          "name": "stdout"
        }
      ]
    },
    {
      "cell_type": "code",
      "metadata": {
        "colab": {
          "base_uri": "https://localhost:8080/"
        },
        "id": "yKMG-1GogPAU",
        "outputId": "6014e16d-f8b6-4a74-8355-db8c9053b955"
      },
      "source": [
        "reggaeton=['Balvin','mike Towers','farruko','plan B','conejo malo']\n",
        "rap=['rapbangclub','alkolyricos','crudoMeansRaw','buhodermia']\n",
        "print(\"Todo esto es música, y buena: \",reggaeton,rap)"
      ],
      "execution_count": 15,
      "outputs": [
        {
          "output_type": "stream",
          "text": [
            "Todo esto es música, y buena:  ['Balvin', 'mike Towers', 'farruko', 'plan B', 'conejo malo'] ['rapbangclub', 'alkolyricos', 'crudoMeansRaw', 'buhodermia']\n"
          ],
          "name": "stdout"
        }
      ]
    },
    {
      "cell_type": "markdown",
      "metadata": {
        "id": "wH07fKyod1lQ"
      },
      "source": [
        "**Tipo Tuplas**"
      ]
    },
    {
      "cell_type": "code",
      "metadata": {
        "colab": {
          "base_uri": "https://localhost:8080/"
        },
        "id": "bEOgsWwDd3TP",
        "outputId": "9fe9dc49-604d-434d-d8b2-dc4ca9fddc62"
      },
      "source": [
        "t1=50,12.5,'pollo','3 pájaros'\n",
        "print(t1, 'gato y ratón','música')"
      ],
      "execution_count": 12,
      "outputs": [
        {
          "output_type": "stream",
          "text": [
            "(50, 12.5, 'pollo', '3 pájaros') gato y ratón música\n",
            "(50, 12.5, 'pollo', '3 pájaros') gato y ratón música\n"
          ],
          "name": "stdout"
        }
      ]
    },
    {
      "cell_type": "code",
      "metadata": {
        "colab": {
          "base_uri": "https://localhost:8080/"
        },
        "id": "2JFILOjZhesY",
        "outputId": "ce5a9ebb-3ea9-4291-bf3b-fa2cbf4ae672"
      },
      "source": [
        "arte='van goh','Dirk Valkenburg','francisco oller','Edmund Blair Leighton'\n",
        "cine='Pulp fiction','taxi driver','Matrix','The professional'\n",
        "print(\"esto es arte: \",arte,\" y esto también:\"),(arte,cine, 'música','teatro')"
      ],
      "execution_count": 21,
      "outputs": [
        {
          "output_type": "stream",
          "text": [
            "esto es arte:  ('van goh', 'Dirk Valkenburg', 'francisco oller', 'Edmund Blair Leighton')  y esto también:\n"
          ],
          "name": "stdout"
        },
        {
          "output_type": "execute_result",
          "data": {
            "text/plain": [
              "(None,\n",
              " (('van goh', 'Dirk Valkenburg', 'francisco oller', 'Edmund Blair Leighton'),\n",
              "  ('Pulp fiction', 'taxi driver', 'Matrix', 'The professional'),\n",
              "  'música',\n",
              "  'teatro'))"
            ]
          },
          "metadata": {
            "tags": []
          },
          "execution_count": 21
        }
      ]
    },
    {
      "cell_type": "markdown",
      "metadata": {
        "id": "U5l1VlLyev2V"
      },
      "source": [
        "**Tipo Diccionarios**"
      ]
    },
    {
      "cell_type": "code",
      "metadata": {
        "colab": {
          "base_uri": "https://localhost:8080/"
        },
        "id": "ZhyI4aRke2jt",
        "outputId": "5db58d53-f5d6-4bc6-db90-d8d034b1fa4d"
      },
      "source": [
        "eng={\n",
        "    \"love\":\"amor\",\n",
        "    \"honey1\":\"Miel\",\n",
        "    \"honey2\":\"Cariño\",\n",
        "    \"play\":\"Jugar\",\n",
        "    \"gorgeuos\":\"Hermoso\" ,\n",
        "    \"precio curso\":150,\n",
        "}\n",
        "\n",
        "print(eng)\n",
        "print(\"What does mean honey in spanish?\")\n",
        "print(\"Esta palabra tiene muchos significados, entre los más comunes: \")\n",
        "print(eng[\"honey1\"])\n",
        "print(eng[\"honey2\"])\n"
      ],
      "execution_count": 31,
      "outputs": [
        {
          "output_type": "stream",
          "text": [
            "{'love': 'amor', 'honey1': 'Miel', 'honey2': 'Cariño', 'play': 'Jugar', 'gorgeuos': 'Hermoso', 'precio curso': 150}\n",
            "What does mean honey in spanish?\n",
            "Esta palabra tiene muchos significados, entre los más comunes: \n",
            "Miel\n",
            "Cariño\n"
          ],
          "name": "stdout"
        }
      ]
    },
    {
      "cell_type": "code",
      "metadata": {
        "colab": {
          "base_uri": "https://localhost:8080/"
        },
        "id": "EX4AJ3bBx6Gg",
        "outputId": "c2aee4fd-6411-4c9a-e110-d3fe9e269a86"
      },
      "source": [
        "cats={}\n",
        "cats['gato1']='Tomás'\n",
        "cats['gato2']='Alfredo'\n",
        "cats['gato3']='Poseidon'\n",
        "cats['gato4']='Afrodita'\n",
        "print(cats)\n",
        "print(\"El gato más inquieto es: \",cats['gato1'])"
      ],
      "execution_count": 33,
      "outputs": [
        {
          "output_type": "stream",
          "text": [
            "{'gato1': 'Tomás', 'gato2': 'Alfredo', 'gato3': 'Poseidon', 'gato4': 'Afrodita'}\n",
            "El gato más inquieto es:  Tomás\n"
          ],
          "name": "stdout"
        }
      ]
    }
  ]
}