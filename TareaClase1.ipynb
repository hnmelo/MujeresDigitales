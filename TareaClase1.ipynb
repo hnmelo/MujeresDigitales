{
  "nbformat": 4,
  "nbformat_minor": 0,
  "metadata": {
    "colab": {
      "name": "TareaClase1.ipynb",
      "provenance": [],
      "collapsed_sections": [],
      "authorship_tag": "ABX9TyOkgBsQWWngwdkWHw5bpxY2",
      "include_colab_link": true
    },
    "kernelspec": {
      "name": "python3",
      "display_name": "Python 3"
    },
    "language_info": {
      "name": "python"
    }
  },
  "cells": [
    {
      "cell_type": "markdown",
      "metadata": {
        "id": "view-in-github",
        "colab_type": "text"
      },
      "source": [
        "<a href=\"https://colab.research.google.com/github/hnmelo/MujeresDigitales/blob/main/TareaClase1.ipynb\" target=\"_parent\"><img src=\"https://colab.research.google.com/assets/colab-badge.svg\" alt=\"Open In Colab\"/></a>"
      ]
    },
    {
      "cell_type": "markdown",
      "metadata": {
        "id": "V6akOkwQbwT1"
      },
      "source": [
        "Realizar dos ejercicios por cada tipo de variable.\n",
        "\n",
        "---\n",
        "**Tipo entero**\n",
        "\n"
      ]
    },
    {
      "cell_type": "code",
      "metadata": {
        "colab": {
          "base_uri": "https://localhost:8080/"
        },
        "id": "VntHttwtb28H",
        "outputId": "7e4d01d5-44d2-41b1-9a5a-f29c948e6827"
      },
      "source": [
        "a=int(44)\n",
        "b=int(55)\n",
        "p=(a+b)\n",
        "print(p, type (p))"
      ],
      "execution_count": 6,
      "outputs": [
        {
          "output_type": "stream",
          "text": [
            "99 <class 'int'>\n"
          ],
          "name": "stdout"
        }
      ]
    },
    {
      "cell_type": "code",
      "metadata": {
        "colab": {
          "base_uri": "https://localhost:8080/"
        },
        "id": "ACqlOwoZe4RA",
        "outputId": "7b6eb241-259c-4c1c-929e-71b2a98bd49e"
      },
      "source": [
        "h=int(16000)\n",
        "e=int(2800)\n",
        "l=int(1200)\n",
        "e=int(3600)\n",
        "n=int(6500)\n",
        "n=int(1000)\n",
        "\n",
        "print(h+e+l+e+n+n)"
      ],
      "execution_count": 13,
      "outputs": [
        {
          "output_type": "stream",
          "text": [
            "26400\n"
          ],
          "name": "stdout"
        }
      ]
    },
    {
      "cell_type": "markdown",
      "metadata": {
        "id": "xsEFKt2xcmgE"
      },
      "source": [
        "**Tipo FLoat**"
      ]
    },
    {
      "cell_type": "code",
      "metadata": {
        "colab": {
          "base_uri": "https://localhost:8080/"
        },
        "id": "b-AiW3Y-coMN",
        "outputId": "953ca136-7a14-4671-c6ef-06eb794b8cf5"
      },
      "source": [
        "x=float(5.99)\n",
        "z=float(14.2)\n",
        "p=(x*z)\n",
        "print(p, type(p))"
      ],
      "execution_count": 7,
      "outputs": [
        {
          "output_type": "stream",
          "text": [
            "85.05799999999999 <class 'float'>\n"
          ],
          "name": "stdout"
        }
      ]
    },
    {
      "cell_type": "code",
      "metadata": {
        "colab": {
          "base_uri": "https://localhost:8080/"
        },
        "id": "hz875LOiftFd",
        "outputId": "b800026e-94f0-408f-eb15-44834be8f69b"
      },
      "source": [
        "arroz=1.35\n",
        "huevos=2.36\n",
        "cocacola=2.10\n",
        "sum=(arroz + huevos + cocacola)\n",
        "print(\"El almuerzo sencillo le sale por: \",sum,\" dólares\")"
      ],
      "execution_count": 14,
      "outputs": [
        {
          "output_type": "stream",
          "text": [
            "El almuerzo sencillo le sale por:  5.8100000000000005  dólares\n"
          ],
          "name": "stdout"
        }
      ]
    },
    {
      "cell_type": "markdown",
      "metadata": {
        "id": "_byb8-_sc8TV"
      },
      "source": [
        "**Tipo Listas**"
      ]
    },
    {
      "cell_type": "code",
      "metadata": {
        "colab": {
          "base_uri": "https://localhost:8080/"
        },
        "id": "CHag2QnUc9pO",
        "outputId": "9c54a1c3-e1e9-47d1-acc2-4198f88f789b"
      },
      "source": [
        "lista1=['huevo','pan','dos mil de salchichón cervecero','leche','5']\n",
        "lista2=['arroz','carne molida con paprika','limonada de coco','plátano asado']\n",
        "\n",
        "print(lista1, lista2)"
      ],
      "execution_count": 10,
      "outputs": [
        {
          "output_type": "stream",
          "text": [
            "['huevo', 'pan', 'dos mil de salchichón cervecero', 'leche', '5'] ['arroz', 'carne molida con paprika', 'limonada de coco', 'plátano asado']\n"
          ],
          "name": "stdout"
        }
      ]
    },
    {
      "cell_type": "code",
      "metadata": {
        "colab": {
          "base_uri": "https://localhost:8080/"
        },
        "id": "yKMG-1GogPAU",
        "outputId": "6014e16d-f8b6-4a74-8355-db8c9053b955"
      },
      "source": [
        "reggaeton=['Balvin','mike Towers','farruko','plan B','conejo malo']\n",
        "rap=['rapbangclub','alkolyricos','crudoMeansRaw','buhodermia']\n",
        "print(\"Todo esto es música, y buena: \",reggaeton,rap)"
      ],
      "execution_count": 15,
      "outputs": [
        {
          "output_type": "stream",
          "text": [
            "Todo esto es música, y buena:  ['Balvin', 'mike Towers', 'farruko', 'plan B', 'conejo malo'] ['rapbangclub', 'alkolyricos', 'crudoMeansRaw', 'buhodermia']\n"
          ],
          "name": "stdout"
        }
      ]
    },
    {
      "cell_type": "markdown",
      "metadata": {
        "id": "wH07fKyod1lQ"
      },
      "source": [
        "**Tipo Tuplas**"
      ]
    },
    {
      "cell_type": "code",
      "metadata": {
        "colab": {
          "base_uri": "https://localhost:8080/"
        },
        "id": "bEOgsWwDd3TP",
        "outputId": "9fe9dc49-604d-434d-d8b2-dc4ca9fddc62"
      },
      "source": [
        "t1=50,12.5,'pollo','3 pájaros'\n",
        "print(t1, 'gato y ratón','música')"
      ],
      "execution_count": 12,
      "outputs": [
        {
          "output_type": "stream",
          "text": [
            "(50, 12.5, 'pollo', '3 pájaros') gato y ratón música\n",
            "(50, 12.5, 'pollo', '3 pájaros') gato y ratón música\n"
          ],
          "name": "stdout"
        }
      ]
    },
    {
      "cell_type": "code",
      "metadata": {
        "colab": {
          "base_uri": "https://localhost:8080/"
        },
        "id": "2JFILOjZhesY",
        "outputId": "ce5a9ebb-3ea9-4291-bf3b-fa2cbf4ae672"
      },
      "source": [
        "arte='van goh','Dirk Valkenburg','francisco oller','Edmund Blair Leighton'\n",
        "cine='Pulp fiction','taxi driver','Matrix','The professional'\n",
        "print(\"esto es arte: \",arte,\" y esto también:\"),(arte,cine, 'música','teatro')"
      ],
      "execution_count": 21,
      "outputs": [
        {
          "output_type": "stream",
          "text": [
            "esto es arte:  ('van goh', 'Dirk Valkenburg', 'francisco oller', 'Edmund Blair Leighton')  y esto también:\n"
          ],
          "name": "stdout"
        },
        {
          "output_type": "execute_result",
          "data": {
            "text/plain": [
              "(None,\n",
              " (('van goh', 'Dirk Valkenburg', 'francisco oller', 'Edmund Blair Leighton'),\n",
              "  ('Pulp fiction', 'taxi driver', 'Matrix', 'The professional'),\n",
              "  'música',\n",
              "  'teatro'))"
            ]
          },
          "metadata": {
            "tags": []
          },
          "execution_count": 21
        }
      ]
    },
    {
      "cell_type": "markdown",
      "metadata": {
        "id": "U5l1VlLyev2V"
      },
      "source": [
        "**Tipo Diccionarios**"
      ]
    },
    {
      "cell_type": "code",
      "metadata": {
        "id": "ZhyI4aRke2jt"
      },
      "source": [
        ""
      ],
      "execution_count": null,
      "outputs": []
    }
  ]
}