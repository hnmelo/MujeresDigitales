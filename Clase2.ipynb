{
  "nbformat": 4,
  "nbformat_minor": 0,
  "metadata": {
    "colab": {
      "name": "Untitled2.ipynb",
      "provenance": [],
      "authorship_tag": "ABX9TyN2GFT4JvfKswurmLD2uQlr",
      "include_colab_link": true
    },
    "kernelspec": {
      "name": "python3",
      "display_name": "Python 3"
    },
    "language_info": {
      "name": "python"
    }
  },
  "cells": [
    {
      "cell_type": "markdown",
      "metadata": {
        "id": "view-in-github",
        "colab_type": "text"
      },
      "source": [
        "<a href=\"https://colab.research.google.com/github/hnmelo/MujeresDigitales/blob/main/Clase2.ipynb\" target=\"_parent\"><img src=\"https://colab.research.google.com/assets/colab-badge.svg\" alt=\"Open In Colab\"/></a>"
      ]
    },
    {
      "cell_type": "markdown",
      "metadata": {
        "id": "930GQ2T3vgqW"
      },
      "source": [
        "05/08/2021\n",
        "\n",
        "\n",
        "---\n",
        "\n",
        "\n",
        "**Operadores Aritméticos**\n",
        "\n",
        "\n",
        "---\n",
        "Permiten realizar diferentes procesos de cálculo en cualquier lenguaje de programación:\n",
        "**Básicos:**\n",
        "1. suma\n",
        "2. Resta\n",
        "3. Multiplicación\n",
        "4. división\n",
        "**Suma y Resta**\n",
        "\n",
        "\n",
        "---\n",
        "\n",
        "\n",
        "(+)Se utilizará en medio de la declaració a variables a operar\n",
        "(-) resta\n",
        "\n",
        "\n",
        "\n"
      ]
    },
    {
      "cell_type": "code",
      "metadata": {
        "colab": {
          "base_uri": "https://localhost:8080/"
        },
        "id": "uvCA2uaFwW1x",
        "outputId": "fce48df2-141d-4570-f64e-aac140cdf9e4"
      },
      "source": [
        "print(10-300)\n",
        "a=20\n",
        "b=35\n",
        "print(a+b)\n",
        "print(a-b)"
      ],
      "execution_count": 4,
      "outputs": [
        {
          "output_type": "stream",
          "text": [
            "-290\n",
            "55\n",
            "-15\n"
          ],
          "name": "stdout"
        }
      ]
    },
    {
      "cell_type": "code",
      "metadata": {
        "colab": {
          "base_uri": "https://localhost:8080/"
        },
        "id": "wcqx1cIvxOvo",
        "outputId": "0f3926af-cdf8-4381-9bcc-0331bc3980bd"
      },
      "source": [
        "num_botellas=12\n",
        "print(num_botellas + 8)"
      ],
      "execution_count": 7,
      "outputs": [
        {
          "output_type": "stream",
          "text": [
            "20\n"
          ],
          "name": "stdout"
        }
      ]
    },
    {
      "cell_type": "code",
      "metadata": {
        "colab": {
          "base_uri": "https://localhost:8080/"
        },
        "id": "cQfjMQPrxaZ3",
        "outputId": "e487fd40-431d-4476-a97f-4338f8c117a9"
      },
      "source": [
        "num_botellas=12\n",
        "num_botellas=num_botellas+8\n",
        "print(num_botellas)"
      ],
      "execution_count": 8,
      "outputs": [
        {
          "output_type": "stream",
          "text": [
            "20\n"
          ],
          "name": "stdout"
        }
      ]
    },
    {
      "cell_type": "markdown",
      "metadata": {
        "id": "p8StAcGUxkH_"
      },
      "source": [
        "**Suma entre los diferentes tipos de variables**\n",
        "\n",
        "---\n",
        "Recordemos los tipos de variables\n",
        "1. Declaración de variables numéricas enteros\n",
        "2. Flotantes(incorpora y flexibiliza los decimales)\n",
        "3. Tipo cadena\n",
        "\n",
        "\n"
      ]
    },
    {
      "cell_type": "code",
      "metadata": {
        "colab": {
          "base_uri": "https://localhost:8080/"
        },
        "id": "0fI4_1ogx294",
        "outputId": "331ae6af-e748-461a-859e-2d1c0506c00c"
      },
      "source": [
        "q1=100\n",
        "q2=24.5\n",
        "print(type(q1+q2))"
      ],
      "execution_count": 9,
      "outputs": [
        {
          "output_type": "stream",
          "text": [
            "<class 'float'>\n"
          ],
          "name": "stdout"
        }
      ]
    },
    {
      "cell_type": "markdown",
      "metadata": {
        "id": "9om8Bk0wyE3_"
      },
      "source": [
        "La suma entre un entero y un float, el resultado es un **float**"
      ]
    },
    {
      "cell_type": "code",
      "metadata": {
        "colab": {
          "base_uri": "https://localhost:8080/"
        },
        "id": "JP-lmrYbyLoH",
        "outputId": "22987c29-f1cf-4afa-be1b-c8b7867d2989"
      },
      "source": [
        "v1=\"quiero\"\n",
        "v2=\"un celular\"\n",
        "print(v1+v2)\n",
        "print(v1,v2)"
      ],
      "execution_count": 11,
      "outputs": [
        {
          "output_type": "stream",
          "text": [
            "quieroun celular\n",
            "quiero un celular\n"
          ],
          "name": "stdout"
        }
      ]
    },
    {
      "cell_type": "markdown",
      "metadata": {
        "id": "ok1vEX2byrtp"
      },
      "source": [
        "**Ejemplo de resta**"
      ]
    },
    {
      "cell_type": "code",
      "metadata": {
        "colab": {
          "base_uri": "https://localhost:8080/"
        },
        "id": "hePq2onNywU3",
        "outputId": "66de22ee-4f1b-498c-a2c5-189ecdb46f53"
      },
      "source": [
        "xq2=235\n",
        "xq3=400\n",
        "print(xq2-xq3)"
      ],
      "execution_count": 13,
      "outputs": [
        {
          "output_type": "stream",
          "text": [
            "-165\n"
          ],
          "name": "stdout"
        }
      ]
    },
    {
      "cell_type": "code",
      "metadata": {
        "colab": {
          "base_uri": "https://localhost:8080/"
        },
        "id": "VqCipBOMzODf",
        "outputId": "f5d708f6-9861-424f-dcf3-003cb20b2d5e"
      },
      "source": [
        "xq2=24.66\n",
        "xq3=4\n",
        "print(xq2-xq3)\n",
        "print(type(xq2-xq3))"
      ],
      "execution_count": 14,
      "outputs": [
        {
          "output_type": "stream",
          "text": [
            "<class 'float'>\n"
          ],
          "name": "stdout"
        }
      ]
    },
    {
      "cell_type": "markdown",
      "metadata": {
        "id": "H737gM9tzZC-"
      },
      "source": [
        "**IMPORTANTE**\n",
        "\n",
        "---\n",
        "La resta no funciona directamente para variables tipo cadena. (Ejemplo de error)\n",
        "\n"
      ]
    },
    {
      "cell_type": "code",
      "metadata": {
        "colab": {
          "base_uri": "https://localhost:8080/",
          "height": 215
        },
        "id": "pKzmmbxCzkkv",
        "outputId": "c486f1b2-fc63-439f-ac93-d3535f376075"
      },
      "source": [
        "v1=\"5\"\n",
        "v2=\"2.3\"\n",
        "print(v1-v2)\n"
      ],
      "execution_count": 15,
      "outputs": [
        {
          "output_type": "error",
          "ename": "TypeError",
          "evalue": "ignored",
          "traceback": [
            "\u001b[0;31m---------------------------------------------------------------------------\u001b[0m",
            "\u001b[0;31mTypeError\u001b[0m                                 Traceback (most recent call last)",
            "\u001b[0;32m<ipython-input-15-d5e97aa4d7e6>\u001b[0m in \u001b[0;36m<module>\u001b[0;34m()\u001b[0m\n\u001b[1;32m      1\u001b[0m \u001b[0mv1\u001b[0m\u001b[0;34m=\u001b[0m\u001b[0;34m\"quiero\"\u001b[0m\u001b[0;34m\u001b[0m\u001b[0;34m\u001b[0m\u001b[0m\n\u001b[1;32m      2\u001b[0m \u001b[0mv2\u001b[0m\u001b[0;34m=\u001b[0m\u001b[0;34m\"un celular\"\u001b[0m\u001b[0;34m\u001b[0m\u001b[0;34m\u001b[0m\u001b[0m\n\u001b[0;32m----> 3\u001b[0;31m \u001b[0mprint\u001b[0m\u001b[0;34m(\u001b[0m\u001b[0mv1\u001b[0m\u001b[0;34m-\u001b[0m\u001b[0mv2\u001b[0m\u001b[0;34m)\u001b[0m\u001b[0;34m\u001b[0m\u001b[0;34m\u001b[0m\u001b[0m\n\u001b[0m\u001b[1;32m      4\u001b[0m \u001b[0mprint\u001b[0m\u001b[0;34m(\u001b[0m\u001b[0mv1\u001b[0m\u001b[0;34m,\u001b[0m\u001b[0mv2\u001b[0m\u001b[0;34m)\u001b[0m\u001b[0;34m\u001b[0m\u001b[0;34m\u001b[0m\u001b[0m\n",
            "\u001b[0;31mTypeError\u001b[0m: unsupported operand type(s) for -: 'str' and 'str'"
          ]
        }
      ]
    },
    {
      "cell_type": "markdown",
      "metadata": {
        "id": "qkHOBXpz0oYG"
      },
      "source": [
        "**Multiplicación**\n",
        "\n",
        "\n",
        "---\n",
        "Es la suma de varias veces un número, cantidad de veces indicadas por el otro número. **Ejemplo:**4x2= (4+4)= **8**\n",
        "El símbolo que se maneja es el asterísco (*)\n",
        "\n"
      ]
    },
    {
      "cell_type": "code",
      "metadata": {
        "colab": {
          "base_uri": "https://localhost:8080/"
        },
        "id": "N6MjSjD11GFS",
        "outputId": "f7d899e7-fe7c-44d0-a732-8bbc5af6eff0"
      },
      "source": [
        "cali=5\n",
        "palmira=6\n",
        "print(cali*palmira)"
      ],
      "execution_count": 16,
      "outputs": [
        {
          "output_type": "stream",
          "text": [
            "30\n"
          ],
          "name": "stdout"
        }
      ]
    },
    {
      "cell_type": "markdown",
      "metadata": {
        "id": "K4aKx7rQ1OTn"
      },
      "source": [
        "**IMPORTANTE**\n",
        "\n",
        "\n",
        "---\n",
        "Se aplica la ley conmutativa, es decir, el orden de los factores no altera el resultado, **(aplica para suma y multiplicación)**\n"
      ]
    },
    {
      "cell_type": "code",
      "metadata": {
        "colab": {
          "base_uri": "https://localhost:8080/"
        },
        "id": "0M1zE4KX1oPH",
        "outputId": "b8c6c405-fd29-40df-fa1b-bc957dcaafc5"
      },
      "source": [
        "cali=5\n",
        "palmira=6\n",
        "print(palmira*cali)"
      ],
      "execution_count": 17,
      "outputs": [
        {
          "output_type": "stream",
          "text": [
            "30\n"
          ],
          "name": "stdout"
        }
      ]
    },
    {
      "cell_type": "markdown",
      "metadata": {
        "id": "ChBDL7hn1rmn"
      },
      "source": [
        "**División**\n",
        "\n",
        "---\n",
        "**ACLARACIÓN:** No aplica la ley conmutativa. El símbolo de división es: **/**\n",
        "\n"
      ]
    },
    {
      "cell_type": "code",
      "metadata": {
        "colab": {
          "base_uri": "https://localhost:8080/"
        },
        "id": "H_kasQvK19iY",
        "outputId": "b4aad039-b54a-40e7-bc31-96590d41114e"
      },
      "source": [
        "a=20\n",
        "b=4\n",
        "print(20/4)\n",
        "print(a/b)"
      ],
      "execution_count": 19,
      "outputs": [
        {
          "output_type": "stream",
          "text": [
            "5.0\n",
            "5.0\n"
          ],
          "name": "stdout"
        }
      ]
    },
    {
      "cell_type": "markdown",
      "metadata": {
        "id": "p3_rFRGd2XKn"
      },
      "source": [
        "Para el print podemos separar las operaciones por variable con (,), lo cual, no afectará la impresión de los resultados por operación asignada."
      ]
    },
    {
      "cell_type": "markdown",
      "metadata": {
        "id": "puub2weq29q_"
      },
      "source": [
        "**Tipos de División**\n",
        "\n",
        "---\n",
        "1. División exacta (//)\n",
        "2. División Inexacta. (/)\n",
        "\n",
        "Cuando queremos decimales dentro de la división se utiliza un solo slash, cuando la querramos entera se utilizan dos (//)\n",
        "\n",
        "\n"
      ]
    },
    {
      "cell_type": "code",
      "metadata": {
        "colab": {
          "base_uri": "https://localhost:8080/"
        },
        "id": "9nOq6fOw3SOP",
        "outputId": "8c37f954-b4f0-49d5-dd24-d272f4a03e6e"
      },
      "source": [
        "print(15//4)\n",
        "print(15/4)"
      ],
      "execution_count": 23,
      "outputs": [
        {
          "output_type": "stream",
          "text": [
            "3\n",
            "3.75\n"
          ],
          "name": "stdout"
        }
      ]
    },
    {
      "cell_type": "markdown",
      "metadata": {
        "id": "yN0GvuPt399G"
      },
      "source": [
        "**La operación de división, al igual que una división normal, no es posible dividir entre 0** ¿por qué? porque en matemáticas es un resultado indefinido."
      ]
    },
    {
      "cell_type": "markdown",
      "metadata": {
        "id": "10QjhWw54Ts5"
      },
      "source": [
        "4. potenciación\n",
        "5. Módulo"
      ]
    },
    {
      "cell_type": "markdown",
      "metadata": {
        "id": "jHe2Qfiw4dPu"
      },
      "source": [
        "**Potenciación**\n",
        "\n",
        "\n",
        "---\n",
        "En python el símbolo es (**). El primer valor es la base y el último valor es el exponente.\n"
      ]
    },
    {
      "cell_type": "code",
      "metadata": {
        "colab": {
          "base_uri": "https://localhost:8080/"
        },
        "id": "zAofSZcQ4pcI",
        "outputId": "8b52cef4-d41b-439f-b7dd-2430128f413b"
      },
      "source": [
        "print(2**4)"
      ],
      "execution_count": 25,
      "outputs": [
        {
          "output_type": "stream",
          "text": [
            "16\n"
          ],
          "name": "stdout"
        }
      ]
    },
    {
      "cell_type": "markdown",
      "metadata": {
        "id": "jrSUgnUm4-IY"
      },
      "source": [
        "**Módulo**\n",
        "\n",
        "---\n",
        "Le llamamos módulo al residuo de la operación de la operación de división. \n",
        "El símbolo usado para mostrar el residuo es (%), el primer valor es el dividendo y el segundo valor es el divisor **Ejemplo:**\n"
      ]
    },
    {
      "cell_type": "code",
      "metadata": {
        "colab": {
          "base_uri": "https://localhost:8080/"
        },
        "id": "YY41kraG5QWR",
        "outputId": "c0cf9599-2314-46df-8516-e82efaaa59de"
      },
      "source": [
        "print(81%9)\n",
        "print(88%9)"
      ],
      "execution_count": 27,
      "outputs": [
        {
          "output_type": "stream",
          "text": [
            "0\n",
            "7\n"
          ],
          "name": "stdout"
        }
      ]
    },
    {
      "cell_type": "markdown",
      "metadata": {
        "id": "HV9X79mZ8C7W"
      },
      "source": [
        "**OPERADORES DE COMPARACIÓN**\n",
        "\n",
        "\n",
        "---\n",
        "los operadores de comparación, sirven para comparar varios valores. En la vida cotidiana a la hora de tomar decisiones tenemos que decidir entre un mejor camino u otro, Ejemplo: Compras, decisiones de vida, caminos por recorrer.\n",
        "\n"
      ]
    },
    {
      "cell_type": "markdown",
      "metadata": {
        "id": "cjv-jhuc8-BQ"
      },
      "source": [
        "**Igualdad:**\n",
        "\n",
        "\n",
        "---\n",
        "Simbolo en python es (==)\n",
        "\n",
        "\n"
      ]
    },
    {
      "cell_type": "code",
      "metadata": {
        "colab": {
          "base_uri": "https://localhost:8080/"
        },
        "id": "1ZuiWUmi9OFx",
        "outputId": "8634722c-5cfa-4658-f9a2-f1f547b8cf61"
      },
      "source": [
        "x=30\n",
        "z=31\n",
        "print(x==z)\n"
      ],
      "execution_count": 28,
      "outputs": [
        {
          "output_type": "stream",
          "text": [
            "False\n"
          ],
          "name": "stdout"
        }
      ]
    },
    {
      "cell_type": "code",
      "metadata": {
        "colab": {
          "base_uri": "https://localhost:8080/"
        },
        "id": "-jwKRYj49SFI",
        "outputId": "f2bae580-98c3-48d0-d7db-caa90df33953"
      },
      "source": [
        "x=\"casa\"\n",
        "z=\"caza\"\n",
        "print(x==z)\n"
      ],
      "execution_count": 29,
      "outputs": [
        {
          "output_type": "stream",
          "text": [
            "False\n"
          ],
          "name": "stdout"
        }
      ]
    },
    {
      "cell_type": "markdown",
      "metadata": {
        "id": "vn8xXAi__Q26"
      },
      "source": [
        "**Diferencia**\n",
        "\n",
        "\n",
        "---\n",
        "A diferencia del operador de igualdad, el símbolo está combinado por el símbolo de admiración, es decir **(!=)**\n"
      ]
    },
    {
      "cell_type": "code",
      "metadata": {
        "colab": {
          "base_uri": "https://localhost:8080/"
        },
        "id": "iXXztBHF_i_k",
        "outputId": "c415f198-587e-4946-9c96-9f984f791fe7"
      },
      "source": [
        "x=\"casa\"\n",
        "z=\"caza\"\n",
        "print(x!=z)"
      ],
      "execution_count": 30,
      "outputs": [
        {
          "output_type": "stream",
          "text": [
            "True\n"
          ],
          "name": "stdout"
        }
      ]
    },
    {
      "cell_type": "markdown",
      "metadata": {
        "id": "2lvc6iT3_w3Y"
      },
      "source": [
        "**Mayor que**\n",
        "\n",
        "---\n",
        "Símbolo de python **(>)**\n",
        "siempre en comparativa se designa cuál es el menos o el mayor, por el valor que está a la izquierda de la operación.\n",
        "siempre de izquierda a derecha."
      ]
    },
    {
      "cell_type": "code",
      "metadata": {
        "colab": {
          "base_uri": "https://localhost:8080/"
        },
        "id": "SPGfROC-_4bY",
        "outputId": "2299cfbe-fe7b-4f4c-f13e-72e4b6bcb449"
      },
      "source": [
        "print(30>29.8)\n",
        "print(20>10)"
      ],
      "execution_count": 32,
      "outputs": [
        {
          "output_type": "stream",
          "text": [
            "True\n",
            "True\n"
          ],
          "name": "stdout"
        }
      ]
    },
    {
      "cell_type": "markdown",
      "metadata": {
        "id": "WdA5kd7DAfAg"
      },
      "source": [
        "**Menor que**\n",
        "\n",
        "\n",
        "---\n",
        "Caso contrario, el símbolo es **(<)**.\n",
        "\n"
      ]
    },
    {
      "cell_type": "code",
      "metadata": {
        "colab": {
          "base_uri": "https://localhost:8080/"
        },
        "id": "UwIp9_CwAlyS",
        "outputId": "7cfea7d9-4816-432c-a709-09ca32924361"
      },
      "source": [
        "x=4\n",
        "y=3\n",
        "print(x<y)"
      ],
      "execution_count": 33,
      "outputs": [
        {
          "output_type": "stream",
          "text": [
            "False\n"
          ],
          "name": "stdout"
        }
      ]
    },
    {
      "cell_type": "markdown",
      "metadata": {
        "id": "TALVt5BwAzOg"
      },
      "source": [
        "**Mayor o igual que**\n",
        "\n",
        "\n",
        "---\n",
        "Es similar al mayor que, con la diferencia de que la forma en que dará el resultado verdadero es si ámbos números son iguales y flexibiliza dando verdadero de igual forma si el valor de la izquierda es mayor que el de la derecha. El símbolo es: **(>=)** Ejemplo:\n"
      ]
    },
    {
      "cell_type": "code",
      "metadata": {
        "colab": {
          "base_uri": "https://localhost:8080/"
        },
        "id": "THtlOwngBN5i",
        "outputId": "4dfc4355-0858-46b6-de9c-1c94437866a6"
      },
      "source": [
        "x=10\n",
        "z=10\n",
        "print(x>=z)"
      ],
      "execution_count": 34,
      "outputs": [
        {
          "output_type": "stream",
          "text": [
            "True\n"
          ],
          "name": "stdout"
        }
      ]
    },
    {
      "cell_type": "markdown",
      "metadata": {
        "id": "wOgDBjVMBmi6"
      },
      "source": [
        "**Menor o igual que**\n",
        "\n",
        "---\n",
        "El símbolo es (<=)\n",
        "\n"
      ]
    },
    {
      "cell_type": "code",
      "metadata": {
        "colab": {
          "base_uri": "https://localhost:8080/"
        },
        "id": "i2dD26QsBt9g",
        "outputId": "70bbe5c1-ef93-4737-bf35-d3fdf2a7d38a"
      },
      "source": [
        "c=45\n",
        "print(c<=46)"
      ],
      "execution_count": 35,
      "outputs": [
        {
          "output_type": "stream",
          "text": [
            "True\n"
          ],
          "name": "stdout"
        }
      ]
    },
    {
      "cell_type": "markdown",
      "metadata": {
        "id": "JAJmr6_KB5B8"
      },
      "source": [
        "**Tener en cuenta:** En comparaciones, los resultados que nos arrojan siempre serán de tipo booleano: True or False (Verdadero o falso)."
      ]
    },
    {
      "cell_type": "markdown",
      "metadata": {
        "id": "qrwOpucjCiHy"
      },
      "source": [
        "**OPERADORES LÓGICOS**\n",
        "\n",
        "\n",
        "---\n",
        "Python incluye tres operadores lógicos base:\n",
        "1. AND (y)\n",
        "2. OR (o)\n",
        "3. NOT (no)\n",
        "\n",
        "Los operadores lógicos funcionan sólo con valores o variable booleanas, a su vez, devuelven como respuesta valores booleanos.\n",
        "\n",
        "\n"
      ]
    },
    {
      "cell_type": "markdown",
      "metadata": {
        "id": "09cZYf-vC_0O"
      },
      "source": [
        "**OPERADOR AND**\n",
        "\n",
        "\n",
        "---\n",
        "Este operador sólo devolverá (verdadero) si ambos valores lo son, ¿cómo usar el operador AND?. Para usar este operador basta con escribir el valor booleano, luego la palabra \"and\" y por último, otro valor booleano. **Ejemplo:**\n"
      ]
    },
    {
      "cell_type": "code",
      "metadata": {
        "colab": {
          "base_uri": "https://localhost:8080/"
        },
        "id": "FVPqOR68Dafx",
        "outputId": "2d8d7245-54e6-4345-bec2-8e04e640339b"
      },
      "source": [
        "print(True and False)"
      ],
      "execution_count": 37,
      "outputs": [
        {
          "output_type": "stream",
          "text": [
            "False\n"
          ],
          "name": "stdout"
        }
      ]
    },
    {
      "cell_type": "markdown",
      "metadata": {
        "id": "UvLA_UuNDmXY"
      },
      "source": [
        "**Ejemplo 2 de contextualización AND**\n",
        "1. True and True = True\n",
        "2. False and False = False \n",
        "3. False and True = False "
      ]
    },
    {
      "cell_type": "markdown",
      "metadata": {
        "id": "4Htfme6VEMaU"
      },
      "source": [
        "**OPERADOR OR**\n",
        "\n",
        "\n",
        "---\n",
        "A diferencia del operador AND, or devuelve todo verdadero a menos de que ámbos valores sean **FALSOS**\n"
      ]
    },
    {
      "cell_type": "code",
      "metadata": {
        "colab": {
          "base_uri": "https://localhost:8080/"
        },
        "id": "YzUmHRAUEcqy",
        "outputId": "efc05814-ac9b-4044-95a8-871d42bdbcce"
      },
      "source": [
        "print(True or False)\n",
        "print(False or False)"
      ],
      "execution_count": 38,
      "outputs": [
        {
          "output_type": "stream",
          "text": [
            "True\n",
            "False\n"
          ],
          "name": "stdout"
        }
      ]
    },
    {
      "cell_type": "markdown",
      "metadata": {
        "id": "p2dA2J00EmSV"
      },
      "source": [
        "**Ejemplo 2 de contextualización OR**\n",
        "\n",
        "True or True = True\n",
        "True or False = True\n",
        "False or False = False"
      ]
    },
    {
      "cell_type": "markdown",
      "metadata": {
        "id": "IwvcctUWE8DL"
      },
      "source": [
        "**Combinación de operadores de comparación con lógicos:**"
      ]
    },
    {
      "cell_type": "code",
      "metadata": {
        "colab": {
          "base_uri": "https://localhost:8080/"
        },
        "id": "LQHwI6r7FAX6",
        "outputId": "06921633-314d-4057-e69f-8c9d7d452c04"
      },
      "source": [
        "a=3\n",
        "b=2\n",
        "print(a>4 or a==4)\n",
        "print(b==b and a>=b)"
      ],
      "execution_count": 40,
      "outputs": [
        {
          "output_type": "stream",
          "text": [
            "False\n",
            "True\n"
          ],
          "name": "stdout"
        }
      ]
    },
    {
      "cell_type": "markdown",
      "metadata": {
        "id": "znh_U01wFmML"
      },
      "source": [
        "**OPERADOR NOT**\n",
        "\n",
        "---\n",
        "Este operador es negación, en español \"no\", Este operador es muy especial, dado que que por si sólo no sirve para realizar ninguna operación, lo único que hace es negar, o en palabras más simples, **Invertir el valor booleano que viene después de él.**\n"
      ]
    },
    {
      "cell_type": "code",
      "metadata": {
        "colab": {
          "base_uri": "https://localhost:8080/"
        },
        "id": "aqp3tMkTGQnG",
        "outputId": "c7973597-72d5-4232-ff18-ee088e582e65"
      },
      "source": [
        "print(not False)\n",
        "print(not True)"
      ],
      "execution_count": 42,
      "outputs": [
        {
          "output_type": "stream",
          "text": [
            "True\n",
            "False\n"
          ],
          "name": "stdout"
        }
      ]
    },
    {
      "cell_type": "markdown",
      "metadata": {
        "id": "NDD2bDJ5HZdi"
      },
      "source": [
        "**PRECEDENCIA DE OPERADORES**\n",
        "\n",
        "\n",
        "---\n",
        "Es muy importante manejar el orden de las operaciones al realizarlas, para no caer en problemas de código error.\n",
        "\n",
        "El orden deber ser: \n",
        "1. De izquierda a derecha\n",
        "2. Paréntesis\n",
        "3. Potenciación o radicación\n",
        "4. Multiplicación y división\n",
        "5. Suma y resta\n",
        "\n",
        "\n",
        "**Ejemplo**\n",
        "\n",
        "4-2(10)\n",
        "1. primero el paréntesis\n",
        "2*10=\n",
        "2. Se continúa con la multiplicación: 4-20=\n",
        "3. Por último la resta: 4-20=16\n",
        "*¿Cuál crees que es el resultado?*\n",
        "\n",
        "\n"
      ]
    },
    {
      "cell_type": "code",
      "metadata": {
        "colab": {
          "base_uri": "https://localhost:8080/"
        },
        "id": "eieHGOTKI4Wg",
        "outputId": "b5c2f7b8-e551-4aa7-92b9-51d25e17c47a"
      },
      "source": [
        "a=False\n",
        "b=True\n",
        "c=True\n",
        "print(not c and (a or b))"
      ],
      "execution_count": 43,
      "outputs": [
        {
          "output_type": "stream",
          "text": [
            "False\n"
          ],
          "name": "stdout"
        }
      ]
    },
    {
      "cell_type": "code",
      "metadata": {
        "colab": {
          "base_uri": "https://localhost:8080/"
        },
        "id": "-o_pXTGTJO86",
        "outputId": "d6bcebca-ca28-4116-f58a-89961912ac99"
      },
      "source": [
        "print(3-2*(13-5))"
      ],
      "execution_count": 45,
      "outputs": [
        {
          "output_type": "stream",
          "text": [
            "-13\n"
          ],
          "name": "stdout"
        }
      ]
    },
    {
      "cell_type": "markdown",
      "metadata": {
        "id": "4mMUbMqKJgBn"
      },
      "source": [
        "**RESUMEN**\n",
        "1. Aplicación de ley conmutativa: sólo para suma y resta (operadores básicos)\n",
        "2. Los resultados con operadores lógicos son de tipo Booleano.\n",
        "3. **No** se puede realizar resta entre variables, de tipo cadena (El procedimiento si abarca números es la conversión desde el inicio).\n",
        "4. Si aplicamos el condicional AND, para que el resultado sea TRUE, la única forma es que ámbos valores sean verdaderos.\n",
        "5. En cambio con el OR, si cumple que alguno de los dos valores son TRUE, el resultado será TRUE."
      ]
    }
  ]
}