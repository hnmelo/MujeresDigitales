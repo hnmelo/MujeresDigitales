{
  "nbformat": 4,
  "nbformat_minor": 0,
  "metadata": {
    "colab": {
      "name": "Untitled4.ipynb",
      "provenance": [],
      "authorship_tag": "ABX9TyOWLDV4TmyY9KxRvBW7DTbT",
      "include_colab_link": true
    },
    "kernelspec": {
      "name": "python3",
      "display_name": "Python 3"
    },
    "language_info": {
      "name": "python"
    }
  },
  "cells": [
    {
      "cell_type": "markdown",
      "metadata": {
        "id": "view-in-github",
        "colab_type": "text"
      },
      "source": [
        "<a href=\"https://colab.research.google.com/github/hnmelo/MujeresDigitales/blob/main/Clase3.ipynb\" target=\"_parent\"><img src=\"https://colab.research.google.com/assets/colab-badge.svg\" alt=\"Open In Colab\"/></a>"
      ]
    },
    {
      "cell_type": "markdown",
      "metadata": {
        "id": "RIeOytzJ4waF"
      },
      "source": [
        "06/08/2021\n",
        "\n",
        "---\n",
        "Al momento de construir una instrucción de tipo condicional se deberá comprender que dichas instrucciones están diseñadas para ayudar en la toma de decisiones:\n",
        "\n",
        "**Ejemplo**\n",
        "\n",
        "\n",
        "**-->Si** Pedro va a la tienda por la izquierda llegará más rápido, sino, se demorará más\n",
        "\n",
        "Existen varios tipos de instrucciones, algunos pueden ser simples y otros múltiples, sin embargo, sólo se generan dos resultados: \n",
        "1. Verdadero\n",
        "2. Falso\n",
        "\n",
        "En python tales resultados serían *True o False*\n",
        "\n",
        "---\n",
        "Para aplicar los condicionales que veremos a continuación debemos recordar los comandos de operadores matemáticos vistos en clase a anterior\n",
        "1. Igualdad(==)\n",
        "2. Diferencia(!=)\n",
        "3. Menor que(<)\n",
        "4. Mayor que(>)\n",
        "5. Menor o igual que(<=)\n",
        "6. Mayor o igual que(>=)\n",
        "\n",
        "---"
      ]
    },
    {
      "cell_type": "markdown",
      "metadata": {
        "id": "k3pne1MG7Mdo"
      },
      "source": [
        "En condiciones múltiples, podemos enlazar los operadores lógicos:\n",
        "1. y (and)\n",
        "2. o (or)\n",
        "3. Not (no)\n",
        "\n",
        "\n",
        "**Ejemplo**\n",
        "\n",
        "1. 3==8 and 8>12 //False\n",
        "2. 3==3 or 15>3 //True\n",
        "3. not True //True\n",
        "\n",
        "\n",
        "Para aplicar los operadores matemáticos y lógicos, tenemos que tener en cuenta lo que llamamos: **Diagrama de Flujos**, esto nos permite, una mayor organización de las ideas para la toma de decisiones."
      ]
    },
    {
      "cell_type": "markdown",
      "metadata": {
        "id": "_EDplxVo8KmU"
      },
      "source": [
        "**COMANDO IF**\n",
        "\n",
        "---\n",
        "Este comando permite evaluar si una sentencia es verdadera o falsa. Es decir, se ejecuta una acción establecida mediante un código de instrucción o varias instrucciones inmediatamente en las lineas siguientes a dicha condición.\n",
        "\n"
      ]
    },
    {
      "cell_type": "code",
      "metadata": {
        "colab": {
          "base_uri": "https://localhost:8080/"
        },
        "id": "mhNrYucxBicv",
        "outputId": "604f3512-a363-478e-c503-afeab48a5e78"
      },
      "source": [
        "num=input('Escribir cualquier número')\n",
        "if num == 200:\n",
        "  print(\"Escribiste el 200\")"
      ],
      "execution_count": 7,
      "outputs": [
        {
          "output_type": "stream",
          "text": [
            "Escribir cualquier número55\n"
          ],
          "name": "stdout"
        }
      ]
    },
    {
      "cell_type": "markdown",
      "metadata": {
        "id": "cqZqW4m6CbsN"
      },
      "source": [
        "**El comando ELSE**\n",
        "\n",
        "---\n",
        "En español es conocido como *\"sino\"*. Este comando permite relacionar las acciones que debería realizar en caso de que la condición sea negativa."
      ]
    },
    {
      "cell_type": "code",
      "metadata": {
        "colab": {
          "base_uri": "https://localhost:8080/"
        },
        "id": "yDZlhqg9Cr_p",
        "outputId": "073b5ad8-f4ba-466f-d454-db7f0b6c4141"
      },
      "source": [
        "num=int(input('Escribir cualquier número'))\n",
        "if num == 200:\n",
        "  print(\"Escribiste el 200\")\n",
        "else: \n",
        "  print(\"El número escrito no es 200\")"
      ],
      "execution_count": 10,
      "outputs": [
        {
          "output_type": "stream",
          "text": [
            "Escribir cualquier número200\n",
            "Escribiste el 200\n"
          ],
          "name": "stdout"
        }
      ]
    },
    {
      "cell_type": "markdown",
      "metadata": {
        "id": "JlkoYZ6qD1hZ"
      },
      "source": [
        "**El comando ELIF**\n",
        "\n",
        "---\n",
        "Significa *\"sino, si\"* y permite concatenar condiciones:"
      ]
    },
    {
      "cell_type": "code",
      "metadata": {
        "colab": {
          "base_uri": "https://localhost:8080/"
        },
        "id": "9j7T0bWyEFIq",
        "outputId": "7a664021-d576-4aeb-dfc7-6b34968fdccc"
      },
      "source": [
        "num=int(input('Escribir cualquier número'))\n",
        "if num == 200:\n",
        "  print(\"Escribiste el 200\")\n",
        "elif num > 200:\n",
        "  print(\"El número ingresado es mayor a 200\")\n",
        "else: \n",
        "  print(\"El número escrito no es 200\")"
      ],
      "execution_count": 11,
      "outputs": [
        {
          "output_type": "stream",
          "text": [
            "Escribir cualquier número233\n",
            "El número ingresado es mayor a 200\n"
          ],
          "name": "stdout"
        }
      ]
    },
    {
      "cell_type": "markdown",
      "metadata": {
        "id": "d4YDEYEKHmYB"
      },
      "source": [
        "**Condicionales Múltiples**\n",
        "\n",
        "---\n",
        "Cuando se presentan situaciones con más de una condición que dependen unas de otras, éstas se pueden tratar mediante el manejo de varias sentencias o comandos if, o mediante el manejo adecuado del comando elif, sin embargo, en muchos casos, cuando hay múltiples condiciones, la programación necesita mayor cantidad de líneas de código.\n",
        "\n",
        "En esos casos es necesario el uso de operadores lógicos como el **and y el or**\n",
        "\n",
        "\n",
        "**Ejemplo:**"
      ]
    },
    {
      "cell_type": "code",
      "metadata": {
        "colab": {
          "base_uri": "https://localhost:8080/"
        },
        "id": "Mt_eh-U8III6",
        "outputId": "f4fa07b7-bff3-4266-a1f9-408c7d911a27"
      },
      "source": [
        "x=int(input(\"valor\")) #Condicional anidada\n",
        "if 0<x:\n",
        "  if x<10:\n",
        "    print(\"X es un número positivo\")"
      ],
      "execution_count": 16,
      "outputs": [
        {
          "output_type": "stream",
          "text": [
            "valor8\n",
            "X es un número positivo\n"
          ],
          "name": "stdout"
        }
      ]
    },
    {
      "cell_type": "code",
      "metadata": {
        "colab": {
          "base_uri": "https://localhost:8080/"
        },
        "id": "u-V-ZpERKCLZ",
        "outputId": "21759240-0eae-4991-93cb-5bd56a46927d"
      },
      "source": [
        "x=int(input(\"valor\")) #Condicional boobleana\n",
        "if 0<x and x<10:\n",
        "  print(\"X es un número positivo\")"
      ],
      "execution_count": 18,
      "outputs": [
        {
          "output_type": "stream",
          "text": [
            "valor8\n",
            "X es un número positivo\n"
          ],
          "name": "stdout"
        }
      ]
    },
    {
      "cell_type": "code",
      "metadata": {
        "colab": {
          "base_uri": "https://localhost:8080/"
        },
        "id": "XU6qIfv4Kjwm",
        "outputId": "90caca14-dd22-4e12-c5ed-955ed41bf366"
      },
      "source": [
        "x=int(input(\"valor\")) \n",
        "if 0<x<10:\n",
        "  print(\"X es un número positivo\")"
      ],
      "execution_count": 20,
      "outputs": [
        {
          "output_type": "stream",
          "text": [
            "valor10\n"
          ],
          "name": "stdout"
        }
      ]
    },
    {
      "cell_type": "markdown",
      "metadata": {
        "id": "wDxEi_TWKt70"
      },
      "source": [
        "Esta condición es la misma expresión booleana compuesta y la misma expresión condicional anidada"
      ]
    }
  ]
}