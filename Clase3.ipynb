{
  "nbformat": 4,
  "nbformat_minor": 0,
  "metadata": {
    "colab": {
      "name": "Untitled4.ipynb",
      "provenance": [],
      "authorship_tag": "ABX9TyPb9vmgrYthShW5FdyDEy+w",
      "include_colab_link": true
    },
    "kernelspec": {
      "name": "python3",
      "display_name": "Python 3"
    },
    "language_info": {
      "name": "python"
    }
  },
  "cells": [
    {
      "cell_type": "markdown",
      "metadata": {
        "id": "view-in-github",
        "colab_type": "text"
      },
      "source": [
        "<a href=\"https://colab.research.google.com/github/hnmelo/MujeresDigitales/blob/main/Clase3.ipynb\" target=\"_parent\"><img src=\"https://colab.research.google.com/assets/colab-badge.svg\" alt=\"Open In Colab\"/></a>"
      ]
    },
    {
      "cell_type": "markdown",
      "metadata": {
        "id": "RIeOytzJ4waF"
      },
      "source": [
        "06/08/2021\n",
        "\n",
        "---\n",
        "Al momento de construir una instrucción de tipo condicional se deberá comprender que dichas instrucciones están diseñadas para ayudar en la toma de decisiones:\n",
        "\n",
        "**Ejemplo**\n",
        "\n",
        "\n",
        "**-->Si** Pedro va a la tienda por la izquierda llegará más rápido, sino, se demorará más\n",
        "\n",
        "Existen varios tipos de instrucciones, algunos pueden ser simples y otros múltiples, sin embargo, sólo se generan dos resultados: \n",
        "1. Verdadero\n",
        "2. Falso\n",
        "\n",
        "En python tales resultados serían *True o False*\n",
        "\n",
        "---\n",
        "Para aplicar los condicionales que veremos a continuación debemos recordar los comandos de operadores matemáticos vistos en clase a anterior\n",
        "1. Igualdad(==)\n",
        "2. Diferencia(!=)\n",
        "3. Menor que(<)\n",
        "4. Mayor que(>)\n",
        "5. Menor o igual que(<=)\n",
        "6. Mayor o igual que(>=)\n",
        "\n",
        "---"
      ]
    },
    {
      "cell_type": "markdown",
      "metadata": {
        "id": "k3pne1MG7Mdo"
      },
      "source": [
        "En condiciones múltiples, podemos enlazar los operadores lógicos:\n",
        "1. y (and)\n",
        "2. o (or)\n",
        "3. Not (no)\n",
        "\n",
        "\n",
        "**Ejemplo**\n",
        "\n",
        "1. 3==8 and 8>12 //False\n",
        "2. 3==3 or 15>3 //True\n",
        "3. not True //True\n",
        "\n",
        "\n",
        "Para aplicar los operadores matemáticos y lógicos, tenemos que tener en cuenta lo que llamamos: **Diagrama de Flujos**, esto nos permite, una mayor organización de las ideas para la toma de decisiones."
      ]
    },
    {
      "cell_type": "markdown",
      "metadata": {
        "id": "_EDplxVo8KmU"
      },
      "source": [
        "**COMANDO IF**\n",
        "\n",
        "---\n",
        "Este comando permite evaluar si una sentencia es verdadera o falsa. Es decir, se ejecuta una acción establecida mediante un código de instrucción o varias instrucciones inmediatamente en las lineas siguientes a dicha condición.\n",
        "\n"
      ]
    },
    {
      "cell_type": "code",
      "metadata": {
        "id": "mhNrYucxBicv"
      },
      "source": [
        "num=input('Escribir cualquier número')"
      ],
      "execution_count": null,
      "outputs": []
    },
    {
      "cell_type": "markdown",
      "metadata": {
        "id": "8D6XvZFO6QrR"
      },
      "source": [
        ""
      ]
    }
  ]
}