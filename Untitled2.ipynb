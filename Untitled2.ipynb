{
  "nbformat": 4,
  "nbformat_minor": 0,
  "metadata": {
    "colab": {
      "name": "Untitled2.ipynb",
      "provenance": [],
      "authorship_tag": "ABX9TyOIAyZH30IN9ENLRyd8zYHR",
      "include_colab_link": true
    },
    "kernelspec": {
      "name": "python3",
      "display_name": "Python 3"
    },
    "language_info": {
      "name": "python"
    }
  },
  "cells": [
    {
      "cell_type": "markdown",
      "metadata": {
        "id": "view-in-github",
        "colab_type": "text"
      },
      "source": [
        "<a href=\"https://colab.research.google.com/github/hnmelo/MujeresDigitales/blob/main/Untitled2.ipynb\" target=\"_parent\"><img src=\"https://colab.research.google.com/assets/colab-badge.svg\" alt=\"Open In Colab\"/></a>"
      ]
    },
    {
      "cell_type": "markdown",
      "metadata": {
        "id": "930GQ2T3vgqW"
      },
      "source": [
        "05/08/2021\n",
        "\n",
        "\n",
        "---\n",
        "\n",
        "\n",
        "**Operadores Aritméticos**\n",
        "\n",
        "\n",
        "---\n",
        "Permiten realizar diferentes procesos de cálculo en cualquier lenguaje de programación:\n",
        "**Básicos:**\n",
        "1. suma\n",
        "2. Resta\n",
        "3. Multiplicación\n",
        "4. división\n",
        "**Suma y Resta**\n",
        "\n",
        "\n",
        "---\n",
        "\n",
        "\n",
        "(+)Se utilizará en medio de la declaració a variables a operar\n",
        "(-) resta\n",
        "\n",
        "\n",
        "\n"
      ]
    },
    {
      "cell_type": "code",
      "metadata": {
        "colab": {
          "base_uri": "https://localhost:8080/"
        },
        "id": "uvCA2uaFwW1x",
        "outputId": "fce48df2-141d-4570-f64e-aac140cdf9e4"
      },
      "source": [
        "print(10-300)\n",
        "a=20\n",
        "b=35\n",
        "print(a+b)\n",
        "print(a-b)"
      ],
      "execution_count": 4,
      "outputs": [
        {
          "output_type": "stream",
          "text": [
            "-290\n",
            "55\n",
            "-15\n"
          ],
          "name": "stdout"
        }
      ]
    },
    {
      "cell_type": "code",
      "metadata": {
        "colab": {
          "base_uri": "https://localhost:8080/"
        },
        "id": "wcqx1cIvxOvo",
        "outputId": "0f3926af-cdf8-4381-9bcc-0331bc3980bd"
      },
      "source": [
        "num_botellas=12\n",
        "print(num_botellas + 8)"
      ],
      "execution_count": 7,
      "outputs": [
        {
          "output_type": "stream",
          "text": [
            "20\n"
          ],
          "name": "stdout"
        }
      ]
    },
    {
      "cell_type": "code",
      "metadata": {
        "colab": {
          "base_uri": "https://localhost:8080/"
        },
        "id": "cQfjMQPrxaZ3",
        "outputId": "e487fd40-431d-4476-a97f-4338f8c117a9"
      },
      "source": [
        "num_botellas=12\n",
        "num_botellas=num_botellas+8\n",
        "print(num_botellas)"
      ],
      "execution_count": 8,
      "outputs": [
        {
          "output_type": "stream",
          "text": [
            "20\n"
          ],
          "name": "stdout"
        }
      ]
    },
    {
      "cell_type": "markdown",
      "metadata": {
        "id": "p8StAcGUxkH_"
      },
      "source": [
        "**Suma entre los diferentes tipos de variables**\n",
        "\n",
        "---\n",
        "Recordemos los tipos de variables\n",
        "1. Declaración de variables numéricas enteros\n",
        "2. Flotantes(incorpora y flexibiliza los decimales)\n",
        "3. Tipo cadena\n",
        "\n",
        "\n"
      ]
    },
    {
      "cell_type": "code",
      "metadata": {
        "colab": {
          "base_uri": "https://localhost:8080/"
        },
        "id": "0fI4_1ogx294",
        "outputId": "331ae6af-e748-461a-859e-2d1c0506c00c"
      },
      "source": [
        "q1=100\n",
        "q2=24.5\n",
        "print(type(q1+q2))"
      ],
      "execution_count": 9,
      "outputs": [
        {
          "output_type": "stream",
          "text": [
            "<class 'float'>\n"
          ],
          "name": "stdout"
        }
      ]
    },
    {
      "cell_type": "markdown",
      "metadata": {
        "id": "9om8Bk0wyE3_"
      },
      "source": [
        "La suma entre un entero y un float, el resultado es un **float**"
      ]
    },
    {
      "cell_type": "code",
      "metadata": {
        "colab": {
          "base_uri": "https://localhost:8080/"
        },
        "id": "JP-lmrYbyLoH",
        "outputId": "22987c29-f1cf-4afa-be1b-c8b7867d2989"
      },
      "source": [
        "v1=\"quiero\"\n",
        "v2=\"un celular\"\n",
        "print(v1+v2)\n",
        "print(v1,v2)"
      ],
      "execution_count": 11,
      "outputs": [
        {
          "output_type": "stream",
          "text": [
            "quieroun celular\n",
            "quiero un celular\n"
          ],
          "name": "stdout"
        }
      ]
    },
    {
      "cell_type": "markdown",
      "metadata": {
        "id": "ok1vEX2byrtp"
      },
      "source": [
        "**Ejemplo de resta**"
      ]
    },
    {
      "cell_type": "code",
      "metadata": {
        "colab": {
          "base_uri": "https://localhost:8080/"
        },
        "id": "hePq2onNywU3",
        "outputId": "66de22ee-4f1b-498c-a2c5-189ecdb46f53"
      },
      "source": [
        "xq2=235\n",
        "xq3=400\n",
        "print(xq2-xq3)"
      ],
      "execution_count": 13,
      "outputs": [
        {
          "output_type": "stream",
          "text": [
            "-165\n"
          ],
          "name": "stdout"
        }
      ]
    },
    {
      "cell_type": "code",
      "metadata": {
        "colab": {
          "base_uri": "https://localhost:8080/"
        },
        "id": "VqCipBOMzODf",
        "outputId": "f5d708f6-9861-424f-dcf3-003cb20b2d5e"
      },
      "source": [
        "xq2=24.66\n",
        "xq3=4\n",
        "print(xq2-xq3)\n",
        "print(type(xq2-xq3))"
      ],
      "execution_count": 14,
      "outputs": [
        {
          "output_type": "stream",
          "text": [
            "<class 'float'>\n"
          ],
          "name": "stdout"
        }
      ]
    },
    {
      "cell_type": "markdown",
      "metadata": {
        "id": "H737gM9tzZC-"
      },
      "source": [
        "**IMPORTANTE**\n",
        "\n",
        "---\n",
        "La resta no funciona directamente para variables tipo cadena. (Ejemplo de error)\n",
        "\n"
      ]
    },
    {
      "cell_type": "code",
      "metadata": {
        "colab": {
          "base_uri": "https://localhost:8080/",
          "height": 215
        },
        "id": "pKzmmbxCzkkv",
        "outputId": "c486f1b2-fc63-439f-ac93-d3535f376075"
      },
      "source": [
        "v1=\"5\"\n",
        "v2=\"2.3\"\n",
        "print(v1-v2)\n"
      ],
      "execution_count": 15,
      "outputs": [
        {
          "output_type": "error",
          "ename": "TypeError",
          "evalue": "ignored",
          "traceback": [
            "\u001b[0;31m---------------------------------------------------------------------------\u001b[0m",
            "\u001b[0;31mTypeError\u001b[0m                                 Traceback (most recent call last)",
            "\u001b[0;32m<ipython-input-15-d5e97aa4d7e6>\u001b[0m in \u001b[0;36m<module>\u001b[0;34m()\u001b[0m\n\u001b[1;32m      1\u001b[0m \u001b[0mv1\u001b[0m\u001b[0;34m=\u001b[0m\u001b[0;34m\"quiero\"\u001b[0m\u001b[0;34m\u001b[0m\u001b[0;34m\u001b[0m\u001b[0m\n\u001b[1;32m      2\u001b[0m \u001b[0mv2\u001b[0m\u001b[0;34m=\u001b[0m\u001b[0;34m\"un celular\"\u001b[0m\u001b[0;34m\u001b[0m\u001b[0;34m\u001b[0m\u001b[0m\n\u001b[0;32m----> 3\u001b[0;31m \u001b[0mprint\u001b[0m\u001b[0;34m(\u001b[0m\u001b[0mv1\u001b[0m\u001b[0;34m-\u001b[0m\u001b[0mv2\u001b[0m\u001b[0;34m)\u001b[0m\u001b[0;34m\u001b[0m\u001b[0;34m\u001b[0m\u001b[0m\n\u001b[0m\u001b[1;32m      4\u001b[0m \u001b[0mprint\u001b[0m\u001b[0;34m(\u001b[0m\u001b[0mv1\u001b[0m\u001b[0;34m,\u001b[0m\u001b[0mv2\u001b[0m\u001b[0;34m)\u001b[0m\u001b[0;34m\u001b[0m\u001b[0;34m\u001b[0m\u001b[0m\n",
            "\u001b[0;31mTypeError\u001b[0m: unsupported operand type(s) for -: 'str' and 'str'"
          ]
        }
      ]
    },
    {
      "cell_type": "markdown",
      "metadata": {
        "id": "qkHOBXpz0oYG"
      },
      "source": [
        "**Multiplicación**\n",
        "\n",
        "\n",
        "---\n",
        "Es la suma de varias veces un número, cantidad de veces indicadas por el otro número. **Ejemplo:**4x2= (4+4)= **8**\n",
        "El símbolo que se maneja es el asterísco (*)\n",
        "\n"
      ]
    },
    {
      "cell_type": "code",
      "metadata": {
        "colab": {
          "base_uri": "https://localhost:8080/"
        },
        "id": "N6MjSjD11GFS",
        "outputId": "f7d899e7-fe7c-44d0-a732-8bbc5af6eff0"
      },
      "source": [
        "cali=5\n",
        "palmira=6\n",
        "print(cali*palmira)"
      ],
      "execution_count": 16,
      "outputs": [
        {
          "output_type": "stream",
          "text": [
            "30\n"
          ],
          "name": "stdout"
        }
      ]
    },
    {
      "cell_type": "markdown",
      "metadata": {
        "id": "K4aKx7rQ1OTn"
      },
      "source": [
        "**IMPORTANTE**\n",
        "\n",
        "\n",
        "---\n",
        "Se aplica la ley conmutativa, es decir, el orden de los factores no altera el resultado, **(aplica para suma y multiplicación)**\n"
      ]
    },
    {
      "cell_type": "code",
      "metadata": {
        "colab": {
          "base_uri": "https://localhost:8080/"
        },
        "id": "0M1zE4KX1oPH",
        "outputId": "b8c6c405-fd29-40df-fa1b-bc957dcaafc5"
      },
      "source": [
        "cali=5\n",
        "palmira=6\n",
        "print(palmira*cali)"
      ],
      "execution_count": 17,
      "outputs": [
        {
          "output_type": "stream",
          "text": [
            "30\n"
          ],
          "name": "stdout"
        }
      ]
    },
    {
      "cell_type": "markdown",
      "metadata": {
        "id": "ChBDL7hn1rmn"
      },
      "source": [
        "**División**\n",
        "\n",
        "---\n",
        "**ACLARACIÓN:** No aplica la ley conmutativa. El símbolo de división es: **/**\n",
        "\n"
      ]
    },
    {
      "cell_type": "code",
      "metadata": {
        "colab": {
          "base_uri": "https://localhost:8080/"
        },
        "id": "H_kasQvK19iY",
        "outputId": "b4aad039-b54a-40e7-bc31-96590d41114e"
      },
      "source": [
        "a=20\n",
        "b=4\n",
        "print(20/4)\n",
        "print(a/b)"
      ],
      "execution_count": 19,
      "outputs": [
        {
          "output_type": "stream",
          "text": [
            "5.0\n",
            "5.0\n"
          ],
          "name": "stdout"
        }
      ]
    },
    {
      "cell_type": "markdown",
      "metadata": {
        "id": "p3_rFRGd2XKn"
      },
      "source": [
        "Para el print podemos separar las operaciones por variable con (,), lo cual, no afectará la impresión de los resultados por operación asignada."
      ]
    },
    {
      "cell_type": "markdown",
      "metadata": {
        "id": "puub2weq29q_"
      },
      "source": [
        "**Tipos de División**\n",
        "\n",
        "---\n",
        "1. División exacta (//)\n",
        "2. División Inexacta. (/)\n",
        "\n",
        "Cuando queremos decimales dentro de la división se utiliza un solo slash, cuando la querramos entera se utilizan dos (//)\n",
        "\n",
        "\n"
      ]
    },
    {
      "cell_type": "code",
      "metadata": {
        "colab": {
          "base_uri": "https://localhost:8080/"
        },
        "id": "9nOq6fOw3SOP",
        "outputId": "8c37f954-b4f0-49d5-dd24-d272f4a03e6e"
      },
      "source": [
        "print(15//4)\n",
        "print(15/4)"
      ],
      "execution_count": 23,
      "outputs": [
        {
          "output_type": "stream",
          "text": [
            "3\n",
            "3.75\n"
          ],
          "name": "stdout"
        }
      ]
    },
    {
      "cell_type": "markdown",
      "metadata": {
        "id": "yN0GvuPt399G"
      },
      "source": [
        "**La operación de división, al igual que una división normal, no es posible dividir entre 0** ¿por qué? porque en matemáticas es un resultado indefinido."
      ]
    },
    {
      "cell_type": "markdown",
      "metadata": {
        "id": "10QjhWw54Ts5"
      },
      "source": [
        "4. potenciación\n",
        "5. Módulo"
      ]
    },
    {
      "cell_type": "markdown",
      "metadata": {
        "id": "jHe2Qfiw4dPu"
      },
      "source": [
        "**Potenciación**\n",
        "\n",
        "\n",
        "---\n",
        "En python el símbolo es (**). El primer valor es la base y el último valor es el exponente.\n"
      ]
    },
    {
      "cell_type": "code",
      "metadata": {
        "colab": {
          "base_uri": "https://localhost:8080/"
        },
        "id": "zAofSZcQ4pcI",
        "outputId": "8b52cef4-d41b-439f-b7dd-2430128f413b"
      },
      "source": [
        "print(2**4)"
      ],
      "execution_count": 25,
      "outputs": [
        {
          "output_type": "stream",
          "text": [
            "16\n"
          ],
          "name": "stdout"
        }
      ]
    }
  ]
}