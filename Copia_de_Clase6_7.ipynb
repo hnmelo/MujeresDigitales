{
  "nbformat": 4,
  "nbformat_minor": 0,
  "metadata": {
    "colab": {
      "name": "Copia de Clase6_7.ipynb",
      "provenance": [],
      "include_colab_link": true
    },
    "kernelspec": {
      "name": "python3",
      "display_name": "Python 3"
    },
    "language_info": {
      "name": "python"
    }
  },
  "cells": [
    {
      "cell_type": "markdown",
      "metadata": {
        "id": "view-in-github",
        "colab_type": "text"
      },
      "source": [
        "<a href=\"https://colab.research.google.com/github/hnmelo/MujeresDigitales/blob/main/Copia_de_Clase6_7.ipynb\" target=\"_parent\"><img src=\"https://colab.research.google.com/assets/colab-badge.svg\" alt=\"Open In Colab\"/></a>"
      ]
    },
    {
      "cell_type": "markdown",
      "metadata": {
        "id": "r0hxhe9moms2"
      },
      "source": [
        "**CONTINUACIÓN DE LOS EJEMPLOS DEL USO DE LISTA DE COMPRENSIÓN**\n",
        "\n",
        "---\n",
        "COMPRENSIÓN DE CONJUNTOS\n",
        "\n",
        "\n",
        "---\n",
        "La comprensión es muy similar a la que veniamos manejando con Lista. La única diferencia es que se usa los {}.\n",
        "\n",
        "Recordemos que los conjuntos también denominados *sets* no permiten duplicados, es decir, cada elemento es unico. Si se llega añadir un elemento repetido, no arrojará error, pero no se mostrará en el print.\n",
        "\n"
      ]
    },
    {
      "cell_type": "code",
      "metadata": {
        "colab": {
          "base_uri": "https://localhost:8080/"
        },
        "id": "KtKoxN_EoZ6g",
        "outputId": "5172d091-d7c5-4c08-8d22-610f234010f7"
      },
      "source": [
        "sa=\"ema ama a mama\"\n",
        "sa2={i for i in sa if i==\"m\"}\n",
        "print(sa2)"
      ],
      "execution_count": null,
      "outputs": [
        {
          "output_type": "stream",
          "text": [
            "{'m'}\n"
          ],
          "name": "stdout"
        }
      ]
    },
    {
      "cell_type": "markdown",
      "metadata": {
        "id": "IaFMDqgsqaH7"
      },
      "source": [
        "Ahora, veamos a continuación el caso de diccionarios de comprensión. La única diferencia que tiene respecto a las listas o conjuntos de comprensión es la especificación de llaves o claves(key)."
      ]
    },
    {
      "cell_type": "code",
      "metadata": {
        "colab": {
          "base_uri": "https://localhost:8080/"
        },
        "id": "s73ZuMS5quwB",
        "outputId": "63b7f00f-8dad-4a93-964b-2d53f9ec0bd9"
      },
      "source": [
        "lista1=['nombre', 'apellido', 'ciudad']\n",
        "lista2=['Ana', 'Rodriguez', 'Popayan']\n",
        "\n",
        "dic={i:j for i,j in zip(lista1,lista2)}\n",
        "print(dic)"
      ],
      "execution_count": null,
      "outputs": [
        {
          "output_type": "stream",
          "text": [
            "{'nombre': 'Ana', 'apellido': 'Rodriguez', 'ciudad': 'Popayan'}\n"
          ],
          "name": "stdout"
        }
      ]
    },
    {
      "cell_type": "markdown",
      "metadata": {
        "id": "JDSU0vbxryHG"
      },
      "source": [
        "Pudimos observar que añadiendo : asignamos un valor a la llave declarada, a su vez, usamos zip() el cual tiene como función iterar dos lista en paralelo. Es decir con zip podemos convertir dos listas en un diccionario y el for se manejaria iterando nos valores en simultaneo."
      ]
    },
    {
      "cell_type": "markdown",
      "metadata": {
        "id": "i39tQqO1sZMA"
      },
      "source": [
        "**OTRAS ESTRUCTURAS DE CONTROL**\n",
        "\n",
        "---\n",
        "1. Switch\n",
        "2. Break\n",
        "3. Continue\n",
        "4. complemento de iteración (Enumerate).\n",
        "\n",
        "\n",
        "**1. Switch**\n",
        "Es una herramienta permite ejecutar diferentes secciones de código dependiendo de las condiciones impuestas.\n",
        "Su función es muy similiar a usar if anidados o varios por separado al mismo tiempo. \n",
        "\n",
        "Sin embargo en Python no hay un switch directo. \n",
        "\n",
        "**2. Break**\n",
        "Nos permite alterar el comportamiento de los ciclos de while y for. Directamente su función es la de finalizar los ciclos.\n",
        "\n",
        "\n"
      ]
    },
    {
      "cell_type": "code",
      "metadata": {
        "colab": {
          "base_uri": "https://localhost:8080/"
        },
        "id": "DQTgj7TityJC",
        "outputId": "f3d53082-efce-46df-e6bd-4166d41cc6ce"
      },
      "source": [
        "x=\"Andrea\"\n",
        "for i in x:\n",
        "  if i==\"e\":\n",
        "    print(\"Se obtuvo la letra e\")\n",
        "    break\n",
        "  print(i)"
      ],
      "execution_count": null,
      "outputs": [
        {
          "output_type": "stream",
          "text": [
            "A\n",
            "n\n",
            "d\n",
            "r\n",
            "Se obtuvo la letra e\n"
          ],
          "name": "stdout"
        }
      ]
    },
    {
      "cell_type": "code",
      "metadata": {
        "colab": {
          "base_uri": "https://localhost:8080/"
        },
        "id": "7Tv6nBERu7QM",
        "outputId": "c232d7a1-f4c3-4e3c-ff2c-a52ce315b711"
      },
      "source": [
        "x=15\n",
        "while True:\n",
        "  x -=1\n",
        "  print(x)\n",
        "  if x==0:\n",
        "    break\n",
        "print(\"Se finaliza ciclo\")\n"
      ],
      "execution_count": null,
      "outputs": [
        {
          "output_type": "stream",
          "text": [
            "14\n",
            "13\n",
            "12\n",
            "11\n",
            "10\n",
            "9\n",
            "8\n",
            "7\n",
            "6\n",
            "5\n",
            "4\n",
            "3\n",
            "2\n",
            "1\n",
            "0\n",
            "Se finaliza ciclo\n"
          ],
          "name": "stdout"
        }
      ]
    },
    {
      "cell_type": "code",
      "metadata": {
        "colab": {
          "base_uri": "https://localhost:8080/"
        },
        "id": "woLObraDwTvq",
        "outputId": "34e0b33c-264e-489e-91fa-f06a8a710a4f"
      },
      "source": [
        "##Uso de break con los ciclos anidados:\n",
        "\n",
        "for i in range(1,8):\n",
        "  for j in range(1,8):\n",
        "    break\n",
        "  print(i,j)\n",
        "\n",
        "#El break no afecta el for exterior. rompe el ciclo anidado en su conjunto,\n",
        "# pero no afecta directamente el ciclo exterior.\n"
      ],
      "execution_count": null,
      "outputs": [
        {
          "output_type": "stream",
          "text": [
            "1 1\n",
            "2 1\n",
            "3 1\n",
            "4 1\n",
            "5 1\n",
            "6 1\n",
            "7 1\n"
          ],
          "name": "stdout"
        }
      ]
    },
    {
      "cell_type": "markdown",
      "metadata": {
        "id": "HQ8XYUGKxvAm"
      },
      "source": [
        "**2. CONTINUE**\n",
        "\n",
        "---\n",
        "El *continue* se salta todo el código restante en la iteración actual y vuelve al principio en caso que queda elementos por iterar.\n",
        "\n",
        "Diferencias entre break y continue:\n",
        "La principal diferencia es que continue no rompe el ciclo, si no que pasa a la iteración pendiente.\n"
      ]
    },
    {
      "cell_type": "code",
      "metadata": {
        "colab": {
          "base_uri": "https://localhost:8080/"
        },
        "id": "VD6oxKegyQyB",
        "outputId": "a1a229c5-f1a7-4aaa-c86a-d6a020cd51e1"
      },
      "source": [
        "x=\"Andrea\"\n",
        "for i in x:\n",
        "  if i==\"r\":\n",
        "    continue\n",
        "  print(i)"
      ],
      "execution_count": null,
      "outputs": [
        {
          "output_type": "stream",
          "text": [
            "A\n",
            "n\n",
            "d\n",
            "e\n",
            "a\n"
          ],
          "name": "stdout"
        }
      ]
    },
    {
      "cell_type": "code",
      "metadata": {
        "colab": {
          "base_uri": "https://localhost:8080/"
        },
        "id": "WtO9tmr8ytM7",
        "outputId": "d8bd908b-f723-4f2a-c227-237f62606693"
      },
      "source": [
        "x=15\n",
        "while x>0:\n",
        "  x -=1\n",
        "  if x==3:\n",
        "    continue\n",
        "  print(x)"
      ],
      "execution_count": null,
      "outputs": [
        {
          "output_type": "stream",
          "text": [
            "14\n",
            "13\n",
            "12\n",
            "11\n",
            "10\n",
            "9\n",
            "8\n",
            "7\n",
            "6\n",
            "5\n",
            "4\n",
            "2\n",
            "1\n",
            "0\n"
          ],
          "name": "stdout"
        }
      ]
    },
    {
      "cell_type": "markdown",
      "metadata": {
        "id": "q5csxyRAzUlw"
      },
      "source": [
        "**Iterar con enumerate**\n",
        "\n",
        "\n",
        "---\n",
        "Python nos permite iterar colecciones de objetos y elementos de la misma forma. Sin embargo hay una opción que es que en algunas situaciones que queramos acceder a un elemento ordenado  podemos hacerlo nombrando el indice de cada elemento llamado.\n"
      ]
    },
    {
      "cell_type": "code",
      "metadata": {
        "colab": {
          "base_uri": "https://localhost:8080/"
        },
        "id": "h38XTlUxz1pt",
        "outputId": "bc51d1db-c421-4eea-b251-d49ba7968d24"
      },
      "source": [
        "w=[\"sa\", \"se\", \"si\", \"so\", \"su\"]\n",
        "indice=1\n",
        "for i in w:\n",
        "  print(indice,i)\n",
        "  indice +=1"
      ],
      "execution_count": null,
      "outputs": [
        {
          "output_type": "stream",
          "text": [
            "1 sa\n",
            "2 se\n",
            "3 si\n",
            "4 so\n",
            "5 su\n"
          ],
          "name": "stdout"
        }
      ]
    },
    {
      "cell_type": "code",
      "metadata": {
        "colab": {
          "base_uri": "https://localhost:8080/"
        },
        "id": "A7Cpz1e90Zjt",
        "outputId": "9c291a73-2dac-4d2b-b0aa-b2236e624db6"
      },
      "source": [
        "w=[\"sa\", \"se\", \"si\", \"so\", \"su\"]\n",
        "for indice, i in enumerate(w):\n",
        "  print(indice,i)\n",
        "\n",
        "x=list(enumerate(w))\n",
        "print(x)"
      ],
      "execution_count": null,
      "outputs": [
        {
          "output_type": "stream",
          "text": [
            "0 sa\n",
            "1 se\n",
            "2 si\n",
            "3 so\n",
            "4 su\n",
            "[(0, 'sa'), (1, 'se'), (2, 'si'), (3, 'so'), (4, 'su')]\n"
          ],
          "name": "stdout"
        }
      ]
    },
    {
      "cell_type": "markdown",
      "metadata": {
        "id": "k2E9LYqv1db3"
      },
      "source": [
        "**Uso zip()**\n",
        "\n",
        "---\n",
        "Si pasamos dos listas a zip, el resultado será una tupla donde cada elemento tendrá todos y cada uno de los elementos de las entradas\n"
      ]
    },
    {
      "cell_type": "code",
      "metadata": {
        "colab": {
          "base_uri": "https://localhost:8080/"
        },
        "id": "VdNveBCH2B2B",
        "outputId": "25289884-a718-4fc5-bd35-273bf25b3e31"
      },
      "source": [
        "a=[1,2,3]\n",
        "b=[\"a\",\"b\",\"c\"]\n",
        "x=(\"q\",\"w\",\"e\")\n",
        "z=(10,20,30)\n",
        "c=zip(a,b)\n",
        "print(list(c))\n",
        "\n",
        "\n",
        "for lu, la, le, li in zip(a,b, x,z):\n",
        "  print(lu, la, le, li)\n"
      ],
      "execution_count": null,
      "outputs": [
        {
          "output_type": "stream",
          "text": [
            "[(1, 'a'), (2, 'b'), (3, 'c')]\n",
            "1 a q 10\n",
            "2 b w 20\n",
            "3 c e 30\n"
          ],
          "name": "stdout"
        }
      ]
    },
    {
      "cell_type": "code",
      "metadata": {
        "colab": {
          "base_uri": "https://localhost:8080/"
        },
        "id": "ESO_DqKv38Uz",
        "outputId": "503e5f2f-02f5-4c72-b9e4-33386de37413"
      },
      "source": [
        "a=[1,2,6]\n",
        "b=[\"a\",\"b\"]\n",
        "\n",
        "for sa, se in zip(a,b):\n",
        "  print(sa, se)"
      ],
      "execution_count": null,
      "outputs": [
        {
          "output_type": "stream",
          "text": [
            "1 a\n",
            "2 b\n"
          ],
          "name": "stdout"
        }
      ]
    },
    {
      "cell_type": "code",
      "metadata": {
        "colab": {
          "base_uri": "https://localhost:8080/"
        },
        "id": "Xe3HferB4q3J",
        "outputId": "037b0818-00f1-4c3b-8e36-1c94e9514799"
      },
      "source": [
        "\n",
        "c=[(1, 'a'), (2,'b'), (3, 'c')]\n",
        "a,b=zip(*c)\n",
        "print(a)\n",
        "print(b)\n"
      ],
      "execution_count": null,
      "outputs": [
        {
          "output_type": "stream",
          "text": [
            "(1, 2, 3)\n",
            "('a', 'b', 'c')\n"
          ],
          "name": "stdout"
        }
      ]
    },
    {
      "cell_type": "markdown",
      "metadata": {
        "id": "eYyy96lQ56My"
      },
      "source": [
        "**FUNCIONES**\n",
        "\n",
        "---\n",
        "La función nos permite ordenar de manera adecuada la generación de objetos y bloques de código por ciclos y demás estructura.\n",
        "\n",
        "La sintaxis es la siguiente:\n",
        "\n",
        "def nombre_funcion(argumentos):\n",
        "  código\n",
        "\n",
        "nombre_ funcion(argumentos2)\n"
      ]
    },
    {
      "cell_type": "code",
      "metadata": {
        "colab": {
          "base_uri": "https://localhost:8080/"
        },
        "id": "4sNqmqAu6Slh",
        "outputId": "4eec69c6-9ac7-441c-b990-1d6761ced712"
      },
      "source": [
        "def f(a):\n",
        "  return 2*a\n",
        "y=f(3)\n",
        "print(y)"
      ],
      "execution_count": null,
      "outputs": [
        {
          "output_type": "stream",
          "text": [
            "6\n"
          ],
          "name": "stdout"
        }
      ]
    },
    {
      "cell_type": "markdown",
      "metadata": {
        "id": "lsWwyOUr7aTd"
      },
      "source": [
        "Las funciones no sólo realizan una operación con sus entradas (argumentos de inicio). sino también parten de los siguientes principios:\n",
        "\n",
        "**1. Reusabilidad:** Si tenemos un fragmento decódigo usado en muchos sitios y se guarda en una función. Nos evitará tener códigos repetidos, además de la conveniencia que tiene por ser facilmente editable.\n",
        "\n",
        "**2. Modularidad:** Permite legibilidad de forma más sencilla, es decir, los largos bloques de código se pueden agrupar en módulos o funciones  y la lectura va a ser mucho más sencilla."
      ]
    },
    {
      "cell_type": "code",
      "metadata": {
        "colab": {
          "base_uri": "https://localhost:8080/"
        },
        "id": "o63w_XiU8eKo",
        "outputId": "0b2103e9-1880-4eda-fece-a0d80f923ea7"
      },
      "source": [
        "#Ejemplo 1: Función son argumentos de entrada ni parámentros de salida:\n",
        "\n",
        "def s(): #Declaración de función\n",
        "  print(\"Hi Luisa\")\n",
        "s() #Al cerrar la definición de función me va aparece la ejecución de código.\n",
        "\n"
      ],
      "execution_count": null,
      "outputs": [
        {
          "output_type": "stream",
          "text": [
            "Hi Luisa\n"
          ],
          "name": "stdout"
        }
      ]
    },
    {
      "cell_type": "code",
      "metadata": {
        "colab": {
          "base_uri": "https://localhost:8080/"
        },
        "id": "ktUtyjTt9Gvj",
        "outputId": "764b186f-b450-46b0-e2dd-e65022f8b06d"
      },
      "source": [
        "#Ejemplo 2 . Incluir argumentos de entrada y salida\n",
        "\n",
        "def s(apellido):\n",
        "  print(\"Hi Luisa\", apellido)\n",
        "s(\"Varon\")"
      ],
      "execution_count": null,
      "outputs": [
        {
          "output_type": "stream",
          "text": [
            "Hi Luisa Varon\n"
          ],
          "name": "stdout"
        }
      ]
    },
    {
      "cell_type": "code",
      "metadata": {
        "colab": {
          "base_uri": "https://localhost:8080/"
        },
        "id": "7wM7OPgs9wMj",
        "outputId": "da2fc758-62bd-4dc2-ce95-d7b0ba7667e7"
      },
      "source": [
        "#Ejemplo 3. Usando dos argumentos de entrada y salida y operación matemática\n",
        "def dog(a,b):\n",
        "  return a+b\n",
        "dog(3,5)\n"
      ],
      "execution_count": null,
      "outputs": [
        {
          "output_type": "execute_result",
          "data": {
            "text/plain": [
              "8"
            ]
          },
          "metadata": {
            "tags": []
          },
          "execution_count": 51
        }
      ]
    },
    {
      "cell_type": "code",
      "metadata": {
        "colab": {
          "base_uri": "https://localhost:8080/"
        },
        "id": "r8SFlUsv-rgP",
        "outputId": "4525c92e-4127-414d-dcd9-02666209fecd"
      },
      "source": [
        "#Ejemplo 4. Reusabilidad del código\n",
        "dog(a=4, b=20)"
      ],
      "execution_count": null,
      "outputs": [
        {
          "output_type": "execute_result",
          "data": {
            "text/plain": [
              "24"
            ]
          },
          "metadata": {
            "tags": []
          },
          "execution_count": 52
        }
      ]
    },
    {
      "cell_type": "code",
      "metadata": {
        "colab": {
          "base_uri": "https://localhost:8080/"
        },
        "id": "q2zZPifV_Ue1",
        "outputId": "589d3feb-c034-45a7-e07d-366d0b6293c8"
      },
      "source": [
        "#Ejemplo 4. Argumentos fijos desde el inicio\n",
        "\n",
        "def suma(a,b,c,d=1): ##Corrección de default\n",
        "  return a+b+c+d\n",
        "suma(2,3,4,2)\n",
        "\n",
        "\n"
      ],
      "execution_count": null,
      "outputs": [
        {
          "output_type": "execute_result",
          "data": {
            "text/plain": [
              "11"
            ]
          },
          "metadata": {
            "tags": []
          },
          "execution_count": 61
        }
      ]
    },
    {
      "cell_type": "code",
      "metadata": {
        "colab": {
          "base_uri": "https://localhost:8080/"
        },
        "id": "RcBHZh5y9L_T",
        "outputId": "45572d05-d506-491a-9142-0421f130b30b"
      },
      "source": [
        "suma(2,3,3,4)"
      ],
      "execution_count": null,
      "outputs": [
        {
          "output_type": "execute_result",
          "data": {
            "text/plain": [
              "12"
            ]
          },
          "metadata": {
            "tags": []
          },
          "execution_count": 63
        }
      ]
    },
    {
      "cell_type": "code",
      "metadata": {
        "colab": {
          "base_uri": "https://localhost:8080/"
        },
        "id": "0Ahr58QpArqB",
        "outputId": "19d75649-3cd6-4154-d405-35953dd1d7ae"
      },
      "source": [
        "def suma(a=2, b=3, c=4, d=5):\n",
        "  return a+b+c+d\n",
        "suma()\n",
        "\n",
        "suma(1)\n",
        "suma(a=1,c=5)"
      ],
      "execution_count": null,
      "outputs": [
        {
          "output_type": "execute_result",
          "data": {
            "text/plain": [
              "14"
            ]
          },
          "metadata": {
            "tags": []
          },
          "execution_count": 67
        }
      ]
    },
    {
      "cell_type": "code",
      "metadata": {
        "colab": {
          "base_uri": "https://localhost:8080/"
        },
        "id": "hwCd8RhNBfZA",
        "outputId": "bd33c797-6f90-447c-d389-241d5f6f0bf7"
      },
      "source": [
        "#Ejemplo 5 Argumentos de longitud variable\n",
        "\n",
        "def suma(number):\n",
        "  total=0\n",
        "  for i in number:\n",
        "    total +=i\n",
        "  return total\n",
        "suma([1,3,5,4])"
      ],
      "execution_count": null,
      "outputs": [
        {
          "output_type": "execute_result",
          "data": {
            "text/plain": [
              "13"
            ]
          },
          "metadata": {
            "tags": []
          },
          "execution_count": 68
        }
      ]
    },
    {
      "cell_type": "markdown",
      "metadata": {
        "id": "9_sws0sEC2tW"
      },
      "source": [
        "Se realizó la suma de todos los números de entrada. Para ello la declaración de los argumentos de salida sería como una lista.\n",
        "\n",
        "La forma de sintaxis anterior es valida, sin embargo, teneos un solo argumento que es una lista de números.\n",
        "\n",
        "Si declaramos un argumento con *, esto hará que el argumento en guardado como tupla de manera automática."
      ]
    },
    {
      "cell_type": "code",
      "metadata": {
        "colab": {
          "base_uri": "https://localhost:8080/"
        },
        "id": "pWeZvhkDDmV1",
        "outputId": "040751bb-a648-45e3-accf-ee8df0940e83"
      },
      "source": [
        "def suma(*number):\n",
        "  print(type(number))\n",
        "  total=0\n",
        "  for i in number:\n",
        "    total+=i\n",
        "  return total\n",
        "suma(2,3,5,4)\n"
      ],
      "execution_count": null,
      "outputs": [
        {
          "output_type": "stream",
          "text": [
            "<class 'tuple'>\n"
          ],
          "name": "stdout"
        },
        {
          "output_type": "execute_result",
          "data": {
            "text/plain": [
              "14"
            ]
          },
          "metadata": {
            "tags": []
          },
          "execution_count": 3
        }
      ]
    },
    {
      "cell_type": "markdown",
      "metadata": {
        "id": "FqimyvN51FBl"
      },
      "source": [
        "**"
      ]
    },
    {
      "cell_type": "markdown",
      "metadata": {
        "id": "k21qxsPD1IW3"
      },
      "source": [
        "**CLASE 7**\n",
        "\n",
        "---\n",
        "**Continuación de Funciones**\n",
        "---\n",
        "\n"
      ]
    },
    {
      "cell_type": "code",
      "metadata": {
        "id": "xq-F0bRFDQp2",
        "colab": {
          "base_uri": "https://localhost:8080/"
        },
        "outputId": "f623e7a6-864f-48c4-ea0a-23b6b9490a98"
      },
      "source": [
        "\n",
        "suma(1,2,5,6,7,9) #Al realizar el cambio y/o edición de la función suma\n",
        "#que veníamos usando, se puede añadir n elementos para iterar la función definida\n"
      ],
      "execution_count": null,
      "outputs": [
        {
          "output_type": "stream",
          "text": [
            "<class 'tuple'>\n"
          ],
          "name": "stdout"
        },
        {
          "output_type": "execute_result",
          "data": {
            "text/plain": [
              "30"
            ]
          },
          "metadata": {
            "tags": []
          },
          "execution_count": 7
        }
      ]
    },
    {
      "cell_type": "markdown",
      "metadata": {
        "id": "fVto5GSa2YeN"
      },
      "source": [
        "El uso de ** :\n",
        "El uso del doble * nos permite tener como parámetro de entrada una lista de elementos en forma de clave y valor.\n",
        "La forma de iterar sera usando el comando *item()*.\n",
        "\n",
        "\n"
      ]
    },
    {
      "cell_type": "code",
      "metadata": {
        "colab": {
          "base_uri": "https://localhost:8080/"
        },
        "id": "_oe7ATMY2zAZ",
        "outputId": "0e1b26ab-5248-4cf5-bfc8-67503f0a6b13"
      },
      "source": [
        "def suma(**dado):\n",
        "  suma=0;\n",
        "  for i,j in dado.items():\n",
        "    suma +=j\n",
        "  return suma\n",
        "\n",
        "suma(a=3, b=30, c=7)"
      ],
      "execution_count": null,
      "outputs": [
        {
          "output_type": "execute_result",
          "data": {
            "text/plain": [
              "40"
            ]
          },
          "metadata": {
            "tags": []
          },
          "execution_count": 8
        }
      ]
    },
    {
      "cell_type": "markdown",
      "metadata": {
        "id": "c2L5Zx4b36ec"
      },
      "source": [
        "**Ampliemos la definición del comando Return **\n",
        "\n",
        "\n",
        "---\n",
        "1. Devolver parámetros.\n"
      ]
    },
    {
      "cell_type": "code",
      "metadata": {
        "colab": {
          "base_uri": "https://localhost:8080/",
          "height": 35
        },
        "id": "Pjsuj29j35sb",
        "outputId": "b338d14f-0db3-4306-dc8c-4bf33647b739"
      },
      "source": [
        "def w():\n",
        "  return \"Hi\"\n",
        "w()"
      ],
      "execution_count": null,
      "outputs": [
        {
          "output_type": "execute_result",
          "data": {
            "application/vnd.google.colaboratory.intrinsic+json": {
              "type": "string"
            },
            "text/plain": [
              "'Hi'"
            ]
          },
          "metadata": {
            "tags": []
          },
          "execution_count": 9
        }
      ]
    },
    {
      "cell_type": "markdown",
      "metadata": {
        "id": "d3XEN1PN4mnc"
      },
      "source": [
        "2. Devolver varias variables."
      ]
    },
    {
      "cell_type": "code",
      "metadata": {
        "colab": {
          "base_uri": "https://localhost:8080/"
        },
        "id": "tlQ8F7Qt2FXA",
        "outputId": "3cc97920-fbfa-4b43-da08-79a17b8e34ac"
      },
      "source": [
        "def sd(a,b,c):\n",
        "  q=a+b+c #Declaración de variable con una suma de argumentos\n",
        "  z=q/3   #Declaración de variable con el promedio\n",
        "  return q,z\n",
        "q,z=sd(2,4,6)\n",
        "print(q)\n",
        "print(z)\n"
      ],
      "execution_count": null,
      "outputs": [
        {
          "output_type": "stream",
          "text": [
            "12\n",
            "4.0\n"
          ],
          "name": "stdout"
        }
      ]
    },
    {
      "cell_type": "markdown",
      "metadata": {
        "id": "aKABzS6l5j5u"
      },
      "source": [
        "**Formas de hacer documentación en programación y por bloques de código o línea**\n",
        "\n",
        "\n",
        "---\n",
        "\n",
        "\n"
      ]
    },
    {
      "cell_type": "code",
      "metadata": {
        "id": "Y1EAP1s4rxTP",
        "colab": {
          "base_uri": "https://localhost:8080/"
        },
        "outputId": "539a1889-4c46-49ed-9f1e-56206e0451e5"
      },
      "source": [
        "def paula(a,b):\n",
        "  \"\"\"\n",
        "  Descripción de la función, los parámetros que se van usar,\n",
        "  explicar como se usa y que operaciones devuelve esta función (docstring)\n",
        "  \"\"\"\n",
        "  return a+b\n",
        "paula(2,3)\n"
      ],
      "execution_count": null,
      "outputs": [
        {
          "output_type": "execute_result",
          "data": {
            "text/plain": [
              "5"
            ]
          },
          "metadata": {
            "tags": []
          },
          "execution_count": 12
        }
      ]
    },
    {
      "cell_type": "code",
      "metadata": {
        "colab": {
          "base_uri": "https://localhost:8080/"
        },
        "id": "pL9jeDPl6yhM",
        "outputId": "d7244fcb-b81f-45a5-8c6c-66a384b1d062"
      },
      "source": [
        "help(paula)"
      ],
      "execution_count": null,
      "outputs": [
        {
          "output_type": "stream",
          "text": [
            "Help on function paula in module __main__:\n",
            "\n",
            "paula(a, b)\n",
            "    Descripción de la función, los parámetros que se van usar,\n",
            "    explicar como se usa y que operaciones devuelve esta función (docstring)\n",
            "\n"
          ],
          "name": "stdout"
        }
      ]
    },
    {
      "cell_type": "code",
      "metadata": {
        "colab": {
          "base_uri": "https://localhost:8080/"
        },
        "id": "--JcrfmY7GGu",
        "outputId": "8465adce-0cd6-4e42-e3a3-a2b0e5198155"
      },
      "source": [
        "print(paula.__doc__) #Otra forma de llamar el comentario es print del nombre de la\n",
        "#función seguido de punto seguido, doble guión bajo , escribir \"doc\" y seguido doble\n",
        "#guión bajo"
      ],
      "execution_count": null,
      "outputs": [
        {
          "output_type": "stream",
          "text": [
            "\n",
            "  Descripción de la función, los parámetros que se van usar,\n",
            "  explicar como se usa y que operaciones devuelve esta función (docstring)\n",
            "  \n"
          ],
          "name": "stdout"
        }
      ]
    }
  ]
}