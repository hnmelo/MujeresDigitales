{
  "nbformat": 4,
  "nbformat_minor": 0,
  "metadata": {
    "colab": {
      "name": "Untitled3.ipynb",
      "provenance": [],
      "authorship_tag": "ABX9TyNMYHjIJOaYZJfZbZc4jlLo",
      "include_colab_link": true
    },
    "kernelspec": {
      "name": "python3",
      "display_name": "Python 3"
    },
    "language_info": {
      "name": "python"
    }
  },
  "cells": [
    {
      "cell_type": "markdown",
      "metadata": {
        "id": "view-in-github",
        "colab_type": "text"
      },
      "source": [
        "<a href=\"https://colab.research.google.com/github/hnmelo/MujeresDigitales/blob/main/Actividad2.ipynb\" target=\"_parent\"><img src=\"https://colab.research.google.com/assets/colab-badge.svg\" alt=\"Open In Colab\"/></a>"
      ]
    },
    {
      "cell_type": "markdown",
      "metadata": {
        "id": "aVxnGlTSL_vR"
      },
      "source": [
        "**ACTIVIDAD 2**\n",
        "\n",
        "---\n",
        "Realizar 5 ejercicios de operadores lógicos y de comparación.\n",
        "\n",
        "**1**\n",
        "\n"
      ]
    },
    {
      "cell_type": "code",
      "metadata": {
        "colab": {
          "base_uri": "https://localhost:8080/"
        },
        "id": "GdcjiOyhMHrG",
        "outputId": "12efe7bb-25e4-4464-e590-438640c1ea1c"
      },
      "source": [
        "a=15\n",
        "b=15.5\n",
        "c=35\n",
        "print(not (a<b and c==c))"
      ],
      "execution_count": 2,
      "outputs": [
        {
          "output_type": "stream",
          "text": [
            "False\n"
          ],
          "name": "stdout"
        }
      ]
    },
    {
      "cell_type": "markdown",
      "metadata": {
        "id": "qzhqj_bYNg4H"
      },
      "source": [
        "**Explicación de resultado:**\n",
        "\n",
        "Debido a la precedencia de los operadores, se resuelve primero los paréntesis, de adentro hacia afuera, (a<b)=true, puesto que 15 es menor que 15.5; (c==c)=true, dado que los dos valores son verdaderos se cumple el AND y el resultado del primer paréntesis es True.\n",
        "\n",
        "Como sabemos, el not invierte los valores, debido a ello, el resultado total de la operación en **FALSE**\n",
        "\n",
        "**2**"
      ]
    },
    {
      "cell_type": "code",
      "metadata": {
        "colab": {
          "base_uri": "https://localhost:8080/"
        },
        "id": "sMZ8Yh6-Os-R",
        "outputId": "ff614807-4d59-4994-8a37-93523fe30708"
      },
      "source": [
        "\n",
        "xq=True\n",
        "h=123\n",
        "y=0.25\n",
        "print(((h*(h-y))>14000) and xq)\n"
      ],
      "execution_count": 5,
      "outputs": [
        {
          "output_type": "stream",
          "text": [
            "True\n"
          ],
          "name": "stdout"
        }
      ]
    },
    {
      "cell_type": "markdown",
      "metadata": {
        "id": "Q-KtzfPNPsUv"
      },
      "source": [
        "**Explicación de resultado:**\n",
        "\n",
        "\n",
        "Resolviendo el primer paréntesis, así sea una resta (h-y)=(123-0.25) es igual = **122.75**, luego siguiendo con la jerarquía, se resuelve el siguiente paréntesis que lleva la multiplicación (h**x**122.75) es igual = **15.098,25**, luego se compara, diciendo que este resultado (15.098,25) es mayor que (>) 14000, lo cual es verdadero y se vuelve a comparar mediante el operador lógico AND con la variable *xq*, la cual, también es verdadera, dando TRUE como resultado.\n",
        "\n",
        "**3**\n"
      ]
    },
    {
      "cell_type": "code",
      "metadata": {
        "colab": {
          "base_uri": "https://localhost:8080/"
        },
        "id": "z-o5fcLdRR9Z",
        "outputId": "3ade35c2-4a2e-4734-f75d-2225fcf120bb"
      },
      "source": [
        "e=(3**5)\n",
        "l=243.99\n",
        "h=(e>l)\n",
        "print(not ((l>=e) or h))"
      ],
      "execution_count": 9,
      "outputs": [
        {
          "output_type": "stream",
          "text": [
            "False\n"
          ],
          "name": "stdout"
        }
      ]
    },
    {
      "cell_type": "markdown",
      "metadata": {
        "id": "QHFDqV58Syba"
      },
      "source": [
        "**Explicación resultado**\n",
        "\n",
        "El resultado del primer paréntesis es verdadero, pues estamos afirmando que **l** es mayor que 243.99, debido a que el resultado de la potencia que se encuentra en la variable **e** es 243, luego comparamos ese resultado mediante el operador lógico *OR* con la variable h, la cual contiene un valor *falso*, pero al ser uno de los dos valores verdaderos, el or lo toma como tal; luego se invierte por el not y nos da un **FALSE** como resultado.\n",
        "\n",
        "**4**"
      ]
    },
    {
      "cell_type": "code",
      "metadata": {
        "colab": {
          "base_uri": "https://localhost:8080/"
        },
        "id": "eRcVrdznTyyD",
        "outputId": "5a0948ef-e225-440c-b7a3-3ebc49dbf53c"
      },
      "source": [
        "m=2\n",
        "e=-2\n",
        "l=(m+e)\n",
        "o=False\n",
        "print((m!=e and o ) or (l==0))"
      ],
      "execution_count": 10,
      "outputs": [
        {
          "output_type": "stream",
          "text": [
            "True\n"
          ],
          "name": "stdout"
        }
      ]
    },
    {
      "cell_type": "markdown",
      "metadata": {
        "id": "x_d4QHYDUvRo"
      },
      "source": [
        "**Explicación del resultado**\n",
        "\n",
        "resolviendo primero los paréntesis (m==e and o), esto es Falso, debidio a que 2 es diferente de -2 (lo cual es verdadero) y al compararlo por AND con la variable *o* (la cual es falsa) nos da un resultado FALSO, eso, comparado mediante *OR* con la operación l==0 (la cual es verdadera, debido a que la suma de 2(-2) arroja como resultado 0) nos entrega TRUE como resultado, ya que cumple que uno de los dos valores es verdadero.\n",
        "\n",
        "**5**"
      ]
    },
    {
      "cell_type": "code",
      "metadata": {
        "colab": {
          "base_uri": "https://localhost:8080/"
        },
        "id": "QyRHYaJmV_x6",
        "outputId": "87009748-8c57-4c15-cf9b-27bd6382550a"
      },
      "source": [
        "a=False\n",
        "m=True\n",
        "o= -15.99\n",
        "print((o>16) and ((not a) or m ))"
      ],
      "execution_count": 1,
      "outputs": [
        {
          "output_type": "stream",
          "text": [
            "False\n"
          ],
          "name": "stdout"
        }
      ]
    },
    {
      "cell_type": "markdown",
      "metadata": {
        "id": "pHuUpj-J2xSH"
      },
      "source": [
        "**Explicación del resultado**\n",
        "\n",
        "Resolviendo los paréntesis de adentro hacia afuera, por el lado izquierdo *o>16* = falso, pues -15.99 no es mayor que 16, siguiendo el orden, el paréntesis *not a* queda como verdadero, pues se invierte el valor *False* de la variable a, comparandolo mediante *OR* con la variable m, me arroja un resultado verdadero, teniendo como final resolver el and, lo cual es falso, por ser del lado izquierdo false y del lado derecho True."
      ]
    }
  ]
}