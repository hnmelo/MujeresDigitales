{
  "nbformat": 4,
  "nbformat_minor": 0,
  "metadata": {
    "kernelspec": {
      "display_name": "Python 3",
      "language": "python",
      "name": "python3"
    },
    "language_info": {
      "codemirror_mode": {
        "name": "ipython",
        "version": 3
      },
      "file_extension": ".py",
      "mimetype": "text/x-python",
      "name": "python",
      "nbconvert_exporter": "python",
      "pygments_lexer": "ipython3",
      "version": "3.7.3"
    },
    "colab": {
      "name": "Taller Semana 4.ipynb",
      "provenance": [],
      "include_colab_link": true
    }
  },
  "cells": [
    {
      "cell_type": "markdown",
      "metadata": {
        "id": "view-in-github",
        "colab_type": "text"
      },
      "source": [
        "<a href=\"https://colab.research.google.com/github/hnmelo/MujeresDigitales/blob/main/Taller_Semana_4.ipynb\" target=\"_parent\"><img src=\"https://colab.research.google.com/assets/colab-badge.svg\" alt=\"Open In Colab\"/></a>"
      ]
    },
    {
      "cell_type": "markdown",
      "metadata": {
        "id": "SUIcZJyyd6Vw"
      },
      "source": [
        "# Investigando los accidentes de tránsito en Nueva York"
      ]
    },
    {
      "cell_type": "code",
      "metadata": {
        "id": "0qKbKxgBd6Vz"
      },
      "source": [
        "import pandas as pd\n",
        "import matplotlib.pyplot as plt\n",
        "import seaborn as sns"
      ],
      "execution_count": 351,
      "outputs": []
    },
    {
      "cell_type": "markdown",
      "metadata": {
        "id": "CciJWSAqd6V0"
      },
      "source": [
        "## Introducción\n",
        "\n",
        "**Contexto empresarial.** La ciudad de Nueva York ha experimentado un aumento en el número de accidentes en las vías de la ciudad. Quieren saber si el número de accidentes ha aumentado en las últimas semanas. Para todos los accidentes reportados, han recopilado detalles para cada accidente y han estado manteniendo registros durante el último año y medio (desde enero de 2018 hasta agosto de 2019).\n",
        "\n",
        "La ciudad te ha contratado para que construyas visualizaciones que les ayuden a identificar patrones en accidentes, lo que les ayudaría a tomar acciones preventivas para reducir la cantidad de accidentes en el futuro. Tienen ciertos parámetros como comuna, hora del día, motivo del accidente, etc. De los que se preocupan y de los que les gustaría obtener información específica.\n",
        "\n",
        "**Problema empresarial.** Su tarea es formatear los datos proporcionados y proporcionar visualizaciones que respondan a las preguntas específicas que tiene el cliente, que se mencionan a continuación.\n",
        "\n",
        "**Contexto analítico.** Se le proporciona un archivo CSV que contiene detalles sobre cada accidente como fecha, hora, ubicación del accidente, motivo del accidente, tipos de vehículos involucrados, recuento de lesiones y muertes, etc. El delimitador en el archivo CSV dado es; en lugar del predeterminado,. Realizará las siguientes tareas con los datos:\n",
        "\n",
        "*    Leer, transformar y preparar datos para su visualización\n",
        "*    Realizar análisis y construir visualizaciones de los datos para identificar patrones en el conjunto de datos.\n",
        "\n",
        "El cliente tiene un conjunto específico de preguntas a las que le gustaría obtener respuestas. Deberá proporcionar visualizaciones para acompañar estos:\n",
        "\n",
        "1.    ¿Cómo ha fluctuado el número de accidentes durante el último año y medio? ¿Han aumentado con el tiempo?\n",
        "2.   Para un día en particular, ¿durante qué horas es más probable que ocurran accidentes?\n",
        "3.    ¿Hay más accidentes entre semana que los fines de semana?\n",
        "4.    ¿Cuál es la proporción de accidentes por área por comuna? ¿Qué distritos tienen un número desproporcionadamente grande de accidentes para su tamaño?\n",
        "5.    Para cada comuna, ¿durante qué horas es más probable que ocurran accidentes?\n",
        "6.    ¿Cuáles son las 5 principales causas de accidentes en la ciudad?"
      ]
    },
    {
      "cell_type": "code",
      "metadata": {
        "id": "pf5H533Td6V1"
      },
      "source": [
        "# Use la siguiente informacipón de cada comuna (\"borough\") para realizar los análisis\n",
        "\n",
        "borough_data = {'the bronx': {'name': 'the bronx', 'population': 1471160.0, 'area': 42.1},\n",
        " 'brooklyn': {'name': 'brooklyn', 'population': 2648771.0, 'area': 70.82},\n",
        " 'manhattan': {'name': 'manhattan', 'population': 1664727.0, 'area': 22.83},\n",
        " 'queens': {'name': 'queens', 'population': 2358582.0, 'area': 108.53},\n",
        " 'staten island': {'name': 'staten island', 'population': 479458.0, 'area': 58.37}}"
      ],
      "execution_count": 352,
      "outputs": []
    },
    {
      "cell_type": "markdown",
      "metadata": {
        "id": "QP-Y4A-3d6V2"
      },
      "source": [
        "Tenemos las siguientes columnas\n",
        "\n",
        "     Borough: el comuna en el que ocurrió el accidente.\n",
        "     COLLISION_ID: un identificador único para esta colisión\n",
        "     CONTRIBUTING FACTOR VEHICLE (1, 2, 3, 4, 5): Motivos del accidente\n",
        "     CROSS STREET : Calle transversal más cercana al lugar de los accidentes\n",
        "     DATE: Fecha del accidente\n",
        "     TIME: Hora del accidente\n",
        "     DATETIME: la columna que creamos anteriormente con la combinación de fecha y hora\n",
        "     LATITUDE: Latitud del accidente\n",
        "     LONGITUDE: Longitud del accidente\n",
        "     NUMBER OF (CYCLIST, MOTORIST, PEDESTRIANS) INJURED: Lesión por categoría\n",
        "     NUMBER OF (CYCLIST, MOTORIST, PEDESTRIANS) KILLED: Categoría muerte sabia\n",
        "     ON STREET NAME: Calle donde ocurrió el accidente\n",
        "     TOTAL INJURED: Total de heridos por el accidente\n",
        "     TOTAL KILLED: Total de bajas en el accidente\n",
        "     VEHICLE TYPE CODE (1, 2, 3, 4, 5): Tipos de vehículos involucrados en el accidente\n",
        "     ZIP CODE: código postal del lugar del accidente"
      ]
    },
    {
      "cell_type": "markdown",
      "metadata": {
        "id": "KsHqg54gd6V3"
      },
      "source": [
        "Primero cargue los datos del csv a un dataframe.\n",
        "\n",
        "**Nota:** El archivo se encuentra separado por punto y coma ( ; ) en lugar de coma ( , ), así que se debe ingresar el parámetro sep para leer el archivo. Aquí puede encontrar información:\n",
        "\n",
        "https://pandas.pydata.org/pandas-docs/stable/reference/api/pandas.read_csv.html#pandas.read_csv"
      ]
    },
    {
      "cell_type": "code",
      "metadata": {
        "id": "-lIQwE70d6V3",
        "colab": {
          "base_uri": "https://localhost:8080/",
          "height": 281
        },
        "outputId": "57dddd8c-c3f2-4c7f-9041-b8ebd1f159c6"
      },
      "source": [
        "# Escriba su código aquí\n",
        "df = pd.read_csv('accidents_sample.csv', sep=';')\n",
        "df.head(3)"
      ],
      "execution_count": 353,
      "outputs": [
        {
          "output_type": "execute_result",
          "data": {
            "text/html": [
              "<div>\n",
              "<style scoped>\n",
              "    .dataframe tbody tr th:only-of-type {\n",
              "        vertical-align: middle;\n",
              "    }\n",
              "\n",
              "    .dataframe tbody tr th {\n",
              "        vertical-align: top;\n",
              "    }\n",
              "\n",
              "    .dataframe thead th {\n",
              "        text-align: right;\n",
              "    }\n",
              "</style>\n",
              "<table border=\"1\" class=\"dataframe\">\n",
              "  <thead>\n",
              "    <tr style=\"text-align: right;\">\n",
              "      <th></th>\n",
              "      <th>DATE</th>\n",
              "      <th>TIME</th>\n",
              "      <th>BOROUGH</th>\n",
              "      <th>ZIP CODE</th>\n",
              "      <th>LATITUDE</th>\n",
              "      <th>LONGITUDE</th>\n",
              "      <th>ON STREET NAME</th>\n",
              "      <th>NUMBER OF PEDESTRIANS INJURED</th>\n",
              "      <th>NUMBER OF PEDESTRIANS KILLED</th>\n",
              "      <th>NUMBER OF CYCLIST INJURED</th>\n",
              "      <th>NUMBER OF CYCLIST KILLED</th>\n",
              "      <th>NUMBER OF MOTORIST INJURED</th>\n",
              "      <th>NUMBER OF MOTORIST KILLED</th>\n",
              "      <th>CONTRIBUTING FACTOR VEHICLE 1</th>\n",
              "      <th>CONTRIBUTING FACTOR VEHICLE 2</th>\n",
              "      <th>CONTRIBUTING FACTOR VEHICLE 3</th>\n",
              "      <th>CONTRIBUTING FACTOR VEHICLE 4</th>\n",
              "      <th>CONTRIBUTING FACTOR VEHICLE 5</th>\n",
              "      <th>COLLISION_ID</th>\n",
              "      <th>VEHICLE TYPE CODE 1</th>\n",
              "      <th>VEHICLE TYPE CODE 2</th>\n",
              "      <th>VEHICLE TYPE CODE 3</th>\n",
              "      <th>VEHICLE TYPE CODE 4</th>\n",
              "      <th>VEHICLE TYPE CODE 5</th>\n",
              "    </tr>\n",
              "  </thead>\n",
              "  <tbody>\n",
              "    <tr>\n",
              "      <th>0</th>\n",
              "      <td>05/29/2019</td>\n",
              "      <td>8:19</td>\n",
              "      <td>QUEENS</td>\n",
              "      <td>11368.0</td>\n",
              "      <td>40.751060</td>\n",
              "      <td>-73.86954</td>\n",
              "      <td>NaN</td>\n",
              "      <td>0</td>\n",
              "      <td>0</td>\n",
              "      <td>0</td>\n",
              "      <td>0</td>\n",
              "      <td>0</td>\n",
              "      <td>0</td>\n",
              "      <td>Other Vehicular</td>\n",
              "      <td>Unspecified</td>\n",
              "      <td>NaN</td>\n",
              "      <td>NaN</td>\n",
              "      <td>NaN</td>\n",
              "      <td>4141862</td>\n",
              "      <td>Sedan</td>\n",
              "      <td>NaN</td>\n",
              "      <td>NaN</td>\n",
              "      <td>NaN</td>\n",
              "      <td>NaN</td>\n",
              "    </tr>\n",
              "    <tr>\n",
              "      <th>1</th>\n",
              "      <td>05/11/2018</td>\n",
              "      <td>16:30</td>\n",
              "      <td>QUEENS</td>\n",
              "      <td>11357.0</td>\n",
              "      <td>40.788480</td>\n",
              "      <td>-73.81369</td>\n",
              "      <td>NaN</td>\n",
              "      <td>0</td>\n",
              "      <td>0</td>\n",
              "      <td>0</td>\n",
              "      <td>0</td>\n",
              "      <td>0</td>\n",
              "      <td>0</td>\n",
              "      <td>Passing or Lane Usage Improper</td>\n",
              "      <td>Unspecified</td>\n",
              "      <td>NaN</td>\n",
              "      <td>NaN</td>\n",
              "      <td>NaN</td>\n",
              "      <td>3899223</td>\n",
              "      <td>Station Wagon/Sport Utility Vehicle</td>\n",
              "      <td>Sedan</td>\n",
              "      <td>NaN</td>\n",
              "      <td>NaN</td>\n",
              "      <td>NaN</td>\n",
              "    </tr>\n",
              "    <tr>\n",
              "      <th>2</th>\n",
              "      <td>07/18/2019</td>\n",
              "      <td>12:51</td>\n",
              "      <td>MANHATTAN</td>\n",
              "      <td>10022.0</td>\n",
              "      <td>40.755985</td>\n",
              "      <td>-73.96771</td>\n",
              "      <td>NaN</td>\n",
              "      <td>0</td>\n",
              "      <td>0</td>\n",
              "      <td>0</td>\n",
              "      <td>0</td>\n",
              "      <td>0</td>\n",
              "      <td>0</td>\n",
              "      <td>Driver Inattention/Distraction</td>\n",
              "      <td>Unspecified</td>\n",
              "      <td>NaN</td>\n",
              "      <td>NaN</td>\n",
              "      <td>NaN</td>\n",
              "      <td>4172694</td>\n",
              "      <td>Box Truck</td>\n",
              "      <td>NaN</td>\n",
              "      <td>NaN</td>\n",
              "      <td>NaN</td>\n",
              "      <td>NaN</td>\n",
              "    </tr>\n",
              "  </tbody>\n",
              "</table>\n",
              "</div>"
            ],
            "text/plain": [
              "         DATE   TIME  ... VEHICLE TYPE CODE 4  VEHICLE TYPE CODE 5\n",
              "0  05/29/2019   8:19  ...                 NaN                  NaN\n",
              "1  05/11/2018  16:30  ...                 NaN                  NaN\n",
              "2  07/18/2019  12:51  ...                 NaN                  NaN\n",
              "\n",
              "[3 rows x 24 columns]"
            ]
          },
          "metadata": {},
          "execution_count": 353
        }
      ]
    },
    {
      "cell_type": "markdown",
      "metadata": {
        "id": "icNi1Weed6V4"
      },
      "source": [
        "## Parte 1: Accidentes a lo largo del tiempo\n",
        "\n",
        "Agrupe los datos disponibles mensualmente y genere una gráfica lineal de accidentes a lo largo del tiempo. ¿Ha aumentado el número de accidentes durante el último año y medio?"
      ]
    },
    {
      "cell_type": "code",
      "metadata": {
        "id": "K876XaNBd6V6"
      },
      "source": [
        "df['date_format'] = pd.to_datetime(df['DATE'])\n",
        "df['ano-mes'] = df['date_format'].dt.to_period('M')"
      ],
      "execution_count": 354,
      "outputs": []
    },
    {
      "cell_type": "code",
      "metadata": {
        "id": "5G2hnT8HZPIg",
        "colab": {
          "base_uri": "https://localhost:8080/",
          "height": 344
        },
        "outputId": "876cd8fb-e783-4a79-a85a-57ce7a0a4631"
      },
      "source": [
        "group = df.groupby('ano-mes').count()\n",
        "sns.barplot(data=group, y='DATE', x= group.index)\n",
        "plt.xticks(rotation = 60)"
      ],
      "execution_count": 355,
      "outputs": [
        {
          "output_type": "execute_result",
          "data": {
            "text/plain": [
              "(array([ 0,  1,  2,  3,  4,  5,  6,  7,  8,  9, 10, 11, 12, 13, 14, 15, 16,\n",
              "        17, 18, 19]), <a list of 20 Text major ticklabel objects>)"
            ]
          },
          "metadata": {},
          "execution_count": 355
        },
        {
          "output_type": "display_data",
          "data": {
            "image/png": "[encoded data removed]",
            "text/plain": [
              "<Figure size 432x288 with 1 Axes>"
            ]
          },
          "metadata": {
            "needs_background": "light"
          }
        }
      ]
    },
    {
      "cell_type": "markdown",
      "metadata": {
        "id": "43bWKEgNcBGw"
      },
      "source": [
        "**Como podemos observar en la gráfica, es muy variable el numero de accidentes, no han disminuido y se mantiene una \"Secuencia\" o los valores son similares en los meses, ejemplo: Se nota un patrón en común en los mese 05 del 2018 y los del 2019, lo mismo en el mes 01 y 02 del 2018 y 2019, entonces se podría indagar o estudiar más los datos para ver qué factor(es) influye en aquellos meses (clima)**\n"
      ]
    },
    {
      "cell_type": "markdown",
      "metadata": {
        "id": "NqOw_sajd6V7"
      },
      "source": [
        "## Parte 2: Puntos calientes de accidentes en un día\n",
        "\n",
        "¿Cómo varía el número de accidentes a lo largo de un solo día? Cree una nueva columna HORA basada en los datos de la columna DATETIME, luego trace un gráfico de barras de la distribución por hora a lo largo del día."
      ]
    },
    {
      "cell_type": "code",
      "metadata": {
        "id": "IC6Do3s3d6V8",
        "colab": {
          "base_uri": "https://localhost:8080/",
          "height": 130
        },
        "outputId": "60b95a23-484c-4e25-872f-0f17f96f185f"
      },
      "source": [
        "mask1 ) \n",
        "df.head(2)"
      ],
      "execution_count": 373,
      "outputs": [
        {
          "output_type": "error",
          "ename": "SyntaxError",
          "evalue": "ignored",
          "traceback": [
            "\u001b[0;36m  File \u001b[0;32m\"<ipython-input-373-141fc0961df2>\"\u001b[0;36m, line \u001b[0;32m1\u001b[0m\n\u001b[0;31m    df = df.sort_values(by = 'DATE','TIME')\u001b[0m\n\u001b[0m                                   ^\u001b[0m\n\u001b[0;31mSyntaxError\u001b[0m\u001b[0;31m:\u001b[0m positional argument follows keyword argument\n"
          ]
        }
      ]
    },
    {
      "cell_type": "code",
      "metadata": {
        "id": "oNTCLsRpyMPT",
        "outputId": "745c1f71-283c-4ec9-8ddf-9d6bb12ed507",
        "colab": {
          "base_uri": "https://localhost:8080/",
          "height": 419
        }
      },
      "source": [
        "df[['TIME']].infer_objects()"
      ],
      "execution_count": 333,
      "outputs": [
        {
          "output_type": "execute_result",
          "data": {
            "text/html": [
              "<div>\n",
              "<style scoped>\n",
              "    .dataframe tbody tr th:only-of-type {\n",
              "        vertical-align: middle;\n",
              "    }\n",
              "\n",
              "    .dataframe tbody tr th {\n",
              "        vertical-align: top;\n",
              "    }\n",
              "\n",
              "    .dataframe thead th {\n",
              "        text-align: right;\n",
              "    }\n",
              "</style>\n",
              "<table border=\"1\" class=\"dataframe\">\n",
              "  <thead>\n",
              "    <tr style=\"text-align: right;\">\n",
              "      <th></th>\n",
              "      <th>TIME</th>\n",
              "    </tr>\n",
              "  </thead>\n",
              "  <tbody>\n",
              "    <tr>\n",
              "      <th>47659</th>\n",
              "      <td>2:00</td>\n",
              "    </tr>\n",
              "    <tr>\n",
              "      <th>44205</th>\n",
              "      <td>15:20</td>\n",
              "    </tr>\n",
              "    <tr>\n",
              "      <th>25459</th>\n",
              "      <td>1:20</td>\n",
              "    </tr>\n",
              "    <tr>\n",
              "      <th>37833</th>\n",
              "      <td>3:00</td>\n",
              "    </tr>\n",
              "    <tr>\n",
              "      <th>14850</th>\n",
              "      <td>9:30</td>\n",
              "    </tr>\n",
              "    <tr>\n",
              "      <th>...</th>\n",
              "      <td>...</td>\n",
              "    </tr>\n",
              "    <tr>\n",
              "      <th>45146</th>\n",
              "      <td>12:00</td>\n",
              "    </tr>\n",
              "    <tr>\n",
              "      <th>13853</th>\n",
              "      <td>15:33</td>\n",
              "    </tr>\n",
              "    <tr>\n",
              "      <th>37504</th>\n",
              "      <td>19:18</td>\n",
              "    </tr>\n",
              "    <tr>\n",
              "      <th>36446</th>\n",
              "      <td>17:30</td>\n",
              "    </tr>\n",
              "    <tr>\n",
              "      <th>42788</th>\n",
              "      <td>11:20</td>\n",
              "    </tr>\n",
              "  </tbody>\n",
              "</table>\n",
              "<p>47704 rows × 1 columns</p>\n",
              "</div>"
            ],
            "text/plain": [
              "        TIME\n",
              "47659   2:00\n",
              "44205  15:20\n",
              "25459   1:20\n",
              "37833   3:00\n",
              "14850   9:30\n",
              "...      ...\n",
              "45146  12:00\n",
              "13853  15:33\n",
              "37504  19:18\n",
              "36446  17:30\n",
              "42788  11:20\n",
              "\n",
              "[47704 rows x 1 columns]"
            ]
          },
          "metadata": {},
          "execution_count": 333
        }
      ]
    },
    {
      "cell_type": "code",
      "metadata": {
        "id": "GFqk3t6jJF-N",
        "outputId": "ac6bc95b-d0e4-4757-ba61-b1bc408c94b0",
        "colab": {
          "base_uri": "https://localhost:8080/"
        }
      },
      "source": [
        "hora = df[df['DATE'] < '01/02/2018']\n",
        "hora.count()"
      ],
      "execution_count": 372,
      "outputs": [
        {
          "output_type": "execute_result",
          "data": {
            "text/plain": [
              "DATE                             116\n",
              "TIME                             116\n",
              "BOROUGH                          116\n",
              "ZIP CODE                         116\n",
              "LATITUDE                         116\n",
              "LONGITUDE                        116\n",
              "ON STREET NAME                    67\n",
              "NUMBER OF PEDESTRIANS INJURED    116\n",
              "NUMBER OF PEDESTRIANS KILLED     116\n",
              "NUMBER OF CYCLIST INJURED        116\n",
              "NUMBER OF CYCLIST KILLED         116\n",
              "NUMBER OF MOTORIST INJURED       116\n",
              "NUMBER OF MOTORIST KILLED        116\n",
              "CONTRIBUTING FACTOR VEHICLE 1    115\n",
              "CONTRIBUTING FACTOR VEHICLE 2     94\n",
              "CONTRIBUTING FACTOR VEHICLE 3     11\n",
              "CONTRIBUTING FACTOR VEHICLE 4      2\n",
              "CONTRIBUTING FACTOR VEHICLE 5      0\n",
              "COLLISION_ID                     116\n",
              "VEHICLE TYPE CODE 1              115\n",
              "VEHICLE TYPE CODE 2               87\n",
              "VEHICLE TYPE CODE 3               11\n",
              "VEHICLE TYPE CODE 4                2\n",
              "VEHICLE TYPE CODE 5                0\n",
              "date_format                      116\n",
              "ano-mes                          116\n",
              "HORA                             116\n",
              "dtype: int64"
            ]
          },
          "metadata": {},
          "execution_count": 372
        }
      ]
    },
    {
      "cell_type": "code",
      "metadata": {
        "id": "nWAMbuoF1zks",
        "outputId": "ee411b70-5ca3-45d2-c50d-63fcb9ad6dc6",
        "colab": {
          "base_uri": "https://localhost:8080/",
          "height": 1000
        }
      },
      "source": [
        "\n"
      ],
      "execution_count": 360,
      "outputs": [
        {
          "output_type": "execute_result",
          "data": {
            "text/plain": [
              "([0,\n",
              "  1,\n",
              "  2,\n",
              "  3,\n",
              "  4,\n",
              "  5,\n",
              "  6,\n",
              "  7,\n",
              "  8,\n",
              "  9,\n",
              "  10,\n",
              "  11,\n",
              "  12,\n",
              "  13,\n",
              "  14,\n",
              "  15,\n",
              "  16,\n",
              "  17,\n",
              "  18,\n",
              "  19,\n",
              "  20,\n",
              "  21,\n",
              "  22,\n",
              "  23,\n",
              "  24,\n",
              "  25,\n",
              "  26,\n",
              "  27,\n",
              "  28,\n",
              "  29,\n",
              "  30,\n",
              "  31,\n",
              "  32,\n",
              "  33,\n",
              "  34,\n",
              "  35,\n",
              "  36,\n",
              "  37,\n",
              "  38,\n",
              "  39,\n",
              "  40,\n",
              "  41,\n",
              "  42,\n",
              "  43,\n",
              "  44,\n",
              "  45,\n",
              "  46,\n",
              "  47,\n",
              "  48,\n",
              "  49,\n",
              "  50,\n",
              "  51,\n",
              "  52,\n",
              "  53,\n",
              "  54,\n",
              "  55,\n",
              "  56,\n",
              "  57,\n",
              "  58,\n",
              "  59,\n",
              "  60,\n",
              "  61,\n",
              "  62,\n",
              "  63,\n",
              "  64,\n",
              "  65,\n",
              "  66,\n",
              "  67,\n",
              "  68,\n",
              "  69,\n",
              "  70,\n",
              "  71,\n",
              "  72,\n",
              "  73,\n",
              "  74,\n",
              "  75,\n",
              "  76,\n",
              "  77,\n",
              "  78,\n",
              "  79,\n",
              "  80,\n",
              "  81,\n",
              "  82,\n",
              "  83,\n",
              "  84,\n",
              "  85,\n",
              "  86,\n",
              "  87,\n",
              "  88,\n",
              "  89,\n",
              "  90,\n",
              "  91,\n",
              "  92],\n",
              " <a list of 93 Text major ticklabel objects>)"
            ]
          },
          "metadata": {},
          "execution_count": 360
        },
        {
          "output_type": "display_data",
          "data": {
            "image/png": "[encoded data removed]",
            "text/plain": [
              "<Figure size 432x288 with 1 Axes>"
            ]
          },
          "metadata": {
            "needs_background": "light"
          }
        }
      ]
    },
    {
      "cell_type": "code",
      "metadata": {
        "colab": {
          "base_uri": "https://localhost:8080/",
          "height": 282
        },
        "id": "xhTTAPFYlRIb",
        "outputId": "57299027-590e-4220-fcbd-b083290a512d"
      },
      "source": [
        "sns.lineplot(data=hora, x=hora.index, y='DATE_TIME')"
      ],
      "execution_count": 172,
      "outputs": [
        {
          "output_type": "execute_result",
          "data": {
            "text/plain": [
              "<matplotlib.axes._subplots.AxesSubplot at 0x7f05c339c590>"
            ]
          },
          "metadata": {},
          "execution_count": 172
        },
        {
          "output_type": "display_data",
          "data": {
            "image/png": "[encoded data removed]",
            "text/plain": [
              "<Figure size 432x288 with 1 Axes>"
            ]
          },
          "metadata": {
            "needs_background": "light"
          }
        }
      ]
    },
    {
      "cell_type": "code",
      "metadata": {
        "id": "BZU9L2P_j_hz"
      },
      "source": [
        ""
      ],
      "execution_count": null,
      "outputs": []
    },
    {
      "cell_type": "markdown",
      "metadata": {
        "id": "DbVnzWWGd6V8"
      },
      "source": [
        "## Parte 3: Accidentes por día laborable\n",
        "\n",
        "¿Cómo varía el número de accidentes en una sola semana? Trace un gráfico de barras basado en el recuento de accidentes por día de la semana."
      ]
    },
    {
      "cell_type": "code",
      "metadata": {
        "id": "wjmKw6mGd6V8"
      },
      "source": [
        "# Escriba su código aquí\n"
      ],
      "execution_count": null,
      "outputs": []
    },
    {
      "cell_type": "markdown",
      "metadata": {
        "id": "7fNI3lqed6V9"
      },
      "source": [
        "## Parte 4: Análisis de comuna\n",
        "\n",
        "Trace un gráfico de barras del número total de accidentes en cada comuna, así como uno de los accidentes por kilómetro cuadrado por comuna. ¿Qué puedes concluir?"
      ]
    },
    {
      "cell_type": "code",
      "metadata": {
        "id": "ZDt6VtoTd6V9"
      },
      "source": [
        "# Escriba su código aquí\n"
      ],
      "execution_count": null,
      "outputs": []
    },
    {
      "cell_type": "markdown",
      "metadata": {
        "id": "T7GhKEKRd6V9"
      },
      "source": [
        "## Parte 5: Análisis por hora del comuna\n",
        "\n",
        "¿Qué horas tienen más accidentes en cada comuna? Trace un gráfico de barras para cada comuna que muestre el número de accidentes por cada hora del día."
      ]
    },
    {
      "cell_type": "code",
      "metadata": {
        "id": "26MV8Ak0d6V9"
      },
      "source": [
        "# Escriba su código aquí\n"
      ],
      "execution_count": null,
      "outputs": []
    },
    {
      "cell_type": "markdown",
      "metadata": {
        "id": "6PPahsuVd6V-"
      },
      "source": [
        "## Parte 6: Causa de accidentes\n",
        "\n",
        "¿Qué factores provocan la mayoría de los accidentes?"
      ]
    },
    {
      "cell_type": "code",
      "metadata": {
        "id": "C2TiU-2gd6V-"
      },
      "source": [
        "# Escriba su código aquí\n"
      ],
      "execution_count": null,
      "outputs": []
    }
  ]
}