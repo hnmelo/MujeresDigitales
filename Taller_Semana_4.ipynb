{
  "nbformat": 4,
  "nbformat_minor": 0,
  "metadata": {
    "kernelspec": {
      "display_name": "Python 3",
      "language": "python",
      "name": "python3"
    },
    "language_info": {
      "codemirror_mode": {
        "name": "ipython",
        "version": 3
      },
      "file_extension": ".py",
      "mimetype": "text/x-python",
      "name": "python",
      "nbconvert_exporter": "python",
      "pygments_lexer": "ipython3",
      "version": "3.7.3"
    },
    "colab": {
      "name": "Taller Semana 4.ipynb",
      "provenance": [],
      "include_colab_link": true
    }
  },
  "cells": [
    {
      "cell_type": "markdown",
      "metadata": {
        "id": "view-in-github",
        "colab_type": "text"
      },
      "source": [
        "<a href=\"https://colab.research.google.com/github/hnmelo/MujeresDigitales/blob/main/Taller_Semana_4.ipynb\" target=\"_parent\"><img src=\"https://colab.research.google.com/assets/colab-badge.svg\" alt=\"Open In Colab\"/></a>"
      ]
    },
    {
      "cell_type": "markdown",
      "metadata": {
        "id": "SUIcZJyyd6Vw"
      },
      "source": [
        "# Investigando los accidentes de tránsito en Nueva York"
      ]
    },
    {
      "cell_type": "code",
      "metadata": {
        "id": "0qKbKxgBd6Vz"
      },
      "source": [
        "import pandas as pd\n",
        "import matplotlib.pyplot as plt\n",
        "import seaborn as sns"
      ],
      "execution_count": 1,
      "outputs": []
    },
    {
      "cell_type": "markdown",
      "metadata": {
        "id": "CciJWSAqd6V0"
      },
      "source": [
        "## Introducción\n",
        "\n",
        "**Contexto empresarial.** La ciudad de Nueva York ha experimentado un aumento en el número de accidentes en las vías de la ciudad. Quieren saber si el número de accidentes ha aumentado en las últimas semanas. Para todos los accidentes reportados, han recopilado detalles para cada accidente y han estado manteniendo registros durante el último año y medio (desde enero de 2018 hasta agosto de 2019).\n",
        "\n",
        "La ciudad te ha contratado para que construyas visualizaciones que les ayuden a identificar patrones en accidentes, lo que les ayudaría a tomar acciones preventivas para reducir la cantidad de accidentes en el futuro. Tienen ciertos parámetros como comuna, hora del día, motivo del accidente, etc. De los que se preocupan y de los que les gustaría obtener información específica.\n",
        "\n",
        "**Problema empresarial.** Su tarea es formatear los datos proporcionados y proporcionar visualizaciones que respondan a las preguntas específicas que tiene el cliente, que se mencionan a continuación.\n",
        "\n",
        "**Contexto analítico.** Se le proporciona un archivo CSV que contiene detalles sobre cada accidente como fecha, hora, ubicación del accidente, motivo del accidente, tipos de vehículos involucrados, recuento de lesiones y muertes, etc. El delimitador en el archivo CSV dado es; en lugar del predeterminado,. Realizará las siguientes tareas con los datos:\n",
        "\n",
        "*    Leer, transformar y preparar datos para su visualización\n",
        "*    Realizar análisis y construir visualizaciones de los datos para identificar patrones en el conjunto de datos.\n",
        "\n",
        "El cliente tiene un conjunto específico de preguntas a las que le gustaría obtener respuestas. Deberá proporcionar visualizaciones para acompañar estos:\n",
        "\n",
        "1.    ¿Cómo ha fluctuado el número de accidentes durante el último año y medio? ¿Han aumentado con el tiempo?\n",
        "2.   Para un día en particular, ¿durante qué horas es más probable que ocurran accidentes?\n",
        "3.    ¿Hay más accidentes entre semana que los fines de semana?\n",
        "4.    ¿Cuál es la proporción de accidentes por área por comuna? ¿Qué distritos tienen un número desproporcionadamente grande de accidentes para su tamaño?\n",
        "5.    Para cada comuna, ¿durante qué horas es más probable que ocurran accidentes?\n",
        "6.    ¿Cuáles son las 5 principales causas de accidentes en la ciudad?"
      ]
    },
    {
      "cell_type": "code",
      "metadata": {
        "id": "pf5H533Td6V1"
      },
      "source": [
        "# Use la siguiente informacipón de cada comuna (\"borough\") para realizar los análisis\n",
        "\n",
        "borough_data = {'the bronx': {'name': 'the bronx', 'population': 1471160.0, 'area': 42.1},\n",
        " 'brooklyn': {'name': 'brooklyn', 'population': 2648771.0, 'area': 70.82},\n",
        " 'manhattan': {'name': 'manhattan', 'population': 1664727.0, 'area': 22.83},\n",
        " 'queens': {'name': 'queens', 'population': 2358582.0, 'area': 108.53},\n",
        " 'staten island': {'name': 'staten island', 'population': 479458.0, 'area': 58.37}}"
      ],
      "execution_count": 2,
      "outputs": []
    },
    {
      "cell_type": "markdown",
      "metadata": {
        "id": "QP-Y4A-3d6V2"
      },
      "source": [
        "Tenemos las siguientes columnas\n",
        "\n",
        "     Borough: el comuna en el que ocurrió el accidente.\n",
        "     COLLISION_ID: un identificador único para esta colisión\n",
        "     CONTRIBUTING FACTOR VEHICLE (1, 2, 3, 4, 5): Motivos del accidente\n",
        "     CROSS STREET : Calle transversal más cercana al lugar de los accidentes\n",
        "     DATE: Fecha del accidente\n",
        "     TIME: Hora del accidente\n",
        "     DATETIME: la columna que creamos anteriormente con la combinación de fecha y hora\n",
        "     LATITUDE: Latitud del accidente\n",
        "     LONGITUDE: Longitud del accidente\n",
        "     NUMBER OF (CYCLIST, MOTORIST, PEDESTRIANS) INJURED: Lesión por categoría\n",
        "     NUMBER OF (CYCLIST, MOTORIST, PEDESTRIANS) KILLED: Categoría muerte sabia\n",
        "     ON STREET NAME: Calle donde ocurrió el accidente\n",
        "     TOTAL INJURED: Total de heridos por el accidente\n",
        "     TOTAL KILLED: Total de bajas en el accidente\n",
        "     VEHICLE TYPE CODE (1, 2, 3, 4, 5): Tipos de vehículos involucrados en el accidente\n",
        "     ZIP CODE: código postal del lugar del accidente"
      ]
    },
    {
      "cell_type": "markdown",
      "metadata": {
        "id": "KsHqg54gd6V3"
      },
      "source": [
        "Primero cargue los datos del csv a un dataframe.\n",
        "\n",
        "**Nota:** El archivo se encuentra separado por punto y coma ( ; ) en lugar de coma ( , ), así que se debe ingresar el parámetro sep para leer el archivo. Aquí puede encontrar información:\n",
        "\n",
        "https://pandas.pydata.org/pandas-docs/stable/reference/api/pandas.read_csv.html#pandas.read_csv"
      ]
    },
    {
      "cell_type": "code",
      "metadata": {
        "id": "-lIQwE70d6V3",
        "colab": {
          "base_uri": "https://localhost:8080/",
          "height": 298
        },
        "outputId": "56a0a3d8-d086-4122-bfdd-0d3b5a27d6d6"
      },
      "source": [
        "# Escriba su código aquí\n",
        "df = pd.read_csv('accidents_sample.csv', sep=';', parse_dates=[['DATE', 'TIME']])\n",
        "df.head(3)"
      ],
      "execution_count": 3,
      "outputs": [
        {
          "output_type": "execute_result",
          "data": {
            "text/html": [
              "<div>\n",
              "<style scoped>\n",
              "    .dataframe tbody tr th:only-of-type {\n",
              "        vertical-align: middle;\n",
              "    }\n",
              "\n",
              "    .dataframe tbody tr th {\n",
              "        vertical-align: top;\n",
              "    }\n",
              "\n",
              "    .dataframe thead th {\n",
              "        text-align: right;\n",
              "    }\n",
              "</style>\n",
              "<table border=\"1\" class=\"dataframe\">\n",
              "  <thead>\n",
              "    <tr style=\"text-align: right;\">\n",
              "      <th></th>\n",
              "      <th>DATE_TIME</th>\n",
              "      <th>BOROUGH</th>\n",
              "      <th>ZIP CODE</th>\n",
              "      <th>LATITUDE</th>\n",
              "      <th>LONGITUDE</th>\n",
              "      <th>ON STREET NAME</th>\n",
              "      <th>NUMBER OF PEDESTRIANS INJURED</th>\n",
              "      <th>NUMBER OF PEDESTRIANS KILLED</th>\n",
              "      <th>NUMBER OF CYCLIST INJURED</th>\n",
              "      <th>NUMBER OF CYCLIST KILLED</th>\n",
              "      <th>NUMBER OF MOTORIST INJURED</th>\n",
              "      <th>NUMBER OF MOTORIST KILLED</th>\n",
              "      <th>CONTRIBUTING FACTOR VEHICLE 1</th>\n",
              "      <th>CONTRIBUTING FACTOR VEHICLE 2</th>\n",
              "      <th>CONTRIBUTING FACTOR VEHICLE 3</th>\n",
              "      <th>CONTRIBUTING FACTOR VEHICLE 4</th>\n",
              "      <th>CONTRIBUTING FACTOR VEHICLE 5</th>\n",
              "      <th>COLLISION_ID</th>\n",
              "      <th>VEHICLE TYPE CODE 1</th>\n",
              "      <th>VEHICLE TYPE CODE 2</th>\n",
              "      <th>VEHICLE TYPE CODE 3</th>\n",
              "      <th>VEHICLE TYPE CODE 4</th>\n",
              "      <th>VEHICLE TYPE CODE 5</th>\n",
              "    </tr>\n",
              "  </thead>\n",
              "  <tbody>\n",
              "    <tr>\n",
              "      <th>0</th>\n",
              "      <td>2019-05-29 08:19:00</td>\n",
              "      <td>QUEENS</td>\n",
              "      <td>11368.0</td>\n",
              "      <td>40.751060</td>\n",
              "      <td>-73.86954</td>\n",
              "      <td>NaN</td>\n",
              "      <td>0</td>\n",
              "      <td>0</td>\n",
              "      <td>0.0</td>\n",
              "      <td>0.0</td>\n",
              "      <td>0.0</td>\n",
              "      <td>0.0</td>\n",
              "      <td>Other Vehicular</td>\n",
              "      <td>Unspecified</td>\n",
              "      <td>NaN</td>\n",
              "      <td>NaN</td>\n",
              "      <td>NaN</td>\n",
              "      <td>4141862.0</td>\n",
              "      <td>Sedan</td>\n",
              "      <td>NaN</td>\n",
              "      <td>NaN</td>\n",
              "      <td>NaN</td>\n",
              "      <td>NaN</td>\n",
              "    </tr>\n",
              "    <tr>\n",
              "      <th>1</th>\n",
              "      <td>2018-05-11 16:30:00</td>\n",
              "      <td>QUEENS</td>\n",
              "      <td>11357.0</td>\n",
              "      <td>40.788480</td>\n",
              "      <td>-73.81369</td>\n",
              "      <td>NaN</td>\n",
              "      <td>0</td>\n",
              "      <td>0</td>\n",
              "      <td>0.0</td>\n",
              "      <td>0.0</td>\n",
              "      <td>0.0</td>\n",
              "      <td>0.0</td>\n",
              "      <td>Passing or Lane Usage Improper</td>\n",
              "      <td>Unspecified</td>\n",
              "      <td>NaN</td>\n",
              "      <td>NaN</td>\n",
              "      <td>NaN</td>\n",
              "      <td>3899223.0</td>\n",
              "      <td>Station Wagon/Sport Utility Vehicle</td>\n",
              "      <td>Sedan</td>\n",
              "      <td>NaN</td>\n",
              "      <td>NaN</td>\n",
              "      <td>NaN</td>\n",
              "    </tr>\n",
              "    <tr>\n",
              "      <th>2</th>\n",
              "      <td>2019-07-18 12:51:00</td>\n",
              "      <td>MANHATTAN</td>\n",
              "      <td>10022.0</td>\n",
              "      <td>40.755985</td>\n",
              "      <td>-73.96771</td>\n",
              "      <td>NaN</td>\n",
              "      <td>0</td>\n",
              "      <td>0</td>\n",
              "      <td>0.0</td>\n",
              "      <td>0.0</td>\n",
              "      <td>0.0</td>\n",
              "      <td>0.0</td>\n",
              "      <td>Driver Inattention/Distraction</td>\n",
              "      <td>Unspecified</td>\n",
              "      <td>NaN</td>\n",
              "      <td>NaN</td>\n",
              "      <td>NaN</td>\n",
              "      <td>4172694.0</td>\n",
              "      <td>Box Truck</td>\n",
              "      <td>NaN</td>\n",
              "      <td>NaN</td>\n",
              "      <td>NaN</td>\n",
              "      <td>NaN</td>\n",
              "    </tr>\n",
              "  </tbody>\n",
              "</table>\n",
              "</div>"
            ],
            "text/plain": [
              "            DATE_TIME    BOROUGH  ...  VEHICLE TYPE CODE 4  VEHICLE TYPE CODE 5\n",
              "0 2019-05-29 08:19:00     QUEENS  ...                  NaN                  NaN\n",
              "1 2018-05-11 16:30:00     QUEENS  ...                  NaN                  NaN\n",
              "2 2019-07-18 12:51:00  MANHATTAN  ...                  NaN                  NaN\n",
              "\n",
              "[3 rows x 23 columns]"
            ]
          },
          "metadata": {},
          "execution_count": 3
        }
      ]
    },
    {
      "cell_type": "markdown",
      "metadata": {
        "id": "icNi1Weed6V4"
      },
      "source": [
        "## Parte 1: Accidentes a lo largo del tiempo\n",
        "\n",
        "Agrupe los datos disponibles mensualmente y genere una gráfica lineal de accidentes a lo largo del tiempo. ¿Ha aumentado el número de accidentes durante el último año y medio?"
      ]
    },
    {
      "cell_type": "code",
      "metadata": {
        "id": "K876XaNBd6V6"
      },
      "source": [
        "df['ano-mes'] = df['DATE_TIME'].dt.to_period('M')"
      ],
      "execution_count": 4,
      "outputs": []
    },
    {
      "cell_type": "code",
      "metadata": {
        "id": "5G2hnT8HZPIg",
        "colab": {
          "base_uri": "https://localhost:8080/",
          "height": 344
        },
        "outputId": "8146f653-4b5b-4a63-e3d7-122deedf77a2"
      },
      "source": [
        "group = df.groupby('ano-mes').count()\n",
        "sns.barplot(data=group, y='DATE_TIME', x= group.index)\n",
        "plt.xticks(rotation = 60)"
      ],
      "execution_count": 6,
      "outputs": [
        {
          "output_type": "execute_result",
          "data": {
            "text/plain": [
              "(array([ 0,  1,  2,  3,  4,  5,  6,  7,  8,  9, 10, 11, 12, 13, 14, 15, 16,\n",
              "        17, 18, 19]), <a list of 20 Text major ticklabel objects>)"
            ]
          },
          "metadata": {},
          "execution_count": 6
        },
        {
          "output_type": "display_data",
          "data": {
            "image/png": "[encoded data removed]",
            "text/plain": [
              "<Figure size 432x288 with 1 Axes>"
            ]
          },
          "metadata": {
            "needs_background": "light"
          }
        }
      ]
    },
    {
      "cell_type": "markdown",
      "metadata": {
        "id": "43bWKEgNcBGw"
      },
      "source": [
        "**Como podemos observar en la gráfica, es muy variable el numero de accidentes, no han disminuido y se mantiene una \"Secuencia\" o los valores son similares en los meses, ejemplo: Se nota un patrón en común en los mese 05 del 2018 y los del 2019, lo mismo en el mes 01 y 02 del 2018 y 2019, entonces se podría indagar o estudiar más los datos para ver qué factor(es) influye en aquellos meses (clima)**\n"
      ]
    },
    {
      "cell_type": "markdown",
      "metadata": {
        "id": "NqOw_sajd6V7"
      },
      "source": [
        "## Parte 2: Puntos calientes de accidentes en un día\n",
        "\n",
        "¿Cómo varía el número de accidentes a lo largo de un solo día? Cree una nueva columna HORA basada en los datos de la columna DATETIME, luego trace un gráfico de barras de la distribución por hora a lo largo del día."
      ]
    },
    {
      "cell_type": "code",
      "metadata": {
        "id": "BZU9L2P_j_hz"
      },
      "source": [
        "df['ANO_DIA'] = df['DATE_TIME'].dt.to_period('D') #Se separó la fecha de fecha y hora y se creo una nueva columna (ANO_DIA)\n",
        "df['HORA'] = df['DATE_TIME'].dt.hour #Se separó la hora de fecha y hora y se creo una nueva columna (HORA)\n",
        "mask = df[df['ANO_DIA'] < '01/02/2018'] #Se creó una variable con los datos del dataframe exlusivamente el día 01-01-2018\n",
        "group = mask.groupby('HORA').count() #Se agruparon por index 'HORA' de tal manera que me mostrara cuántos accidentes hubo en la hora indicada, es decir, a la 1 am hubo 1 accidente y asi..."
      ],
      "execution_count": 7,
      "outputs": []
    },
    {
      "cell_type": "code",
      "metadata": {
        "id": "4zzerQblp1_l",
        "colab": {
          "base_uri": "https://localhost:8080/",
          "height": 296
        },
        "outputId": "c95f4a38-529f-43d5-a5cf-f40e1b06ee99"
      },
      "source": [
        "sns.lineplot(x = group.index, y = 'ANO_DIA', data = group)\n",
        "#Se graficó con la data de group, en el eje x se puso el index(HORA) y en el eje y ANO_DIA que es la columna \n",
        "#en donde estaba llevando el conteo por hora\n",
        "#plt.ylabel('conteo') (estas etiquetas no me funcionan:( )\n",
        "#plt.xlabel('hora')"
      ],
      "execution_count": 8,
      "outputs": [
        {
          "output_type": "execute_result",
          "data": {
            "text/plain": [
              "<matplotlib.axes._subplots.AxesSubplot at 0x7f0b0ce3a9d0>"
            ]
          },
          "metadata": {},
          "execution_count": 8
        },
        {
          "output_type": "display_data",
          "data": {
            "image/png": "[encoded data removed]",
            "text/plain": [
              "<Figure size 432x288 with 1 Axes>"
            ]
          },
          "metadata": {
            "needs_background": "light"
          }
        }
      ]
    },
    {
      "cell_type": "markdown",
      "metadata": {
        "id": "DbVnzWWGd6V8"
      },
      "source": [
        "## Parte 3: Accidentes por día laborable\n",
        "\n",
        "¿Cómo varía el número de accidentes en una sola semana? Trace un gráfico de barras basado en el recuento de accidentes por día de la semana."
      ]
    },
    {
      "cell_type": "code",
      "metadata": {
        "id": "XxnpWWHWjy6C",
        "outputId": "9742fc10-797b-488d-af22-18bb2f1059c2",
        "colab": {
          "base_uri": "https://localhost:8080/",
          "height": 530
        }
      },
      "source": [
        "#df.head(5)"
      ],
      "execution_count": 18,
      "outputs": [
        {
          "output_type": "execute_result",
          "data": {
            "text/html": [
              "<div>\n",
              "<style scoped>\n",
              "    .dataframe tbody tr th:only-of-type {\n",
              "        vertical-align: middle;\n",
              "    }\n",
              "\n",
              "    .dataframe tbody tr th {\n",
              "        vertical-align: top;\n",
              "    }\n",
              "\n",
              "    .dataframe thead th {\n",
              "        text-align: right;\n",
              "    }\n",
              "</style>\n",
              "<table border=\"1\" class=\"dataframe\">\n",
              "  <thead>\n",
              "    <tr style=\"text-align: right;\">\n",
              "      <th></th>\n",
              "      <th>DATE_TIME</th>\n",
              "      <th>BOROUGH</th>\n",
              "      <th>ZIP CODE</th>\n",
              "      <th>LATITUDE</th>\n",
              "      <th>LONGITUDE</th>\n",
              "      <th>ON STREET NAME</th>\n",
              "      <th>NUMBER OF PEDESTRIANS INJURED</th>\n",
              "      <th>NUMBER OF PEDESTRIANS KILLED</th>\n",
              "      <th>NUMBER OF CYCLIST INJURED</th>\n",
              "      <th>NUMBER OF CYCLIST KILLED</th>\n",
              "      <th>NUMBER OF MOTORIST INJURED</th>\n",
              "      <th>NUMBER OF MOTORIST KILLED</th>\n",
              "      <th>CONTRIBUTING FACTOR VEHICLE 1</th>\n",
              "      <th>CONTRIBUTING FACTOR VEHICLE 2</th>\n",
              "      <th>CONTRIBUTING FACTOR VEHICLE 3</th>\n",
              "      <th>CONTRIBUTING FACTOR VEHICLE 4</th>\n",
              "      <th>CONTRIBUTING FACTOR VEHICLE 5</th>\n",
              "      <th>COLLISION_ID</th>\n",
              "      <th>VEHICLE TYPE CODE 1</th>\n",
              "      <th>VEHICLE TYPE CODE 2</th>\n",
              "      <th>VEHICLE TYPE CODE 3</th>\n",
              "      <th>VEHICLE TYPE CODE 4</th>\n",
              "      <th>VEHICLE TYPE CODE 5</th>\n",
              "      <th>ano-mes</th>\n",
              "      <th>ANO_DIA</th>\n",
              "      <th>HORA</th>\n",
              "      <th>SEMANA</th>\n",
              "    </tr>\n",
              "  </thead>\n",
              "  <tbody>\n",
              "    <tr>\n",
              "      <th>0</th>\n",
              "      <td>2019-05-29 08:19:00</td>\n",
              "      <td>QUEENS</td>\n",
              "      <td>11368.0</td>\n",
              "      <td>40.751060</td>\n",
              "      <td>-73.86954</td>\n",
              "      <td>NaN</td>\n",
              "      <td>0</td>\n",
              "      <td>0</td>\n",
              "      <td>0.0</td>\n",
              "      <td>0.0</td>\n",
              "      <td>0.0</td>\n",
              "      <td>0.0</td>\n",
              "      <td>Other Vehicular</td>\n",
              "      <td>Unspecified</td>\n",
              "      <td>NaN</td>\n",
              "      <td>NaN</td>\n",
              "      <td>NaN</td>\n",
              "      <td>4141862.0</td>\n",
              "      <td>Sedan</td>\n",
              "      <td>NaN</td>\n",
              "      <td>NaN</td>\n",
              "      <td>NaN</td>\n",
              "      <td>NaN</td>\n",
              "      <td>2019-05</td>\n",
              "      <td>2019-05-29</td>\n",
              "      <td>8</td>\n",
              "      <td>2019-05-27/2019-06-02</td>\n",
              "    </tr>\n",
              "    <tr>\n",
              "      <th>1</th>\n",
              "      <td>2018-05-11 16:30:00</td>\n",
              "      <td>QUEENS</td>\n",
              "      <td>11357.0</td>\n",
              "      <td>40.788480</td>\n",
              "      <td>-73.81369</td>\n",
              "      <td>NaN</td>\n",
              "      <td>0</td>\n",
              "      <td>0</td>\n",
              "      <td>0.0</td>\n",
              "      <td>0.0</td>\n",
              "      <td>0.0</td>\n",
              "      <td>0.0</td>\n",
              "      <td>Passing or Lane Usage Improper</td>\n",
              "      <td>Unspecified</td>\n",
              "      <td>NaN</td>\n",
              "      <td>NaN</td>\n",
              "      <td>NaN</td>\n",
              "      <td>3899223.0</td>\n",
              "      <td>Station Wagon/Sport Utility Vehicle</td>\n",
              "      <td>Sedan</td>\n",
              "      <td>NaN</td>\n",
              "      <td>NaN</td>\n",
              "      <td>NaN</td>\n",
              "      <td>2018-05</td>\n",
              "      <td>2018-05-11</td>\n",
              "      <td>16</td>\n",
              "      <td>2018-05-07/2018-05-13</td>\n",
              "    </tr>\n",
              "    <tr>\n",
              "      <th>2</th>\n",
              "      <td>2019-07-18 12:51:00</td>\n",
              "      <td>MANHATTAN</td>\n",
              "      <td>10022.0</td>\n",
              "      <td>40.755985</td>\n",
              "      <td>-73.96771</td>\n",
              "      <td>NaN</td>\n",
              "      <td>0</td>\n",
              "      <td>0</td>\n",
              "      <td>0.0</td>\n",
              "      <td>0.0</td>\n",
              "      <td>0.0</td>\n",
              "      <td>0.0</td>\n",
              "      <td>Driver Inattention/Distraction</td>\n",
              "      <td>Unspecified</td>\n",
              "      <td>NaN</td>\n",
              "      <td>NaN</td>\n",
              "      <td>NaN</td>\n",
              "      <td>4172694.0</td>\n",
              "      <td>Box Truck</td>\n",
              "      <td>NaN</td>\n",
              "      <td>NaN</td>\n",
              "      <td>NaN</td>\n",
              "      <td>NaN</td>\n",
              "      <td>2019-07</td>\n",
              "      <td>2019-07-18</td>\n",
              "      <td>12</td>\n",
              "      <td>2019-07-15/2019-07-21</td>\n",
              "    </tr>\n",
              "    <tr>\n",
              "      <th>3</th>\n",
              "      <td>2019-07-06 15:00:00</td>\n",
              "      <td>BROOKLYN</td>\n",
              "      <td>11218.0</td>\n",
              "      <td>40.646600</td>\n",
              "      <td>-73.97033</td>\n",
              "      <td>CHURCH AVENUE</td>\n",
              "      <td>0</td>\n",
              "      <td>0</td>\n",
              "      <td>0.0</td>\n",
              "      <td>0.0</td>\n",
              "      <td>0.0</td>\n",
              "      <td>0.0</td>\n",
              "      <td>Oversized Vehicle</td>\n",
              "      <td>Unspecified</td>\n",
              "      <td>NaN</td>\n",
              "      <td>NaN</td>\n",
              "      <td>NaN</td>\n",
              "      <td>4167007.0</td>\n",
              "      <td>Bus</td>\n",
              "      <td>Station Wagon/Sport Utility Vehicle</td>\n",
              "      <td>NaN</td>\n",
              "      <td>NaN</td>\n",
              "      <td>NaN</td>\n",
              "      <td>2019-07</td>\n",
              "      <td>2019-07-06</td>\n",
              "      <td>15</td>\n",
              "      <td>2019-07-01/2019-07-07</td>\n",
              "    </tr>\n",
              "    <tr>\n",
              "      <th>4</th>\n",
              "      <td>2018-07-14 23:26:00</td>\n",
              "      <td>QUEENS</td>\n",
              "      <td>11369.0</td>\n",
              "      <td>40.760674</td>\n",
              "      <td>-73.86216</td>\n",
              "      <td>NaN</td>\n",
              "      <td>0</td>\n",
              "      <td>0</td>\n",
              "      <td>0.0</td>\n",
              "      <td>0.0</td>\n",
              "      <td>0.0</td>\n",
              "      <td>0.0</td>\n",
              "      <td>Unspecified</td>\n",
              "      <td>NaN</td>\n",
              "      <td>NaN</td>\n",
              "      <td>NaN</td>\n",
              "      <td>NaN</td>\n",
              "      <td>3942936.0</td>\n",
              "      <td>Sedan</td>\n",
              "      <td>NaN</td>\n",
              "      <td>NaN</td>\n",
              "      <td>NaN</td>\n",
              "      <td>NaN</td>\n",
              "      <td>2018-07</td>\n",
              "      <td>2018-07-14</td>\n",
              "      <td>23</td>\n",
              "      <td>2018-07-09/2018-07-15</td>\n",
              "    </tr>\n",
              "  </tbody>\n",
              "</table>\n",
              "</div>"
            ],
            "text/plain": [
              "            DATE_TIME    BOROUGH  ...  HORA                 SEMANA\n",
              "0 2019-05-29 08:19:00     QUEENS  ...     8  2019-05-27/2019-06-02\n",
              "1 2018-05-11 16:30:00     QUEENS  ...    16  2018-05-07/2018-05-13\n",
              "2 2019-07-18 12:51:00  MANHATTAN  ...    12  2019-07-15/2019-07-21\n",
              "3 2019-07-06 15:00:00   BROOKLYN  ...    15  2019-07-01/2019-07-07\n",
              "4 2018-07-14 23:26:00     QUEENS  ...    23  2018-07-09/2018-07-15\n",
              "\n",
              "[5 rows x 27 columns]"
            ]
          },
          "metadata": {},
          "execution_count": 18
        }
      ]
    },
    {
      "cell_type": "code",
      "metadata": {
        "id": "wjmKw6mGd6V8",
        "colab": {
          "base_uri": "https://localhost:8080/",
          "height": 198
        },
        "outputId": "d4da7ec1-3da3-4487-853b-a2e0e3d25572"
      },
      "source": [
        "df['SEMANA'] = df['DATE_TIME'].dt.to_period('W')\n",
        "mask2 = df.loc[0,'SEMANA']\n",
        "group2 = mask2.ANO_DIA.\n",
        "group3 = group2.groupby('HORA').count\n"
      ],
      "execution_count": 19,
      "outputs": [
        {
          "output_type": "error",
          "ename": "AttributeError",
          "evalue": "ignored",
          "traceback": [
            "\u001b[0;31m---------------------------------------------------------------------------\u001b[0m",
            "\u001b[0;31mAttributeError\u001b[0m                            Traceback (most recent call last)",
            "\u001b[0;32m<ipython-input-19-7fe862e61775>\u001b[0m in \u001b[0;36m<module>\u001b[0;34m()\u001b[0m\n\u001b[1;32m      1\u001b[0m \u001b[0mdf\u001b[0m\u001b[0;34m[\u001b[0m\u001b[0;34m'SEMANA'\u001b[0m\u001b[0;34m]\u001b[0m \u001b[0;34m=\u001b[0m \u001b[0mdf\u001b[0m\u001b[0;34m[\u001b[0m\u001b[0;34m'DATE_TIME'\u001b[0m\u001b[0;34m]\u001b[0m\u001b[0;34m.\u001b[0m\u001b[0mdt\u001b[0m\u001b[0;34m.\u001b[0m\u001b[0mto_period\u001b[0m\u001b[0;34m(\u001b[0m\u001b[0;34m'W'\u001b[0m\u001b[0;34m)\u001b[0m\u001b[0;34m\u001b[0m\u001b[0;34m\u001b[0m\u001b[0m\n\u001b[1;32m      2\u001b[0m \u001b[0mmask2\u001b[0m \u001b[0;34m=\u001b[0m \u001b[0mdf\u001b[0m\u001b[0;34m.\u001b[0m\u001b[0mloc\u001b[0m\u001b[0;34m[\u001b[0m\u001b[0;36m0\u001b[0m\u001b[0;34m,\u001b[0m\u001b[0;34m'SEMANA'\u001b[0m\u001b[0;34m]\u001b[0m\u001b[0;34m\u001b[0m\u001b[0;34m\u001b[0m\u001b[0m\n\u001b[0;32m----> 3\u001b[0;31m \u001b[0mgroup2\u001b[0m \u001b[0;34m=\u001b[0m \u001b[0mmask2\u001b[0m\u001b[0;34m.\u001b[0m\u001b[0mANO_DIA\u001b[0m\u001b[0;34m.\u001b[0m\u001b[0mgroupby\u001b[0m\u001b[0;34m(\u001b[0m\u001b[0;34m'HORA'\u001b[0m\u001b[0;34m)\u001b[0m\u001b[0;34m.\u001b[0m\u001b[0mcount\u001b[0m\u001b[0;34m\u001b[0m\u001b[0;34m\u001b[0m\u001b[0m\n\u001b[0m",
            "\u001b[0;31mAttributeError\u001b[0m: 'Period' object has no attribute 'ANO_DIA'"
          ]
        }
      ]
    },
    {
      "cell_type": "markdown",
      "metadata": {
        "id": "7fNI3lqed6V9"
      },
      "source": [
        "## Parte 4: Análisis de comuna\n",
        "\n",
        "Trace un gráfico de barras del número total de accidentes en cada comuna, así como uno de los accidentes por kilómetro cuadrado por comuna. ¿Qué puedes concluir?"
      ]
    },
    {
      "cell_type": "code",
      "metadata": {
        "id": "ZDt6VtoTd6V9"
      },
      "source": [
        "# Escriba su código aquí\n"
      ],
      "execution_count": null,
      "outputs": []
    },
    {
      "cell_type": "markdown",
      "metadata": {
        "id": "T7GhKEKRd6V9"
      },
      "source": [
        "## Parte 5: Análisis por hora del comuna\n",
        "\n",
        "¿Qué horas tienen más accidentes en cada comuna? Trace un gráfico de barras para cada comuna que muestre el número de accidentes por cada hora del día."
      ]
    },
    {
      "cell_type": "code",
      "metadata": {
        "id": "26MV8Ak0d6V9"
      },
      "source": [
        "# Escriba su código aquí\n"
      ],
      "execution_count": null,
      "outputs": []
    },
    {
      "cell_type": "markdown",
      "metadata": {
        "id": "6PPahsuVd6V-"
      },
      "source": [
        "## Parte 6: Causa de accidentes\n",
        "\n",
        "¿Qué factores provocan la mayoría de los accidentes?"
      ]
    },
    {
      "cell_type": "code",
      "metadata": {
        "id": "C2TiU-2gd6V-"
      },
      "source": [
        "# Escriba su código aquí\n"
      ],
      "execution_count": null,
      "outputs": []
    }
  ]
}