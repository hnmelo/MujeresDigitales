{
  "nbformat": 4,
  "nbformat_minor": 0,
  "metadata": {
    "colab": {
      "name": "Clase4.ipynb",
      "provenance": [],
      "authorship_tag": "ABX9TyOQQsGVjEp4eb5+VaRhbQO5",
      "include_colab_link": true
    },
    "kernelspec": {
      "name": "python3",
      "display_name": "Python 3"
    },
    "language_info": {
      "name": "python"
    }
  },
  "cells": [
    {
      "cell_type": "markdown",
      "metadata": {
        "id": "view-in-github",
        "colab_type": "text"
      },
      "source": [
        "<a href=\"https://colab.research.google.com/github/hnmelo/MujeresDigitales/blob/main/Clase4.ipynb\" target=\"_parent\"><img src=\"https://colab.research.google.com/assets/colab-badge.svg\" alt=\"Open In Colab\"/></a>"
      ]
    },
    {
      "cell_type": "markdown",
      "metadata": {
        "id": "FHG8Bt7VHmH-"
      },
      "source": [
        "**Continuación de estructuras de control iterativas**\n",
        "\n",
        "---\n",
        "**ACUMULADORES**\n",
        "\n",
        "Se le da este resultado a las variables que se encargan de \"almacenar\" algún tipo de información\n",
        "\n",
        "*Ejemplo*\n",
        "\n",
        "El caso de la compra viveres en la tienda:\n",
        "\n"
      ]
    },
    {
      "cell_type": "code",
      "metadata": {
        "colab": {
          "base_uri": "https://localhost:8080/"
        },
        "id": "3N2XNnDsH8mu",
        "outputId": "a366f334-837d-4dd9-b295-a2dee3177269"
      },
      "source": [
        "nombre=input(\"Nombre del consumidor: \")\n",
        "listacomp=\"\"\n",
        "print(nombre,\"Escribe los siguientes viveres para su compra en el supermercado:\")\n",
        "listacomp=listacomp+\"1 Paca de papel higiénico\"\n",
        "print(\"-----Compras que tengo que hacer-----\")\n",
        "print(listacomp)\n",
        "listacomp=listacomp+\". Shampoo Pantene 2 and 1\"\n",
        "print(listacomp)\n",
        "listacomp=listacomp+\". 2 pacas de pañales pequeñin etapa 3\"\n",
        "print(listacomp)"
      ],
      "execution_count": null,
      "outputs": [
        {
          "output_type": "stream",
          "text": [
            "Nombre del consumidor: sandra\n",
            "sandra Escribe los siguientes viveres para su compra en el supermercado:\n",
            "-----Compras que tengo que hacer-----\n",
            "1 Paca de papel higiénico\n",
            "('1 Paca de papel higiénico', 'Shampoo Pantene 2 and 1')\n",
            "(('1 Paca de papel higiénico', 'Shampoo Pantene 2 and 1'), ' 2 pacas de pañales pequeñin etapa 3')\n"
          ],
          "name": "stdout"
        }
      ]
    },
    {
      "cell_type": "markdown",
      "metadata": {
        "id": "dZDTSVINJvOy"
      },
      "source": [
        "La variable *listacomp* nos está sirviendo para acumular información de la lista de compras.\n",
        "\n",
        "Podemos observar, que **NO** estamos creando una variable por cada ítem, sino una variable definida nos sirve para almacenar información.\n",
        "\n",
        "A continuación, observemos un ejemplo donde se pone en práctica el uso de acumulación en una variable usando cantidades y precios"
      ]
    },
    {
      "cell_type": "code",
      "metadata": {
        "colab": {
          "base_uri": "https://localhost:8080/"
        },
        "id": "RCeKNbI3L9Mz",
        "outputId": "3fc8382a-8551-4401-cb7d-93190511454f"
      },
      "source": [
        "ppph=14000 #precio paca de papel higiénico\n",
        "cpph=2 #Cantidad de pacas de papel higiénico\n",
        "pshampo=18000 #precio del shampoo pantene 2 and 1\n",
        "cshampo=4 #cantidad del shampoo pantene 2 and 1\n",
        "ppbebe=17000 #Precio de pacas de pañales\n",
        "cpbebe=3 #Precio de pacas de pañales\n",
        "\n",
        "subtotal=0\n",
        "print(\"Calculando el total de la compra...\")\n",
        "total_pph=ppph*cpph\n",
        "print(\"El valor total de papel higiénico es: $\",total_pph)\n",
        "subtotal=subtotal+total_pph\n",
        "print(\"----El subtotal es: $\",subtotal)\n",
        "total_shampo=pshampo*cshampo\n",
        "print(\"El valor total del shampoo es: $\",total_shampo)\n",
        "subtotal=subtotal+total_shampo\n",
        "print(\"----El subtotal es: $\", subtotal)\n",
        "total_pbebe=ppbebe*cpbebe\n",
        "print(\"El valor total para pañales es: $\",total_pbebe)\n",
        "subtotal=subtotal+total_pbebe\n",
        "print(\"----El total de su compra es: $\", subtotal)"
      ],
      "execution_count": null,
      "outputs": [
        {
          "output_type": "stream",
          "text": [
            "Calculando el total de la compra...\n",
            "El valor total de papel higiénico es: $ 28000\n",
            "----El subtotal es: $ 28000\n",
            "El valor total del shampoo es: $ 72000\n",
            "----El subtotal es: $ 100000\n",
            "El valor total para pañales es: $ 51000\n",
            "----El total de su compra es: $ 151000\n"
          ],
          "name": "stdout"
        }
      ]
    },
    {
      "cell_type": "markdown",
      "metadata": {
        "id": "GEOlKv6dXV-l"
      },
      "source": [
        "**Contadores**\n",
        "\n",
        "---\n",
        "Tiene mucha relación con los \"Acumuladores\" visto en el apartado anterior, estas variables, se caracterizan por ser variables de control, es decir, controlan la **Cantidad** de veces que se ejecuta determinada acción\n",
        "\n",
        "Usando el ejemplo anterior y modificandolo un poco, podemos desarrollar el siguiente algoritmo:"
      ]
    },
    {
      "cell_type": "code",
      "metadata": {
        "id": "OElKVkhiX8Za",
        "outputId": "92d6fa02-ae7b-4fff-a839-114ab99085de",
        "colab": {
          "base_uri": "https://localhost:8080/"
        }
      },
      "source": [
        "#Se comprará pañales por unidad en este caso\n",
        "\n",
        "contp=0\n",
        "print(\"Se realizará la compra de pañales etapa 3... se ha iniciado la compra y asignación en el carrito\")\n",
        "print(\"En total hay\",contp,\"pañales\")\n",
        "contp=contp+1\n",
        "print (\" Ahora hay:\",contp, \"pañal\")\n",
        "contp=contp+1\n",
        "print (\" Ahora hay:\",contp, \"pañal\")\n",
        "contp=contp+1\n",
        "print (\" Ahora hay:\",contp, \"pañal\")\n",
        "contp=contp+1\n",
        "print (\" Ahora hay:\",contp, \"pañal\")\n",
        "contp=contp+1\n",
        "print (\" Ahora hay:\",contp, \"pañal\")"
      ],
      "execution_count": 1,
      "outputs": [
        {
          "output_type": "stream",
          "text": [
            "Se realizará la compra de pañales etapa 3... se ha iniciado la compra y asignación en el carrito\n",
            "En total hay 0 pañales\n",
            " Ahora hay: 1 pañal\n",
            " Ahora hay: 2 pañal\n",
            " Ahora hay: 3 pañal\n",
            " Ahora hay: 4 pañal\n",
            " Ahora hay: 5 pañal\n"
          ],
          "name": "stdout"
        }
      ]
    },
    {
      "cell_type": "markdown",
      "metadata": {
        "id": "Joush0rspy_O"
      },
      "source": [
        "**CICLOS CONTROLADOS POR CONDICIONES**\n",
        "\n",
        "---\n",
        "**WHILE:**\n",
        "\n",
        "Recordemos que las variables de control nos permite manejar estados, pasar de un estado a otro, es por ejemplo: una variable que no contiene elementos a contenerlo o una variable con un elemento en particular (Acumulador o contador) y cambiarlo por completo (Bandera).\n",
        "\n",
        "Estas variables de control son la base de los ciclos de control. Siendo más claras, pasar de una adición manual a algo más automatizado.\n",
        "\n",
        "Empezamos con el ciclo *WHILE*. En español, es \"*mientras\"*, este ciclo se compone de una **condición** y su **Bloque de código**. Lo que nos quiere decir el while, es que, el bloque de código se ejecutará mientras la condición da como resultado *True o False*. \n"
      ]
    },
    {
      "cell_type": "code",
      "metadata": {
        "id": "yQsn6Lk9q7xf"
      },
      "source": [
        "lapiz=5\n",
        "contlapiz=0\n",
        "print(\"Se ha iniciado la compra. En total hay:\",contlapiz)\n",
        "while (contlapiz<lapiz):\n",
        "  print()\n"
      ],
      "execution_count": null,
      "outputs": []
    }
  ]
}