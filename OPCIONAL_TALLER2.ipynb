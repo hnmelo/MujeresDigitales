{
  "nbformat": 4,
  "nbformat_minor": 0,
  "metadata": {
    "colab": {
      "name": "Untitled12.ipynb",
      "provenance": [],
      "authorship_tag": "ABX9TyNDzUQ1hVOwJHAfJj+zW1Ua",
      "include_colab_link": true
    },
    "kernelspec": {
      "name": "python3",
      "display_name": "Python 3"
    },
    "language_info": {
      "name": "python"
    }
  },
  "cells": [
    {
      "cell_type": "markdown",
      "metadata": {
        "id": "view-in-github",
        "colab_type": "text"
      },
      "source": [
        "<a href=\"https://colab.research.google.com/github/hnmelo/MujeresDigitales/blob/main/OPCIONAL_TALLER2.ipynb\" target=\"_parent\"><img src=\"https://colab.research.google.com/assets/colab-badge.svg\" alt=\"Open In Colab\"/></a>"
      ]
    },
    {
      "cell_type": "code",
      "metadata": {
        "id": "2zWxLbV5oeq5"
      },
      "source": [
        "import pandas as pd\n",
        "datos = pd.DataFrame(columns=['PAÍS','HABITANTES','ÁREA'], index=range(3))\n",
        "datos.iloc[0] = ['Colombia',8,2]\n",
        "datos.iloc[1] = ['Venezuela',5,3]\n",
        "datos.iloc[2] = ['Perú',10,9]"
      ],
      "execution_count": 89,
      "outputs": []
    },
    {
      "cell_type": "code",
      "metadata": {
        "colab": {
          "base_uri": "https://localhost:8080/",
          "height": 142
        },
        "id": "lZIDtxkrrP6x",
        "outputId": "2e8984a2-656a-4b18-b341-ab61d4e2f261"
      },
      "source": [
        "datos"
      ],
      "execution_count": 90,
      "outputs": [
        {
          "output_type": "execute_result",
          "data": {
            "text/html": [
              "<div>\n",
              "<style scoped>\n",
              "    .dataframe tbody tr th:only-of-type {\n",
              "        vertical-align: middle;\n",
              "    }\n",
              "\n",
              "    .dataframe tbody tr th {\n",
              "        vertical-align: top;\n",
              "    }\n",
              "\n",
              "    .dataframe thead th {\n",
              "        text-align: right;\n",
              "    }\n",
              "</style>\n",
              "<table border=\"1\" class=\"dataframe\">\n",
              "  <thead>\n",
              "    <tr style=\"text-align: right;\">\n",
              "      <th></th>\n",
              "      <th>PAÍS</th>\n",
              "      <th>HABITANTES</th>\n",
              "      <th>ÁREA</th>\n",
              "    </tr>\n",
              "  </thead>\n",
              "  <tbody>\n",
              "    <tr>\n",
              "      <th>0</th>\n",
              "      <td>Colombia</td>\n",
              "      <td>8</td>\n",
              "      <td>2</td>\n",
              "    </tr>\n",
              "    <tr>\n",
              "      <th>1</th>\n",
              "      <td>Venezuela</td>\n",
              "      <td>5</td>\n",
              "      <td>3</td>\n",
              "    </tr>\n",
              "    <tr>\n",
              "      <th>2</th>\n",
              "      <td>Perú</td>\n",
              "      <td>10</td>\n",
              "      <td>9</td>\n",
              "    </tr>\n",
              "  </tbody>\n",
              "</table>\n",
              "</div>"
            ],
            "text/plain": [
              "        PAÍS HABITANTES ÁREA\n",
              "0   Colombia          8    2\n",
              "1  Venezuela          5    3\n",
              "2       Perú         10    9"
            ]
          },
          "metadata": {},
          "execution_count": 90
        }
      ]
    },
    {
      "cell_type": "code",
      "metadata": {
        "colab": {
          "base_uri": "https://localhost:8080/"
        },
        "id": "VyOTxO9JSJWZ",
        "outputId": "7804d398-503e-4590-afa0-f7e715b2658c"
      },
      "source": [
        "alto = df.loc[0,'HABITANTES']\n",
        "\n",
        "def poblacion(df):\n",
        "    for i in range(1,len(df)):\n",
        "      if df.loc[i,'HABITANTES'] > df.loc[i-1,'HABITANTES'] and df.loc[i,'HABITANTES'] > alto:\n",
        "         df.loc[i,'POBLACIÓN'] = df.loc[i,'HABITANTES'] - alto\n",
        "         alto = df.loc[i,'HABITANTES']\n",
        "      else:\n",
        "        df.loc[i,'POBLACIÓN'] = 0\n",
        "\n",
        "    return (Df)\n",
        "\n",
        "print(df)"
      ],
      "execution_count": 91,
      "outputs": [
        {
          "output_type": "stream",
          "text": [
            "         PAÍS HABITANTES ÁREA  DENSIDAD\n",
            "0         NaN        NaN  NaN       NaN\n",
            "1         NaN          0  NaN       NaN\n",
            "2         NaN          0  NaN       NaN\n",
            "DENSIDAD  NaN        NaN  NaN       NaN\n"
          ],
          "name": "stdout"
        }
      ]
    },
    {
      "cell_type": "code",
      "metadata": {
        "colab": {
          "base_uri": "https://localhost:8080/"
        },
        "id": "VID2s5Qfronm",
        "outputId": "73817272-a4d0-4047-80e7-50e64eaa0e10"
      },
      "source": [
        "def funcion(df):\n",
        "    densidad_poblacion = 0\n",
        "    poblacion = 0\n",
        "    for x in df:\n",
        "        habitantes = df.loc[:,'HABITANTES'] \n",
        "        area = df.loc[:,'ÁREA'] \n",
        "        densidad_poblacion = habitantes / area\n",
        "    df.loc['DENSIDAD'] = densidad_poblacion\n",
        "    \n",
        "    return df\n",
        "\n",
        "print(funcion(df))"
      ],
      "execution_count": 66,
      "outputs": [
        {
          "output_type": "stream",
          "text": [
            "         PAÍS HABITANTES ÁREA  DENSIDAD\n",
            "0         NaN        NaN  NaN       NaN\n",
            "1         NaN        NaN  NaN       NaN\n",
            "2         NaN        NaN  NaN       NaN\n",
            "DENSIDAD  NaN        NaN  NaN       NaN\n"
          ],
          "name": "stdout"
        }
      ]
    }
  ]
}