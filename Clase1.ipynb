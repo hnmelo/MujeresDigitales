{
  "nbformat": 4,
  "nbformat_minor": 0,
  "metadata": {
    "colab": {
      "name": "Untitled1.ipynb",
      "provenance": [],
      "authorship_tag": "ABX9TyMj+j+YK6DQeDi5WfJSSYAG",
      "include_colab_link": true
    },
    "kernelspec": {
      "name": "python3",
      "display_name": "Python 3"
    },
    "language_info": {
      "name": "python"
    }
  },
  "cells": [
    {
      "cell_type": "markdown",
      "metadata": {
        "id": "view-in-github",
        "colab_type": "text"
      },
      "source": [
        "<a href=\"https://colab.research.google.com/github/hnmelo/MujeresDigitales/blob/main/Clase1.ipynb\" target=\"_parent\"><img src=\"https://colab.research.google.com/assets/colab-badge.svg\" alt=\"Open In Colab\"/></a>"
      ]
    },
    {
      "cell_type": "code",
      "metadata": {
        "id": "a8flyBw5GMzH"
      },
      "source": [
        ""
      ],
      "execution_count": null,
      "outputs": []
    },
    {
      "cell_type": "markdown",
      "metadata": {
        "id": "FLgmV4UYGWA5"
      },
      "source": [
        "**INTRODUCCIÓN**\n",
        "\n",
        "---\n",
        "En python hay varios tipós de datos, estos datos son compuestos y están disponibles por defecto en los intérpretes.\n",
        "**¿De qué tipos?**\n",
        "1. Numéricos\n",
        "2. Secuencia\n",
        "3. Mapeos\n",
        "4. Conjuntos usados para agrupar otros valores\n",
        "**Diferencia entre constantes y variables**\n",
        "En matemáticas llamamos constante a una magnitud que no cambia con el paso del tiempo.\n",
        "Ejemplo: En contabilidad, Gastos fijos_ muebles de oficina.\n",
        "Ejemplo 2: 6.\n",
        "Pero por otro lado el concepto de variable la podemos definir como la cantidad que es susceptible a tomar distintos valores numéricos.\n",
        "**Por ejemplo:** \n"
      ]
    },
    {
      "cell_type": "code",
      "metadata": {
        "colab": {
          "base_uri": "https://localhost:8080/"
        },
        "id": "OUcb-IEMImM4",
        "outputId": "4830f918-2a5b-4ca6-fb8c-998cca1aab5a"
      },
      "source": [
        "x=80\n",
        "print(x)"
      ],
      "execution_count": 3,
      "outputs": [
        {
          "output_type": "stream",
          "text": [
            "80\n"
          ],
          "name": "stdout"
        }
      ]
    },
    {
      "cell_type": "markdown",
      "metadata": {
        "id": "n3KnqR_TJGef"
      },
      "source": [
        "**TIPOS DE DATOS**\n",
        "\n",
        "\n",
        "---\n",
        "**Enteros:**\n",
        "1. Son los numeros que no tienen decimales.\n",
        "2. Pueden ser positivos o negativos\n",
        "3. Comando INT\n",
        "\n",
        "\n",
        "\n"
      ]
    },
    {
      "cell_type": "code",
      "metadata": {
        "id": "0BdtxDbtJebL"
      },
      "source": [
        "a=int(3)\n",
        "print=(a)"
      ],
      "execution_count": 5,
      "outputs": []
    }
  ]
}