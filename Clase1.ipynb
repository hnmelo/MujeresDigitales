{
  "nbformat": 4,
  "nbformat_minor": 0,
  "metadata": {
    "colab": {
      "name": "Untitled1.ipynb",
      "provenance": [],
      "include_colab_link": true
    },
    "kernelspec": {
      "name": "python3",
      "display_name": "Python 3"
    },
    "language_info": {
      "name": "python"
    }
  },
  "cells": [
    {
      "cell_type": "markdown",
      "metadata": {
        "id": "view-in-github",
        "colab_type": "text"
      },
      "source": [
        "<a href=\"https://colab.research.google.com/github/hnmelo/MujeresDigitales/blob/main/Clase1.ipynb\" target=\"_parent\"><img src=\"https://colab.research.google.com/assets/colab-badge.svg\" alt=\"Open In Colab\"/></a>"
      ]
    },
    {
      "cell_type": "markdown",
      "metadata": {
        "id": "FLgmV4UYGWA5"
      },
      "source": [
        "**INTRODUCCIÓN**\n",
        "\n",
        "---\n",
        "Para manejar un **código limpio en Python,** se deben seguir las siguientes recomendaciones:\n",
        "1. Manejar siempre minúscula\n",
        "2. Se les puede añadir números\n",
        "3. Aparecerá error si no están seguidos la declaración de la variable con el número asignado, es decir, ejemplo: Ana1 **Es correcto**. Ana 1 **Es incorrecto**\n",
        "\n",
        "\n",
        "---\n",
        "\n",
        "\n",
        "En python hay varios tipós de datos, estos datos son compuestos y están disponibles por defecto en los intérpretes.\n",
        "**¿De qué tipos?**\n",
        "1. Numéricos\n",
        "2. Secuencia\n",
        "3. Mapeos\n",
        "4. Conjuntos usados para agrupar otros valores\n",
        "**Diferencia entre constantes y variables**\n",
        "En matemáticas llamamos constante a una magnitud que no cambia con el paso del tiempo.\n",
        "Ejemplo: En contabilidad, Gastos fijos_ muebles de oficina.\n",
        "Ejemplo 2: 6.\n",
        "Pero por otro lado el concepto de variable la podemos definir como la cantidad que es susceptible a tomar distintos valores numéricos.\n",
        "**Por ejemplo:** \n"
      ]
    },
    {
      "cell_type": "code",
      "metadata": {
        "colab": {
          "base_uri": "https://localhost:8080/"
        },
        "id": "OUcb-IEMImM4",
        "outputId": "4830f918-2a5b-4ca6-fb8c-998cca1aab5a"
      },
      "source": [
        "x=80\n",
        "print(x)"
      ],
      "execution_count": null,
      "outputs": [
        {
          "output_type": "stream",
          "text": [
            "80\n"
          ],
          "name": "stdout"
        }
      ]
    },
    {
      "cell_type": "markdown",
      "metadata": {
        "id": "n3KnqR_TJGef"
      },
      "source": [
        "**TIPOS DE DATOS**\n",
        "\n",
        "\n",
        "---\n",
        "**Enteros:**\n",
        "1. Son los numeros que no tienen decimales.\n",
        "2. Pueden ser positivos o negativos\n",
        "3. Comando INT\n",
        "\n",
        "\n",
        "\n"
      ]
    },
    {
      "cell_type": "code",
      "metadata": {
        "id": "0BdtxDbtJebL"
      },
      "source": [
        "a=int(3)\n",
        "print=(a)"
      ],
      "execution_count": null,
      "outputs": []
    },
    {
      "cell_type": "markdown",
      "metadata": {
        "id": "oqp7o5QaJ_dT"
      },
      "source": [
        ""
      ]
    },
    {
      "cell_type": "markdown",
      "metadata": {
        "id": "O52X8jDyKYLy"
      },
      "source": [
        "El comando **Int** es para hacer alución a los números enteros, aparte el comando float permite valores con decimales"
      ]
    },
    {
      "cell_type": "code",
      "metadata": {
        "colab": {
          "base_uri": "https://localhost:8080/"
        },
        "id": "p8zUr2MYLp4p",
        "outputId": "f02c3e55-98eb-475c-d5d5-2ab65a50eb70"
      },
      "source": [
        "b=float(5.69333)\n",
        "print(b)"
      ],
      "execution_count": null,
      "outputs": [
        {
          "output_type": "stream",
          "text": [
            "5.69333\n"
          ],
          "name": "stdout"
        }
      ]
    },
    {
      "cell_type": "markdown",
      "metadata": {
        "id": "t8iG7l6nL0kX"
      },
      "source": [
        "**Tipo cadena**\n",
        "\n",
        "---\n",
        "\n",
        "\n",
        "\n",
        "---\n",
        "Las cadenas de texto encerrado entre comillas \"\", pueden ser simples **''** o dobles **\"\"**, y se pueden conformar de diferentes caracteres (Numéricos, alfabéticos o especiales(**#,$,+,*,%**); hay que tener en cuenta que con estas cadenas admiten operadores como la suma y la resta.\n",
        "(Variables string).\n",
        "\n",
        "\n",
        "\n"
      ]
    },
    {
      "cell_type": "code",
      "metadata": {
        "colab": {
          "base_uri": "https://localhost:8080/"
        },
        "id": "XiBMjO3NMl9X",
        "outputId": "555014c7-f8c3-4434-b945-680b1e0ecd92"
      },
      "source": [
        "val2=\"Hola mundo\"\n",
        "print(val2)\n",
        "val1=\"Helennnnnn\"\n",
        "print(val1)\n"
      ],
      "execution_count": null,
      "outputs": [
        {
          "output_type": "stream",
          "text": [
            "Hola mundo\n",
            "Helennnnnn\n"
          ],
          "name": "stdout"
        }
      ]
    },
    {
      "cell_type": "code",
      "metadata": {
        "colab": {
          "base_uri": "https://localhost:8080/"
        },
        "id": "jGXWa2USNOp_",
        "outputId": "0c9fa8be-1117-4ce8-a242-ee491e9463cf"
      },
      "source": [
        "n='aprender'\n",
        "z='Python'\n",
        "x='Aprender python'\n",
        "print(n,z)\n",
        "print(x)"
      ],
      "execution_count": null,
      "outputs": [
        {
          "output_type": "stream",
          "text": [
            "aprender Python\n",
            "Aprender python\n"
          ],
          "name": "stdout"
        }
      ]
    },
    {
      "cell_type": "markdown",
      "metadata": {
        "id": "ug3k1yMTQMTj"
      },
      "source": [
        "**Tipo Booleanos:**\n",
        "\n",
        "\n",
        "---\n",
        "Este tipo de variables sólo tendrá un valor de verdadero o falso:\n",
        "**Nota:**\n",
        "Son valores muy usados en condiciones y bucles.\n",
        "\n"
      ]
    },
    {
      "cell_type": "code",
      "metadata": {
        "id": "PKeWz1YZR5vL",
        "colab": {
          "base_uri": "https://localhost:8080/"
        },
        "outputId": "a082f953-d58c-474b-bc51-b5f7f2156d44"
      },
      "source": [
        "lola=True\n",
        "print(\"El valor es verdadero\",lola, \"el cual es de tipo\",type(lola))"
      ],
      "execution_count": null,
      "outputs": [
        {
          "output_type": "stream",
          "text": [
            "El valor es verdadero True el cual es de tipo <class 'bool'>\n"
          ],
          "name": "stdout"
        }
      ]
    },
    {
      "cell_type": "markdown",
      "metadata": {
        "id": "1ShqxN1Bqscp"
      },
      "source": [
        "Python cuenta con tipos de datos que admiten colecciones:\n",
        "1. Listas\n",
        "2. Tuplas\n",
        "3. Diccionarios\n",
        "**Tipos de conjuntos**\n",
        "Son una colección de datos sin elementos que se repiten. **Ejemplo:**"
      ]
    },
    {
      "cell_type": "code",
      "metadata": {
        "id": "gDeikB-jreDH",
        "colab": {
          "base_uri": "https://localhost:8080/"
        },
        "outputId": "cb534141-0494-4c43-dcce-f8142a01cb7b"
      },
      "source": [
        "fruta='pera','naranja','mango'\n",
        "print(fruta)\n",
        "color='morado','azul','naranja'\n",
        "print(fruta,color)"
      ],
      "execution_count": null,
      "outputs": [
        {
          "output_type": "stream",
          "text": [
            "('pera', 'naranja', 'mango')\n",
            "('pera', 'naranja', 'mango') ('morado', 'azul', 'naranja')\n"
          ],
          "name": "stdout"
        }
      ]
    },
    {
      "cell_type": "markdown",
      "metadata": {
        "id": "2Soab-5KsAUy"
      },
      "source": [
        "**Tipos de listas:**\n",
        "\n",
        "---\n",
        "Son listas las que almacenan vectores: Ejemplos de listas en python.\n",
        "\n"
      ]
    },
    {
      "cell_type": "code",
      "metadata": {
        "id": "7INZiGFV93Wa",
        "colab": {
          "base_uri": "https://localhost:8080/",
          "height": 198
        },
        "outputId": "52880b20-8cda-4a6a-8b49-6960613a7f03"
      },
      "source": [
        "ines=['s','uva','lila','perro','celular','micro','botella','tetero','10']\n",
        "print=(ines)\n",
        "fe=ines[0:2]\n",
        "print(fe)"
      ],
      "execution_count": 2,
      "outputs": [
        {
          "output_type": "error",
          "ename": "TypeError",
          "evalue": "ignored",
          "traceback": [
            "\u001b[0;31m---------------------------------------------------------------------------\u001b[0m",
            "\u001b[0;31mTypeError\u001b[0m                                 Traceback (most recent call last)",
            "\u001b[0;32m<ipython-input-2-08752d139054>\u001b[0m in \u001b[0;36m<module>\u001b[0;34m()\u001b[0m\n\u001b[1;32m      2\u001b[0m \u001b[0mprint\u001b[0m\u001b[0;34m=\u001b[0m\u001b[0;34m(\u001b[0m\u001b[0mines\u001b[0m\u001b[0;34m)\u001b[0m\u001b[0;34m\u001b[0m\u001b[0;34m\u001b[0m\u001b[0m\n\u001b[1;32m      3\u001b[0m \u001b[0mfe\u001b[0m\u001b[0;34m=\u001b[0m\u001b[0mines\u001b[0m\u001b[0;34m[\u001b[0m\u001b[0;36m0\u001b[0m\u001b[0;34m:\u001b[0m\u001b[0;36m2\u001b[0m\u001b[0;34m]\u001b[0m\u001b[0;34m\u001b[0m\u001b[0;34m\u001b[0m\u001b[0m\n\u001b[0;32m----> 4\u001b[0;31m \u001b[0mprint\u001b[0m\u001b[0;34m(\u001b[0m\u001b[0mfe\u001b[0m\u001b[0;34m)\u001b[0m\u001b[0;34m\u001b[0m\u001b[0;34m\u001b[0m\u001b[0m\n\u001b[0m",
            "\u001b[0;31mTypeError\u001b[0m: 'list' object is not callable"
          ]
        }
      ]
    }
  ]
}