{
  "nbformat": 4,
  "nbformat_minor": 0,
  "metadata": {
    "colab": {
      "name": "Taller semana 5.ipynb",
      "provenance": [],
      "collapsed_sections": [],
      "include_colab_link": true
    },
    "kernelspec": {
      "name": "python3",
      "display_name": "Python 3"
    },
    "language_info": {
      "name": "python"
    }
  },
  "cells": [
    {
      "cell_type": "markdown",
      "metadata": {
        "id": "view-in-github",
        "colab_type": "text"
      },
      "source": [
        "<a href=\"https://colab.research.google.com/github/hnmelo/MujeresDigitales/blob/main/Taller_semana_5.ipynb\" target=\"_parent\"><img src=\"https://colab.research.google.com/assets/colab-badge.svg\" alt=\"Open In Colab\"/></a>"
      ]
    },
    {
      "cell_type": "markdown",
      "metadata": {
        "id": "gruVMjwfVR_z"
      },
      "source": [
        "TALLER 5\n",
        "---\n",
        "**Helenn Nicole Melo Valbuena**\n",
        "\n",
        "Un fanático de pokemones le pide analizar los datos de pokemones, para esto se le proporciona un conjunto de datos en archivo csv. Este fanático le pide a usted como analista investigar cuales son los pokemones con mayor ataque."
      ]
    },
    {
      "cell_type": "code",
      "metadata": {
        "id": "k7kCoay597D2"
      },
      "source": [
        "import pandas as pd\n",
        "import matplotlib.pyplot as plt\n",
        "import seaborn as sns\n",
        "from scipy import stats"
      ],
      "execution_count": 82,
      "outputs": []
    },
    {
      "cell_type": "code",
      "metadata": {
        "id": "wx9ixLT6EmQv",
        "colab": {
          "base_uri": "https://localhost:8080/",
          "height": 0
        },
        "outputId": "dcf6d360-0d3f-4964-85dc-90b95ff401bb"
      },
      "source": [
        "df = pd.read_csv('pokemon_data.csv')\n",
        "df.head(1)"
      ],
      "execution_count": 83,
      "outputs": [
        {
          "output_type": "execute_result",
          "data": {
            "text/html": [
              "<div>\n",
              "<style scoped>\n",
              "    .dataframe tbody tr th:only-of-type {\n",
              "        vertical-align: middle;\n",
              "    }\n",
              "\n",
              "    .dataframe tbody tr th {\n",
              "        vertical-align: top;\n",
              "    }\n",
              "\n",
              "    .dataframe thead th {\n",
              "        text-align: right;\n",
              "    }\n",
              "</style>\n",
              "<table border=\"1\" class=\"dataframe\">\n",
              "  <thead>\n",
              "    <tr style=\"text-align: right;\">\n",
              "      <th></th>\n",
              "      <th>#</th>\n",
              "      <th>Name</th>\n",
              "      <th>Type 1</th>\n",
              "      <th>Type 2</th>\n",
              "      <th>HP</th>\n",
              "      <th>Attack</th>\n",
              "      <th>Defense</th>\n",
              "      <th>Sp. Atk</th>\n",
              "      <th>Sp. Def</th>\n",
              "      <th>Speed</th>\n",
              "      <th>Generation</th>\n",
              "      <th>Legendary</th>\n",
              "    </tr>\n",
              "  </thead>\n",
              "  <tbody>\n",
              "    <tr>\n",
              "      <th>0</th>\n",
              "      <td>1</td>\n",
              "      <td>Bulbasaur</td>\n",
              "      <td>Grass</td>\n",
              "      <td>Poison</td>\n",
              "      <td>45</td>\n",
              "      <td>49</td>\n",
              "      <td>49</td>\n",
              "      <td>65</td>\n",
              "      <td>65</td>\n",
              "      <td>45</td>\n",
              "      <td>1</td>\n",
              "      <td>False</td>\n",
              "    </tr>\n",
              "  </tbody>\n",
              "</table>\n",
              "</div>"
            ],
            "text/plain": [
              "   #       Name Type 1  Type 2  ...  Sp. Def  Speed  Generation  Legendary\n",
              "0  1  Bulbasaur  Grass  Poison  ...       65     45           1      False\n",
              "\n",
              "[1 rows x 12 columns]"
            ]
          },
          "metadata": {},
          "execution_count": 83
        }
      ]
    },
    {
      "cell_type": "markdown",
      "metadata": {
        "id": "WWVZnKFY9xsD"
      },
      "source": [
        "## Ejercicio 1:\n",
        "\n",
        "Calcule el promedio y la mediana del ataque de: \n",
        "1. Todos los pokemones\n",
        "2. Los pokemones agrupados por Legendary (es decir el promedio y mediana de pokemones legendarios y no legendarios)\n",
        "3. Los pokemones agrupados por Type 1"
      ]
    },
    {
      "cell_type": "code",
      "metadata": {
        "colab": {
          "base_uri": "https://localhost:8080/"
        },
        "id": "zAE4OAGa3VOf",
        "outputId": "ec60e7ef-513c-4548-dfc4-f011115dc598"
      },
      "source": [
        "print('El promedio de ataque de todos los pokemones es: ',df['Attack'].mean()) #PROMEDIO TODOS \n",
        "print('La mediana de ataque de todos los pokemones es: ',df['Attack'].median()) #MEDIANA TODOS"
      ],
      "execution_count": 84,
      "outputs": [
        {
          "output_type": "stream",
          "name": "stdout",
          "text": [
            "El promedio de ataque de todos los pokemones es:  79.00125\n",
            "La mediana de ataque de todos los pokemones es:  75.0\n"
          ]
        }
      ]
    },
    {
      "cell_type": "code",
      "metadata": {
        "colab": {
          "base_uri": "https://localhost:8080/"
        },
        "id": "hA15fo7--4HP",
        "outputId": "eedd3084-0fed-4043-a6c4-8c1a91ea4454"
      },
      "source": [
        "promlegend = df.groupby('Legendary').mean() \n",
        "medianlegend = df.groupby('Legendary').median()\n",
        "print('El promedio de ataque de los pokemones: ',promlegend.Attack) #PROMEDIO DE TIPO LEGENDARY\n",
        "print('La mediana de ataque de los pokemones: ',medianlegend.Attack) #MEDIANA DE TIPO LEGENDARY"
      ],
      "execution_count": 85,
      "outputs": [
        {
          "output_type": "stream",
          "name": "stdout",
          "text": [
            "El promedio de ataque de los pokemones:  Legendary\n",
            "False     75.669388\n",
            "True     116.676923\n",
            "Name: Attack, dtype: float64\n",
            "La mediana de ataque de los pokemones:  Legendary\n",
            "False     72\n",
            "True     110\n",
            "Name: Attack, dtype: int64\n"
          ]
        }
      ]
    },
    {
      "cell_type": "code",
      "metadata": {
        "colab": {
          "base_uri": "https://localhost:8080/"
        },
        "id": "yY4AfR8H_Edv",
        "outputId": "878c2631-5e36-4606-f93a-db420b055fa4"
      },
      "source": [
        "promtype1 = df.groupby('Type 1').mean()\n",
        "print('El promedio de ataque de los pokemones: ',promtype1.Attack) #PROMEDIO DE TIPO 1"
      ],
      "execution_count": 86,
      "outputs": [
        {
          "output_type": "stream",
          "name": "stdout",
          "text": [
            "El promedio de ataque de los pokemones:  Type 1\n",
            "Bug          70.971014\n",
            "Dark         88.387097\n",
            "Dragon      112.125000\n",
            "Electric     69.090909\n",
            "Fairy        61.529412\n",
            "Fighting     96.777778\n",
            "Fire         84.769231\n",
            "Flying       78.750000\n",
            "Ghost        73.781250\n",
            "Grass        73.214286\n",
            "Ground       95.750000\n",
            "Ice          72.750000\n",
            "Normal       73.469388\n",
            "Poison       74.678571\n",
            "Psychic      71.456140\n",
            "Rock         92.863636\n",
            "Steel        92.703704\n",
            "Water        74.151786\n",
            "Name: Attack, dtype: float64\n"
          ]
        }
      ]
    },
    {
      "cell_type": "code",
      "metadata": {
        "colab": {
          "base_uri": "https://localhost:8080/"
        },
        "id": "hGwv-b9A_Y72",
        "outputId": "e6f93035-cc52-4c83-9e84-197e8badc0d6"
      },
      "source": [
        "mediantype1 = df.groupby('Type 1').median()\n",
        "print('La mediana de ataque de los pokemones: ',mediantype1.Attack) #MEDIANA DE TIPO 1"
      ],
      "execution_count": 87,
      "outputs": [
        {
          "output_type": "stream",
          "name": "stdout",
          "text": [
            "La mediana de ataque de los pokemones:  Type 1\n",
            "Bug          65.0\n",
            "Dark         88.0\n",
            "Dragon      113.5\n",
            "Electric     65.0\n",
            "Fairy        52.0\n",
            "Fighting    100.0\n",
            "Fire         84.5\n",
            "Flying       85.0\n",
            "Ghost        66.0\n",
            "Grass        70.0\n",
            "Ground       85.0\n",
            "Ice          67.0\n",
            "Normal       70.5\n",
            "Poison       74.0\n",
            "Psychic      57.0\n",
            "Rock         95.0\n",
            "Steel        89.0\n",
            "Water        72.0\n",
            "Name: Attack, dtype: float64\n"
          ]
        }
      ]
    },
    {
      "cell_type": "markdown",
      "metadata": {
        "id": "icVwAqRB-71l"
      },
      "source": [
        "## Ejercicio 2:\n",
        "\n",
        "Grafique el ataque de los pokemones con un grafico boxplot para los siguientes casos:\n",
        "1. Todos los pokemones\n",
        "2. Los pokemones agrupados por Legendary (es decir el promedio y mediana de pokemones legendarios y no legendarios)\n",
        "3. Los pokemones agrupados por Type 1"
      ]
    },
    {
      "cell_type": "code",
      "metadata": {
        "id": "bXE3JA29DoU0"
      },
      "source": [
        "df.rename(columns={'Type 1' : 'Type_1','Type 2' : 'Type-2'}, inplace = True)"
      ],
      "execution_count": 88,
      "outputs": []
    },
    {
      "cell_type": "code",
      "metadata": {
        "colab": {
          "base_uri": "https://localhost:8080/",
          "height": 0
        },
        "id": "ROJtosJFTyEU",
        "outputId": "0e78fe17-3df1-4d93-a42c-e9d2db965b39"
      },
      "source": [
        "# POKEMONES POR ATTACK\n",
        "import plotly.express as px\n",
        "plt.style.use('ggplot')\n",
        "sns.set(rc={'figure.figsize':(12,10)})\n",
        "print('MEDIA: ',df.Attack.mean())\n",
        "print('MEDIANA: ',df.Attack.median())\n",
        "sns.boxplot( y = df.Attack, color= '#519AF7' )"
      ],
      "execution_count": 89,
      "outputs": [
        {
          "output_type": "stream",
          "name": "stdout",
          "text": [
            "MEDIA:  79.00125\n",
            "MEDIANA:  75.0\n"
          ]
        },
        {
          "output_type": "execute_result",
          "data": {
            "text/plain": [
              "<matplotlib.axes._subplots.AxesSubplot at 0x7ff6d542e410>"
            ]
          },
          "metadata": {},
          "execution_count": 89
        },
        {
          "output_type": "display_data",
          "data": {
            "image/png": "[encoded data removed]",
            "text/plain": [
              "<Figure size 864x720 with 1 Axes>"
            ]
          },
          "metadata": {}
        }
      ]
    },
    {
      "cell_type": "code",
      "metadata": {
        "colab": {
          "base_uri": "https://localhost:8080/",
          "height": 0
        },
        "id": "6zgScHSWVEgK",
        "outputId": "3efc9103-048a-47db-98d4-5d5941fe80ab"
      },
      "source": [
        "# POKEMONES LEGENDARIOS\n",
        "import plotly.express as px\n",
        "legends = df.Attack[df.Legendary == True]\n",
        "print('PROMEDIO: ',legends.mean())\n",
        "print('MEDIANA: ',legends.median())\n",
        "sns.boxplot(y=legends, palette='Set2')"
      ],
      "execution_count": 90,
      "outputs": [
        {
          "output_type": "stream",
          "name": "stdout",
          "text": [
            "PROMEDIO:  116.67692307692307\n",
            "MEDIANA:  110.0\n"
          ]
        },
        {
          "output_type": "execute_result",
          "data": {
            "text/plain": [
              "<matplotlib.axes._subplots.AxesSubplot at 0x7ff6d5264a10>"
            ]
          },
          "metadata": {},
          "execution_count": 90
        },
        {
          "output_type": "display_data",
          "data": {
            "image/png": "[encoded data removed]",
            "text/plain": [
              "<Figure size 864x720 with 1 Axes>"
            ]
          },
          "metadata": {}
        }
      ]
    },
    {
      "cell_type": "code",
      "metadata": {
        "colab": {
          "base_uri": "https://localhost:8080/",
          "height": 0
        },
        "id": "QLmkJSMjWNey",
        "outputId": "9575398c-6ccc-4321-d991-65d6eedc43dd"
      },
      "source": [
        "# POKEMONES NO LEGENDARIOS\n",
        "import plotly.express as px\n",
        "nolegends = df.Attack[df.Legendary == False]\n",
        "print('PROMEDIO: ',nolegends.mean())\n",
        "print('MEDIANA: ',nolegends.median())\n",
        "sns.boxplot(y = nolegends, color = 'yellow')"
      ],
      "execution_count": 91,
      "outputs": [
        {
          "output_type": "stream",
          "name": "stdout",
          "text": [
            "PROMEDIO:  75.66938775510204\n",
            "MEDIANA:  72.0\n"
          ]
        },
        {
          "output_type": "execute_result",
          "data": {
            "text/plain": [
              "<matplotlib.axes._subplots.AxesSubplot at 0x7ff6d54421d0>"
            ]
          },
          "metadata": {},
          "execution_count": 91
        },
        {
          "output_type": "display_data",
          "data": {
            "image/png": "[encoded data removed]",
            "text/plain": [
              "<Figure size 864x720 with 1 Axes>"
            ]
          },
          "metadata": {}
        }
      ]
    },
    {
      "cell_type": "code",
      "metadata": {
        "id": "H87jJGirHrPM",
        "outputId": "b95a537e-b1ce-48fa-9538-43613418e8b4",
        "colab": {
          "base_uri": "https://localhost:8080/",
          "height": 0
        }
      },
      "source": [
        "# POKEMONES POR TIPO 1\n",
        "sns.boxplot(x = df.Type_1, y = df.Attack)\n",
        "plt.xticks(rotation = 60)"
      ],
      "execution_count": 92,
      "outputs": [
        {
          "output_type": "execute_result",
          "data": {
            "text/plain": [
              "(array([ 0,  1,  2,  3,  4,  5,  6,  7,  8,  9, 10, 11, 12, 13, 14, 15, 16,\n",
              "        17]), <a list of 18 Text major ticklabel objects>)"
            ]
          },
          "metadata": {},
          "execution_count": 92
        },
        {
          "output_type": "display_data",
          "data": {
            "image/png": "[encoded data removed]",
            "text/plain": [
              "<Figure size 864x720 with 1 Axes>"
            ]
          },
          "metadata": {}
        }
      ]
    },
    {
      "cell_type": "code",
      "metadata": {
        "id": "l9nsnSeYKt_E",
        "outputId": "c6a85231-1b36-44b1-8dd6-dc64109b1c50",
        "colab": {
          "base_uri": "https://localhost:8080/"
        }
      },
      "source": [
        "print('PROMEDIOS de pokemones según:',df['Attack'].groupby(df['Type_1']).mean())"
      ],
      "execution_count": 93,
      "outputs": [
        {
          "output_type": "stream",
          "name": "stdout",
          "text": [
            "PROMEDIOS de pokemones según: Type_1\n",
            "Bug          70.971014\n",
            "Dark         88.387097\n",
            "Dragon      112.125000\n",
            "Electric     69.090909\n",
            "Fairy        61.529412\n",
            "Fighting     96.777778\n",
            "Fire         84.769231\n",
            "Flying       78.750000\n",
            "Ghost        73.781250\n",
            "Grass        73.214286\n",
            "Ground       95.750000\n",
            "Ice          72.750000\n",
            "Normal       73.469388\n",
            "Poison       74.678571\n",
            "Psychic      71.456140\n",
            "Rock         92.863636\n",
            "Steel        92.703704\n",
            "Water        74.151786\n",
            "Name: Attack, dtype: float64\n"
          ]
        }
      ]
    },
    {
      "cell_type": "code",
      "metadata": {
        "id": "rWAfyzfkK3rW",
        "outputId": "91a251bc-329f-46d1-c9d4-bf317d4aac80",
        "colab": {
          "base_uri": "https://localhost:8080/"
        }
      },
      "source": [
        "print('MEDIANA de pokemones según:',df['Attack'].groupby(df['Type_1']).median())"
      ],
      "execution_count": 94,
      "outputs": [
        {
          "output_type": "stream",
          "name": "stdout",
          "text": [
            "MEDIANA de pokemones según: Type_1\n",
            "Bug          65.0\n",
            "Dark         88.0\n",
            "Dragon      113.5\n",
            "Electric     65.0\n",
            "Fairy        52.0\n",
            "Fighting    100.0\n",
            "Fire         84.5\n",
            "Flying       85.0\n",
            "Ghost        66.0\n",
            "Grass        70.0\n",
            "Ground       85.0\n",
            "Ice          67.0\n",
            "Normal       70.5\n",
            "Poison       74.0\n",
            "Psychic      57.0\n",
            "Rock         95.0\n",
            "Steel        89.0\n",
            "Water        72.0\n",
            "Name: Attack, dtype: float64\n"
          ]
        }
      ]
    },
    {
      "cell_type": "markdown",
      "metadata": {
        "id": "tO65sHNiAmU9"
      },
      "source": [
        "## Ejercicio 3:\n",
        "\n",
        "Realice las siguientes pruebas de hipótesis:\n",
        "1. El promedio del ataque de los pokemones es mayor a 77\n",
        "2. El promedio del ataque de los pokemones legendarios es diferente a los no legendarios\n",
        "\n",
        "\n",
        "Y determine con un nivel de significancia del 5% (es decir $\\alpha$ = 0.05), si podemos rechazar o no las 3 hipótesis anteriores. "
      ]
    },
    {
      "cell_type": "code",
      "metadata": {
        "id": "lm4E5b5Yrmyy",
        "outputId": "0b7f5aa6-8a0e-468d-ccb1-8186806e3a8e",
        "colab": {
          "base_uri": "https://localhost:8080/"
        }
      },
      "source": [
        "df['Attack'].mean()"
      ],
      "execution_count": 96,
      "outputs": [
        {
          "output_type": "execute_result",
          "data": {
            "text/plain": [
              "79.00125"
            ]
          },
          "metadata": {},
          "execution_count": 96
        }
      ]
    },
    {
      "cell_type": "code",
      "metadata": {
        "id": "lBBOw5QtdDnP",
        "outputId": "4f5e7460-9818-43e3-9e19-1a14244493d0",
        "colab": {
          "base_uri": "https://localhost:8080/"
        }
      },
      "source": [
        "stats.ttest_1samp(df['Attack'], popmean=79.00125)"
      ],
      "execution_count": 99,
      "outputs": [
        {
          "output_type": "execute_result",
          "data": {
            "text/plain": [
              "Ttest_1sampResult(statistic=0.0, pvalue=1.0)"
            ]
          },
          "metadata": {},
          "execution_count": 99
        }
      ]
    },
    {
      "cell_type": "code",
      "metadata": {
        "id": "zcxwLItFtz6p"
      },
      "source": [
        "pvalue = 1.0\n",
        "alpha = 0.05\n",
        "\n",
        "if pvalue "
      ],
      "execution_count": null,
      "outputs": []
    }
  ]
}